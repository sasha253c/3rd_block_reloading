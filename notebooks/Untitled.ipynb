{
 "cells": [
  {
   "cell_type": "markdown",
   "metadata": {},
   "source": [
    "# 3rd Block. Reloading... Animation"
   ]
  },
  {
   "cell_type": "markdown",
   "metadata": {},
   "source": [
    "## Scrap data from  [here](https://www.athlinks.com/event/250405/results/Event/757258/Course/1285295/Results) and save to .csv file"
   ]
  },
  {
   "cell_type": "code",
   "execution_count": 9,
   "metadata": {},
   "outputs": [],
   "source": [
    "import json\n",
    "from pprint import pprint\n",
    "\n",
    "import requests\n",
    "from tqdm import tqdm_notebook\n",
    "import pandas as pd\n",
    "import seaborn as sns\n",
    "from matplotlib import pyplot as plt\n",
    "\n",
    "plt.figure(figsize=(12, 8))\n",
    "\n",
    "%matplotlib inline"
   ]
  },
  {
   "cell_type": "code",
   "execution_count": 36,
   "metadata": {},
   "outputs": [
    {
     "name": "stdout",
     "output_type": "stream",
     "text": [
      "https://alaska.athlinks.com/Events/Race/Result/Api/Event/{EVENT}/Course/{COURSE}/Bib/{ATHLET_NUM}\n"
     ]
    }
   ],
   "source": [
    "EVENT = 757258\n",
    "COURSE = 1285295\n",
    "URL = \"https://alaska.athlinks.com/Events/Race/Result/Api/Event/{EVENT}/Course/{COURSE}/Bib/{ATHLET_NUM}\" # .format(EVENT=EVENT, COURSE=COURSE)\n",
    "print(URL)"
   ]
  },
  {
   "cell_type": "code",
   "execution_count": 37,
   "metadata": {},
   "outputs": [],
   "source": [
    "r = requests.get(URL.format(EVENT=EVENT, COURSE=COURSE, ATHLET_NUM=71))"
   ]
  },
  {
   "cell_type": "code",
   "execution_count": 65,
   "metadata": {},
   "outputs": [],
   "source": [
    "data = r.json()"
   ]
  },
  {
   "cell_type": "code",
   "execution_count": 70,
   "metadata": {},
   "outputs": [
    {
     "data": {
      "text/plain": [
       "{'courses': [{'affiliateCourseId': '107790',\n",
       "   'affiliateEventId': '42969',\n",
       "   'courseId': 1290570,\n",
       "   'courseName': 'Sprint',\n",
       "   'coursePattern': '3:750.00;0:0.00;4:20000.00;0:0.00;1:5000.00',\n",
       "   'coursePatternCategory': '3:750.00;0:0.00;4:20000.00;0:0.00;1:5000.00',\n",
       "   'coursePatternDescription': '750M Swim, 0 Transition, 12.4Mi Bike/Cycle, 0 Transition, 3.1Mi Run',\n",
       "   'distUnit': 25750.0,\n",
       "   'divisionId': None,\n",
       "   'divisionName': 'Overall',\n",
       "   'eventCourseId': 1285295,\n",
       "   'isCtLive': True,\n",
       "   'isPublished': False,\n",
       "   'legCount': 0,\n",
       "   'legs': [],\n",
       "   'raceCategory': 'TriathlonMultisport',\n",
       "   'results': [{'affiliateCourseId': '107790',\n",
       "     'affiliateEventId': '42969',\n",
       "     'age': 0,\n",
       "     'ageRank': 13,\n",
       "     'beginChipTime': 0,\n",
       "     'bib': '71',\n",
       "     'brackets': [{'bracketName': 'Overall',\n",
       "       'bracketPublishResults': 1,\n",
       "       'bracketRankType': 'GUN',\n",
       "       'bracketTag': 'ALL',\n",
       "       'bracketType': 'OPEN',\n",
       "       'id': 1170065,\n",
       "       'pace': None,\n",
       "       'paceUnit': '--',\n",
       "       'rank': 67,\n",
       "       'time': '01:48:20',\n",
       "       'totalAthletes': 84},\n",
       "      {'bracketName': 'Male',\n",
       "       'bracketPublishResults': 1,\n",
       "       'bracketRankType': 'GUN',\n",
       "       'bracketTag': 'M',\n",
       "       'bracketType': 'SEX',\n",
       "       'id': 1170067,\n",
       "       'pace': None,\n",
       "       'paceUnit': '--',\n",
       "       'rank': 62,\n",
       "       'time': '01:48:20',\n",
       "       'totalAthletes': 72},\n",
       "      {'bracketName': 'M1829',\n",
       "       'bracketPublishResults': 1,\n",
       "       'bracketRankType': 'GUN',\n",
       "       'bracketTag': 'M1829',\n",
       "       'bracketType': 'OTHER',\n",
       "       'id': 1170068,\n",
       "       'pace': None,\n",
       "       'paceUnit': '--',\n",
       "       'rank': 13,\n",
       "       'time': '01:48:20',\n",
       "       'totalAthletes': 14}],\n",
       "     'city': 'Київ,',\n",
       "     'country': 'UA',\n",
       "     'counts': {'ageCount': 14, 'genderCount': 72, 'overallCount': 84},\n",
       "     'ctLiveEntryId': 39060263,\n",
       "     'ctLiveEventId': 42969,\n",
       "     'displayName': 'Олександр Кочин',\n",
       "     'distance': 25750,\n",
       "     'email': None,\n",
       "     'endChipTime': 1534585712.41,\n",
       "     'entryDate': '0001-01-01T00:00:00',\n",
       "     'entryId': 0,\n",
       "     'entryStatus': 'CONF',\n",
       "     'entryType': 'IND',\n",
       "     'eventTimeZone': 'Europe/Kiev',\n",
       "     'firstName': 'Олександр',\n",
       "     'genId': 67685911,\n",
       "     'genTime': 0,\n",
       "     'gender': 'M',\n",
       "     'genderRank': 62,\n",
       "     'gunPace': None,\n",
       "     'gunStartTime': 1534579212,\n",
       "     'intervalFull': 1,\n",
       "     'intervalId': 233575,\n",
       "     'intervalName': 'Full Course',\n",
       "     'intervalOrder': 1,\n",
       "     'intervalRaceType': 'multisport',\n",
       "     'intervalType': 'course',\n",
       "     'isClaimed': False,\n",
       "     'isCtLive': True,\n",
       "     'isValidEmail': True,\n",
       "     'ivGunMilliseconds': 850,\n",
       "     'ivGunTime': '01:48:20',\n",
       "     'ivGunTimeWithPenalty': '01:48:20',\n",
       "     'ivIsChipTime': 0,\n",
       "     'ivTimeWithPenalty': '01:48:20',\n",
       "     'ivTotalPenalty': '00:00:00',\n",
       "     'ivTotalPenaltySec': 0,\n",
       "     'lastName': 'Кочин',\n",
       "     'legs': [{'legId': 0,\n",
       "       'legName': None,\n",
       "       'legNumber': 1,\n",
       "       'paceString': 'null',\n",
       "       'paceUnit': None,\n",
       "       'rankA': 13,\n",
       "       'rankATotal': None,\n",
       "       'rankG': 66,\n",
       "       'rankGTotal': None,\n",
       "       'rankO': 75,\n",
       "       'rankOTotal': None,\n",
       "       'speed': None,\n",
       "       'ticks': None,\n",
       "       'ticksString': '00:27:47'},\n",
       "      {'legId': 0,\n",
       "       'legName': None,\n",
       "       'legNumber': 2,\n",
       "       'paceString': '00:03:21 min/100m',\n",
       "       'paceUnit': None,\n",
       "       'rankA': 13,\n",
       "       'rankATotal': None,\n",
       "       'rankG': 67,\n",
       "       'rankGTotal': None,\n",
       "       'rankO': 76,\n",
       "       'rankOTotal': None,\n",
       "       'speed': None,\n",
       "       'ticks': None,\n",
       "       'ticksString': '00:25:05'},\n",
       "      {'legId': 0,\n",
       "       'legName': None,\n",
       "       'legNumber': 3,\n",
       "       'paceString': 'null',\n",
       "       'paceUnit': None,\n",
       "       'rankA': 13,\n",
       "       'rankATotal': None,\n",
       "       'rankG': 63,\n",
       "       'rankGTotal': None,\n",
       "       'rankO': 72,\n",
       "       'rankOTotal': None,\n",
       "       'speed': None,\n",
       "       'ticks': None,\n",
       "       'ticksString': '01:19:19'},\n",
       "      {'legId': 0,\n",
       "       'legName': None,\n",
       "       'legNumber': 4,\n",
       "       'paceString': '15.51 km/hr',\n",
       "       'paceUnit': None,\n",
       "       'rankA': 13,\n",
       "       'rankATotal': None,\n",
       "       'rankG': 63,\n",
       "       'rankGTotal': None,\n",
       "       'rankO': 72,\n",
       "       'rankOTotal': None,\n",
       "       'speed': None,\n",
       "       'ticks': None,\n",
       "       'ticksString': '01:17:22'},\n",
       "      {'legId': 0,\n",
       "       'legName': None,\n",
       "       'legNumber': 5,\n",
       "       'paceString': '00:21:40 min/km',\n",
       "       'paceUnit': None,\n",
       "       'rankA': 13,\n",
       "       'rankATotal': None,\n",
       "       'rankG': 62,\n",
       "       'rankGTotal': None,\n",
       "       'rankO': 67,\n",
       "       'rankOTotal': None,\n",
       "       'speed': None,\n",
       "       'ticks': None,\n",
       "       'ticksString': '01:48:20'},\n",
       "      {'legId': 0,\n",
       "       'legName': None,\n",
       "       'legNumber': 6,\n",
       "       'paceString': 'null',\n",
       "       'paceUnit': None,\n",
       "       'rankA': 13,\n",
       "       'rankATotal': None,\n",
       "       'rankG': 62,\n",
       "       'rankGTotal': None,\n",
       "       'rankO': 67,\n",
       "       'rankOTotal': None,\n",
       "       'speed': None,\n",
       "       'ticks': None,\n",
       "       'ticksString': '01:48:20'}],\n",
       "     'messagingLock': 0,\n",
       "     'overallRank': 67,\n",
       "     'pace': None,\n",
       "     'paceUnit': '--',\n",
       "     'postalCode': None,\n",
       "     'primaryBracketId': 1170068,\n",
       "     'raceCustomInfo': None,\n",
       "     'raceEndTime': 1534591800.0,\n",
       "     'raceId': 107790,\n",
       "     'raceOrder': 1,\n",
       "     'raceStartTime': 1534579212,\n",
       "     'raceType': 'multisport',\n",
       "     'raceWantsPenalties': 1,\n",
       "     'raceWantsResults': 1,\n",
       "     'racerId': 0,\n",
       "     'resultCount': 0,\n",
       "     'seq': 13,\n",
       "     'showPersonalData': True,\n",
       "     'stateProv': '-',\n",
       "     'stateProvId': '--',\n",
       "     'teamType': None,\n",
       "     'ticks': 0,\n",
       "     'ticksString': '01:48:20',\n",
       "     'total': 9,\n",
       "     'totalFinishedAthletes': 84,\n",
       "     'useForMessaging': 1}],\n",
       "   'total': 0,\n",
       "   'totalAthletes': '107',\n",
       "   'totalAthletesForSelectedDivision': None,\n",
       "   'totalFinishedAthletes': 84}],\n",
       " 'eventId': 757258,\n",
       " 'eventName': '3rd Block. Reloading...',\n",
       " 'masterId': 250405}"
      ]
     },
     "execution_count": 70,
     "metadata": {},
     "output_type": "execute_result"
    }
   ],
   "source": [
    "data['result']"
   ]
  },
  {
   "cell_type": "code",
   "execution_count": null,
   "metadata": {},
   "outputs": [],
   "source": []
  },
  {
   "cell_type": "code",
   "execution_count": 57,
   "metadata": {},
   "outputs": [
    {
     "name": "stdout",
     "output_type": "stream",
     "text": [
      "{'legId': 0,\n",
      " 'legName': None,\n",
      " 'legNumber': 1,\n",
      " 'paceString': 'null',\n",
      " 'paceUnit': None,\n",
      " 'rankA': 13,\n",
      " 'rankATotal': None,\n",
      " 'rankG': 66,\n",
      " 'rankGTotal': None,\n",
      " 'rankO': 75,\n",
      " 'rankOTotal': None,\n",
      " 'speed': None,\n",
      " 'ticks': None,\n",
      " 'ticksString': '00:27:47'}\n",
      "{'legId': 0,\n",
      " 'legName': None,\n",
      " 'legNumber': 2,\n",
      " 'paceString': '00:03:21 min/100m',\n",
      " 'paceUnit': None,\n",
      " 'rankA': 13,\n",
      " 'rankATotal': None,\n",
      " 'rankG': 67,\n",
      " 'rankGTotal': None,\n",
      " 'rankO': 76,\n",
      " 'rankOTotal': None,\n",
      " 'speed': None,\n",
      " 'ticks': None,\n",
      " 'ticksString': '00:25:05'}\n",
      "{'legId': 0,\n",
      " 'legName': None,\n",
      " 'legNumber': 3,\n",
      " 'paceString': 'null',\n",
      " 'paceUnit': None,\n",
      " 'rankA': 13,\n",
      " 'rankATotal': None,\n",
      " 'rankG': 63,\n",
      " 'rankGTotal': None,\n",
      " 'rankO': 72,\n",
      " 'rankOTotal': None,\n",
      " 'speed': None,\n",
      " 'ticks': None,\n",
      " 'ticksString': '01:19:19'}\n",
      "{'legId': 0,\n",
      " 'legName': None,\n",
      " 'legNumber': 4,\n",
      " 'paceString': '15.51 km/hr',\n",
      " 'paceUnit': None,\n",
      " 'rankA': 13,\n",
      " 'rankATotal': None,\n",
      " 'rankG': 63,\n",
      " 'rankGTotal': None,\n",
      " 'rankO': 72,\n",
      " 'rankOTotal': None,\n",
      " 'speed': None,\n",
      " 'ticks': None,\n",
      " 'ticksString': '01:17:22'}\n",
      "{'legId': 0,\n",
      " 'legName': None,\n",
      " 'legNumber': 5,\n",
      " 'paceString': '00:21:40 min/km',\n",
      " 'paceUnit': None,\n",
      " 'rankA': 13,\n",
      " 'rankATotal': None,\n",
      " 'rankG': 62,\n",
      " 'rankGTotal': None,\n",
      " 'rankO': 67,\n",
      " 'rankOTotal': None,\n",
      " 'speed': None,\n",
      " 'ticks': None,\n",
      " 'ticksString': '01:48:20'}\n",
      "{'legId': 0,\n",
      " 'legName': None,\n",
      " 'legNumber': 6,\n",
      " 'paceString': 'null',\n",
      " 'paceUnit': None,\n",
      " 'rankA': 13,\n",
      " 'rankATotal': None,\n",
      " 'rankG': 62,\n",
      " 'rankGTotal': None,\n",
      " 'rankO': 67,\n",
      " 'rankOTotal': None,\n",
      " 'speed': None,\n",
      " 'ticks': None,\n",
      " 'ticksString': '01:48:20'}\n"
     ]
    }
   ],
   "source": [
    "for leg in r.json()['result']['courses'][0]['results'][0]['legs']:\n",
    "    pprint(leg)"
   ]
  },
  {
   "cell_type": "code",
   "execution_count": 59,
   "metadata": {},
   "outputs": [],
   "source": [
    "df = pd.DataFrame(r.json()['result']['courses'][0]['results'][0]['legs'])"
   ]
  },
  {
   "cell_type": "code",
   "execution_count": 63,
   "metadata": {},
   "outputs": [
    {
     "data": {
      "text/html": [
       "<div>\n",
       "<style scoped>\n",
       "    .dataframe tbody tr th:only-of-type {\n",
       "        vertical-align: middle;\n",
       "    }\n",
       "\n",
       "    .dataframe tbody tr th {\n",
       "        vertical-align: top;\n",
       "    }\n",
       "\n",
       "    .dataframe thead th {\n",
       "        text-align: right;\n",
       "    }\n",
       "</style>\n",
       "<table border=\"1\" class=\"dataframe\">\n",
       "  <thead>\n",
       "    <tr style=\"text-align: right;\">\n",
       "      <th></th>\n",
       "      <th>legId</th>\n",
       "      <th>legName</th>\n",
       "      <th>legNumber</th>\n",
       "      <th>paceString</th>\n",
       "      <th>paceUnit</th>\n",
       "      <th>rankA</th>\n",
       "      <th>rankATotal</th>\n",
       "      <th>rankG</th>\n",
       "      <th>rankGTotal</th>\n",
       "      <th>rankO</th>\n",
       "      <th>rankOTotal</th>\n",
       "      <th>speed</th>\n",
       "      <th>ticks</th>\n",
       "      <th>ticksString</th>\n",
       "    </tr>\n",
       "  </thead>\n",
       "  <tbody>\n",
       "    <tr>\n",
       "      <th>1</th>\n",
       "      <td>0</td>\n",
       "      <td>None</td>\n",
       "      <td>2</td>\n",
       "      <td>00:03:21 min/100m</td>\n",
       "      <td>None</td>\n",
       "      <td>13</td>\n",
       "      <td>None</td>\n",
       "      <td>67</td>\n",
       "      <td>None</td>\n",
       "      <td>76</td>\n",
       "      <td>None</td>\n",
       "      <td>None</td>\n",
       "      <td>None</td>\n",
       "      <td>00:25:05</td>\n",
       "    </tr>\n",
       "    <tr>\n",
       "      <th>0</th>\n",
       "      <td>0</td>\n",
       "      <td>None</td>\n",
       "      <td>1</td>\n",
       "      <td>null</td>\n",
       "      <td>None</td>\n",
       "      <td>13</td>\n",
       "      <td>None</td>\n",
       "      <td>66</td>\n",
       "      <td>None</td>\n",
       "      <td>75</td>\n",
       "      <td>None</td>\n",
       "      <td>None</td>\n",
       "      <td>None</td>\n",
       "      <td>00:27:47</td>\n",
       "    </tr>\n",
       "    <tr>\n",
       "      <th>3</th>\n",
       "      <td>0</td>\n",
       "      <td>None</td>\n",
       "      <td>4</td>\n",
       "      <td>15.51 km/hr</td>\n",
       "      <td>None</td>\n",
       "      <td>13</td>\n",
       "      <td>None</td>\n",
       "      <td>63</td>\n",
       "      <td>None</td>\n",
       "      <td>72</td>\n",
       "      <td>None</td>\n",
       "      <td>None</td>\n",
       "      <td>None</td>\n",
       "      <td>01:17:22</td>\n",
       "    </tr>\n",
       "    <tr>\n",
       "      <th>2</th>\n",
       "      <td>0</td>\n",
       "      <td>None</td>\n",
       "      <td>3</td>\n",
       "      <td>null</td>\n",
       "      <td>None</td>\n",
       "      <td>13</td>\n",
       "      <td>None</td>\n",
       "      <td>63</td>\n",
       "      <td>None</td>\n",
       "      <td>72</td>\n",
       "      <td>None</td>\n",
       "      <td>None</td>\n",
       "      <td>None</td>\n",
       "      <td>01:19:19</td>\n",
       "    </tr>\n",
       "    <tr>\n",
       "      <th>4</th>\n",
       "      <td>0</td>\n",
       "      <td>None</td>\n",
       "      <td>5</td>\n",
       "      <td>00:21:40 min/km</td>\n",
       "      <td>None</td>\n",
       "      <td>13</td>\n",
       "      <td>None</td>\n",
       "      <td>62</td>\n",
       "      <td>None</td>\n",
       "      <td>67</td>\n",
       "      <td>None</td>\n",
       "      <td>None</td>\n",
       "      <td>None</td>\n",
       "      <td>01:48:20</td>\n",
       "    </tr>\n",
       "    <tr>\n",
       "      <th>5</th>\n",
       "      <td>0</td>\n",
       "      <td>None</td>\n",
       "      <td>6</td>\n",
       "      <td>null</td>\n",
       "      <td>None</td>\n",
       "      <td>13</td>\n",
       "      <td>None</td>\n",
       "      <td>62</td>\n",
       "      <td>None</td>\n",
       "      <td>67</td>\n",
       "      <td>None</td>\n",
       "      <td>None</td>\n",
       "      <td>None</td>\n",
       "      <td>01:48:20</td>\n",
       "    </tr>\n",
       "  </tbody>\n",
       "</table>\n",
       "</div>"
      ],
      "text/plain": [
       "   legId legName  legNumber         paceString paceUnit  rankA rankATotal  \\\n",
       "1      0    None          2  00:03:21 min/100m     None     13       None   \n",
       "0      0    None          1               null     None     13       None   \n",
       "3      0    None          4        15.51 km/hr     None     13       None   \n",
       "2      0    None          3               null     None     13       None   \n",
       "4      0    None          5    00:21:40 min/km     None     13       None   \n",
       "5      0    None          6               null     None     13       None   \n",
       "\n",
       "   rankG rankGTotal  rankO rankOTotal speed ticks ticksString  \n",
       "1     67       None     76       None  None  None    00:25:05  \n",
       "0     66       None     75       None  None  None    00:27:47  \n",
       "3     63       None     72       None  None  None    01:17:22  \n",
       "2     63       None     72       None  None  None    01:19:19  \n",
       "4     62       None     67       None  None  None    01:48:20  \n",
       "5     62       None     67       None  None  None    01:48:20  "
      ]
     },
     "execution_count": 63,
     "metadata": {},
     "output_type": "execute_result"
    }
   ],
   "source": [
    "df.sort_values(by='ticksString')"
   ]
  },
  {
   "cell_type": "code",
   "execution_count": 100,
   "metadata": {},
   "outputs": [
    {
     "data": {
      "application/vnd.jupyter.widget-view+json": {
       "model_id": "766846143df7478d969caf1cf6f64294",
       "version_major": 2,
       "version_minor": 0
      },
      "text/html": [
       "<p>Failed to display Jupyter Widget of type <code>HBox</code>.</p>\n",
       "<p>\n",
       "  If you're reading this message in the Jupyter Notebook or JupyterLab Notebook, it may mean\n",
       "  that the widgets JavaScript is still loading. If this message persists, it\n",
       "  likely means that the widgets JavaScript library is either not installed or\n",
       "  not enabled. See the <a href=\"https://ipywidgets.readthedocs.io/en/stable/user_install.html\">Jupyter\n",
       "  Widgets Documentation</a> for setup instructions.\n",
       "</p>\n",
       "<p>\n",
       "  If you're reading this message in another frontend (for example, a static\n",
       "  rendering on GitHub or <a href=\"https://nbviewer.jupyter.org/\">NBViewer</a>),\n",
       "  it may mean that your frontend doesn't currently support widgets.\n",
       "</p>\n"
      ],
      "text/plain": [
       "HBox(children=(IntProgress(value=0, max=136), HTML(value='')))"
      ]
     },
     "metadata": {},
     "output_type": "display_data"
    },
    {
     "name": "stderr",
     "output_type": "stream",
     "text": [
      "/home/sasha253c/.local/lib/python3.5/site-packages/tqdm/_monitor.py:89: TqdmSynchronisationWarning: Set changed size during iteration (see https://github.com/tqdm/tqdm/issues/481)\n",
      "  TqdmSynchronisationWarning)\n"
     ]
    },
    {
     "name": "stdout",
     "output_type": "stream",
     "text": [
      "Error #18, list index out of range\n",
      "Error #20, list index out of range\n",
      "Error #27, list index out of range\n",
      "Error #35, list index out of range\n",
      "Error #37, list index out of range\n",
      "Error #41, list index out of range\n",
      "Error #42, list index out of range\n",
      "Error #45, list index out of range\n",
      "Error #47, not enough values to unpack (expected at least 5, got 2)\n",
      "Error #57, list index out of range\n",
      "Error #63, list index out of range\n",
      "Error #66, list index out of range\n",
      "Error #67, list index out of range\n",
      "Error #68, list index out of range\n",
      "Error #72, list index out of range\n",
      "Error #73, list index out of range\n",
      "Error #78, list index out of range\n",
      "Error #79, list index out of range\n",
      "Error #85, list index out of range\n",
      "Error #86, list index out of range\n",
      "Error #92, list index out of range\n",
      "Error #93, list index out of range\n",
      "Error #96, list index out of range\n",
      "Error #99, list index out of range\n",
      "Error #100, list index out of range\n",
      "Error #101, list index out of range\n",
      "Error #102, list index out of range\n",
      "Error #103, list index out of range\n",
      "Error #104, list index out of range\n",
      "Error #105, list index out of range\n",
      "Error #106, list index out of range\n",
      "Error #107, list index out of range\n",
      "Error #108, list index out of range\n",
      "Error #109, list index out of range\n",
      "Error #110, list index out of range\n",
      "Error #111, list index out of range\n",
      "Error #112, list index out of range\n",
      "Error #113, list index out of range\n",
      "Error #114, list index out of range\n",
      "Error #115, list index out of range\n",
      "Error #116, list index out of range\n",
      "Error #117, list index out of range\n",
      "Error #118, list index out of range\n",
      "Error #119, list index out of range\n",
      "Error #120, list index out of range\n",
      "Error #121, list index out of range\n",
      "Error #122, list index out of range\n",
      "Error #123, list index out of range\n",
      "Error #124, list index out of range\n",
      "Error #125, list index out of range\n",
      "Error #126, list index out of range\n",
      "Error #127, list index out of range\n",
      "Error #128, list index out of range\n",
      "Error #129, list index out of range\n",
      "Error #130, list index out of range\n",
      "Error #131, list index out of range\n",
      "Error #132, list index out of range\n",
      "Error #133, list index out of range\n",
      "Error #134, list index out of range\n",
      "Error #135, list index out of range\n",
      "Error #136, list index out of range\n",
      "\n"
     ]
    }
   ],
   "source": [
    "data = []\n",
    "for athlet_num in tqdm_notebook(range(1, 137)):\n",
    "    d = {}\n",
    "    r = requests.get(URL.format(EVENT=EVENT, COURSE=COURSE, ATHLET_NUM=athlet_num))\n",
    "    try:\n",
    "        d['bib'] = r.json()['result']['courses'][0]['results'][0]['bib']\n",
    "        d['name'] = r.json()['result']['courses'][0]['results'][0]['firstName']\n",
    "        d['surname'] = r.json()['result']['courses'][0]['results'][0]['lastName']\n",
    "        d['total_time'] = pd.Timedelta(r.json()['result']['courses'][0]['results'][0]['ivTimeWithPenalty'])\n",
    "        d['t_swim'], d['t_tranzit_1'], d['t_bike'], d['t_tranzit_2'], d['t_run'], *_ = sorted([pd.Timedelta(leg['ticksString']) for leg in r.json()['result']['courses'][0]['results'][0]['legs']])\n",
    "    except Exception as error:\n",
    "        print('Error #%s, %s' % (athlet_num, error))\n",
    "    else:\n",
    "        data.append(d)"
   ]
  },
  {
   "cell_type": "code",
   "execution_count": 152,
   "metadata": {},
   "outputs": [],
   "source": [
    "df = pd.DataFrame(data)"
   ]
  },
  {
   "cell_type": "code",
   "execution_count": 153,
   "metadata": {},
   "outputs": [
    {
     "data": {
      "text/html": [
       "<div>\n",
       "<style scoped>\n",
       "    .dataframe tbody tr th:only-of-type {\n",
       "        vertical-align: middle;\n",
       "    }\n",
       "\n",
       "    .dataframe tbody tr th {\n",
       "        vertical-align: top;\n",
       "    }\n",
       "\n",
       "    .dataframe thead th {\n",
       "        text-align: right;\n",
       "    }\n",
       "</style>\n",
       "<table border=\"1\" class=\"dataframe\">\n",
       "  <thead>\n",
       "    <tr style=\"text-align: right;\">\n",
       "      <th></th>\n",
       "      <th>bib</th>\n",
       "      <th>name</th>\n",
       "      <th>surname</th>\n",
       "      <th>t_bike</th>\n",
       "      <th>t_run</th>\n",
       "      <th>t_swim</th>\n",
       "      <th>t_tranzit_1</th>\n",
       "      <th>t_tranzit_2</th>\n",
       "      <th>total_time</th>\n",
       "    </tr>\n",
       "  </thead>\n",
       "  <tbody>\n",
       "    <tr>\n",
       "      <th>0</th>\n",
       "      <td>1</td>\n",
       "      <td>Олександр</td>\n",
       "      <td>Кудрик</td>\n",
       "      <td>00:52:22</td>\n",
       "      <td>01:17:42</td>\n",
       "      <td>00:16:20</td>\n",
       "      <td>00:17:44</td>\n",
       "      <td>00:53:38</td>\n",
       "      <td>01:17:42</td>\n",
       "    </tr>\n",
       "    <tr>\n",
       "      <th>1</th>\n",
       "      <td>2</td>\n",
       "      <td>Денис</td>\n",
       "      <td>Шиков</td>\n",
       "      <td>01:03:16</td>\n",
       "      <td>01:39:40</td>\n",
       "      <td>00:18:58</td>\n",
       "      <td>00:21:21</td>\n",
       "      <td>01:04:30</td>\n",
       "      <td>01:39:40</td>\n",
       "    </tr>\n",
       "    <tr>\n",
       "      <th>2</th>\n",
       "      <td>3</td>\n",
       "      <td>Сергій</td>\n",
       "      <td>Муравинець</td>\n",
       "      <td>00:53:05</td>\n",
       "      <td>01:19:14</td>\n",
       "      <td>00:13:05</td>\n",
       "      <td>00:14:57</td>\n",
       "      <td>00:54:24</td>\n",
       "      <td>01:19:14</td>\n",
       "    </tr>\n",
       "    <tr>\n",
       "      <th>3</th>\n",
       "      <td>4</td>\n",
       "      <td>Максим</td>\n",
       "      <td>П'ятенко</td>\n",
       "      <td>01:03:03</td>\n",
       "      <td>01:34:11</td>\n",
       "      <td>00:15:12</td>\n",
       "      <td>00:18:05</td>\n",
       "      <td>01:04:05</td>\n",
       "      <td>01:34:11</td>\n",
       "    </tr>\n",
       "    <tr>\n",
       "      <th>4</th>\n",
       "      <td>5</td>\n",
       "      <td>Сергій</td>\n",
       "      <td>Поліщук</td>\n",
       "      <td>01:05:38</td>\n",
       "      <td>01:36:31</td>\n",
       "      <td>00:22:13</td>\n",
       "      <td>00:24:16</td>\n",
       "      <td>01:07:51</td>\n",
       "      <td>01:36:31</td>\n",
       "    </tr>\n",
       "  </tbody>\n",
       "</table>\n",
       "</div>"
      ],
      "text/plain": [
       "  bib       name     surname   t_bike    t_run   t_swim t_tranzit_1  \\\n",
       "0   1  Олександр      Кудрик 00:52:22 01:17:42 00:16:20    00:17:44   \n",
       "1   2      Денис       Шиков 01:03:16 01:39:40 00:18:58    00:21:21   \n",
       "2   3     Сергій  Муравинець 00:53:05 01:19:14 00:13:05    00:14:57   \n",
       "3   4     Максим    П'ятенко 01:03:03 01:34:11 00:15:12    00:18:05   \n",
       "4   5     Сергій     Поліщук 01:05:38 01:36:31 00:22:13    00:24:16   \n",
       "\n",
       "  t_tranzit_2 total_time  \n",
       "0    00:53:38   01:17:42  \n",
       "1    01:04:30   01:39:40  \n",
       "2    00:54:24   01:19:14  \n",
       "3    01:04:05   01:34:11  \n",
       "4    01:07:51   01:36:31  "
      ]
     },
     "execution_count": 153,
     "metadata": {},
     "output_type": "execute_result"
    }
   ],
   "source": [
    "df.head()"
   ]
  },
  {
   "cell_type": "code",
   "execution_count": 155,
   "metadata": {},
   "outputs": [
    {
     "data": {
      "text/plain": [
       "Index(['bib', 'name', 'surname', 't_bike', 't_run', 't_swim', 't_tranzit_1',\n",
       "       't_tranzit_2', 'total_time'],\n",
       "      dtype='object')"
      ]
     },
     "execution_count": 155,
     "metadata": {},
     "output_type": "execute_result"
    }
   ],
   "source": [
    "df.columns"
   ]
  },
  {
   "cell_type": "code",
   "execution_count": 189,
   "metadata": {},
   "outputs": [],
   "source": [
    "# time in zone\n",
    "leg_columns = ('t_run', 't_tranzit_2', 't_bike', 't_tranzit_1', 't_swim')\n",
    "for i, j in zip(leg_columns, leg_columns[1:]):    \n",
    "    df[i] -= df[j]"
   ]
  },
  {
   "cell_type": "code",
   "execution_count": 178,
   "metadata": {},
   "outputs": [
    {
     "data": {
      "text/html": [
       "<div>\n",
       "<style scoped>\n",
       "    .dataframe tbody tr th:only-of-type {\n",
       "        vertical-align: middle;\n",
       "    }\n",
       "\n",
       "    .dataframe tbody tr th {\n",
       "        vertical-align: top;\n",
       "    }\n",
       "\n",
       "    .dataframe thead th {\n",
       "        text-align: right;\n",
       "    }\n",
       "</style>\n",
       "<table border=\"1\" class=\"dataframe\">\n",
       "  <thead>\n",
       "    <tr style=\"text-align: right;\">\n",
       "      <th></th>\n",
       "      <th>bib</th>\n",
       "      <th>name</th>\n",
       "      <th>surname</th>\n",
       "      <th>t_bike</th>\n",
       "      <th>t_run</th>\n",
       "      <th>t_swim</th>\n",
       "      <th>t_tranzit_1</th>\n",
       "      <th>t_tranzit_2</th>\n",
       "      <th>total_time</th>\n",
       "    </tr>\n",
       "  </thead>\n",
       "  <tbody>\n",
       "    <tr>\n",
       "      <th>0</th>\n",
       "      <td>1</td>\n",
       "      <td>Олександр</td>\n",
       "      <td>Кудрик</td>\n",
       "      <td>00:34:38</td>\n",
       "      <td>00:24:04</td>\n",
       "      <td>00:16:20</td>\n",
       "      <td>00:01:24</td>\n",
       "      <td>00:01:16</td>\n",
       "      <td>01:17:42</td>\n",
       "    </tr>\n",
       "    <tr>\n",
       "      <th>1</th>\n",
       "      <td>2</td>\n",
       "      <td>Денис</td>\n",
       "      <td>Шиков</td>\n",
       "      <td>00:41:55</td>\n",
       "      <td>00:35:10</td>\n",
       "      <td>00:18:58</td>\n",
       "      <td>00:02:23</td>\n",
       "      <td>00:01:14</td>\n",
       "      <td>01:39:40</td>\n",
       "    </tr>\n",
       "    <tr>\n",
       "      <th>2</th>\n",
       "      <td>3</td>\n",
       "      <td>Сергій</td>\n",
       "      <td>Муравинець</td>\n",
       "      <td>00:38:08</td>\n",
       "      <td>00:24:50</td>\n",
       "      <td>00:13:05</td>\n",
       "      <td>00:01:52</td>\n",
       "      <td>00:01:19</td>\n",
       "      <td>01:19:14</td>\n",
       "    </tr>\n",
       "    <tr>\n",
       "      <th>3</th>\n",
       "      <td>4</td>\n",
       "      <td>Максим</td>\n",
       "      <td>П'ятенко</td>\n",
       "      <td>00:44:58</td>\n",
       "      <td>00:30:06</td>\n",
       "      <td>00:15:12</td>\n",
       "      <td>00:02:53</td>\n",
       "      <td>00:01:02</td>\n",
       "      <td>01:34:11</td>\n",
       "    </tr>\n",
       "    <tr>\n",
       "      <th>4</th>\n",
       "      <td>5</td>\n",
       "      <td>Сергій</td>\n",
       "      <td>Поліщук</td>\n",
       "      <td>00:41:22</td>\n",
       "      <td>00:28:40</td>\n",
       "      <td>00:22:13</td>\n",
       "      <td>00:02:03</td>\n",
       "      <td>00:02:13</td>\n",
       "      <td>01:36:31</td>\n",
       "    </tr>\n",
       "  </tbody>\n",
       "</table>\n",
       "</div>"
      ],
      "text/plain": [
       "  bib       name     surname   t_bike    t_run   t_swim t_tranzit_1  \\\n",
       "0   1  Олександр      Кудрик 00:34:38 00:24:04 00:16:20    00:01:24   \n",
       "1   2      Денис       Шиков 00:41:55 00:35:10 00:18:58    00:02:23   \n",
       "2   3     Сергій  Муравинець 00:38:08 00:24:50 00:13:05    00:01:52   \n",
       "3   4     Максим    П'ятенко 00:44:58 00:30:06 00:15:12    00:02:53   \n",
       "4   5     Сергій     Поліщук 00:41:22 00:28:40 00:22:13    00:02:03   \n",
       "\n",
       "  t_tranzit_2 total_time  \n",
       "0    00:01:16   01:17:42  \n",
       "1    00:01:14   01:39:40  \n",
       "2    00:01:19   01:19:14  \n",
       "3    00:01:02   01:34:11  \n",
       "4    00:02:13   01:36:31  "
      ]
     },
     "execution_count": 178,
     "metadata": {},
     "output_type": "execute_result"
    }
   ],
   "source": [
    "df.head()"
   ]
  },
  {
   "cell_type": "code",
   "execution_count": 172,
   "metadata": {},
   "outputs": [],
   "source": [
    "# df['total_time'] = df['total_time'].apply(lambda x: pd.Timedelta(x))"
   ]
  },
  {
   "cell_type": "code",
   "execution_count": 177,
   "metadata": {},
   "outputs": [],
   "source": [
    "assert all(df['t_bike'] + df['t_run'] + df['t_swim'] + df['t_tranzit_1'] + df['t_tranzit_2'] == df['total_time'])"
   ]
  },
  {
   "cell_type": "code",
   "execution_count": 179,
   "metadata": {},
   "outputs": [],
   "source": [
    "df.to_csv('data.csv')"
   ]
  },
  {
   "cell_type": "markdown",
   "metadata": {},
   "source": [
    "## Data Analis"
   ]
  },
  {
   "cell_type": "code",
   "execution_count": 10,
   "metadata": {},
   "outputs": [],
   "source": [
    "sns.set(rc={'figure.figsize':(8, 6)})\n",
    "leg_columns = ('t_run', 't_tranzit_2', 't_bike', 't_tranzit_1', 't_swim')"
   ]
  },
  {
   "cell_type": "code",
   "execution_count": 11,
   "metadata": {},
   "outputs": [],
   "source": [
    "df = pd.read_csv('data.csv')\n",
    "df.drop(columns='Unnamed: 0', inplace=True)\n",
    "for time_column in ('t_bike', 't_run', 't_swim', 't_tranzit_1', 't_tranzit_2', 'total_time'):\n",
    "    df[time_column] = pd.to_timedelta(df[time_column])"
   ]
  },
  {
   "cell_type": "code",
   "execution_count": 12,
   "metadata": {},
   "outputs": [
    {
     "data": {
      "text/html": [
       "<div>\n",
       "<style scoped>\n",
       "    .dataframe tbody tr th:only-of-type {\n",
       "        vertical-align: middle;\n",
       "    }\n",
       "\n",
       "    .dataframe tbody tr th {\n",
       "        vertical-align: top;\n",
       "    }\n",
       "\n",
       "    .dataframe thead th {\n",
       "        text-align: right;\n",
       "    }\n",
       "</style>\n",
       "<table border=\"1\" class=\"dataframe\">\n",
       "  <thead>\n",
       "    <tr style=\"text-align: right;\">\n",
       "      <th></th>\n",
       "      <th>bib</th>\n",
       "      <th>name</th>\n",
       "      <th>surname</th>\n",
       "      <th>t_bike</th>\n",
       "      <th>t_run</th>\n",
       "      <th>t_swim</th>\n",
       "      <th>t_tranzit_1</th>\n",
       "      <th>t_tranzit_2</th>\n",
       "      <th>total_time</th>\n",
       "    </tr>\n",
       "  </thead>\n",
       "  <tbody>\n",
       "    <tr>\n",
       "      <th>0</th>\n",
       "      <td>1</td>\n",
       "      <td>Олександр</td>\n",
       "      <td>Кудрик</td>\n",
       "      <td>00:34:38</td>\n",
       "      <td>00:24:04</td>\n",
       "      <td>00:16:20</td>\n",
       "      <td>00:01:24</td>\n",
       "      <td>00:01:16</td>\n",
       "      <td>01:17:42</td>\n",
       "    </tr>\n",
       "    <tr>\n",
       "      <th>1</th>\n",
       "      <td>2</td>\n",
       "      <td>Денис</td>\n",
       "      <td>Шиков</td>\n",
       "      <td>00:41:55</td>\n",
       "      <td>00:35:10</td>\n",
       "      <td>00:18:58</td>\n",
       "      <td>00:02:23</td>\n",
       "      <td>00:01:14</td>\n",
       "      <td>01:39:40</td>\n",
       "    </tr>\n",
       "    <tr>\n",
       "      <th>2</th>\n",
       "      <td>3</td>\n",
       "      <td>Сергій</td>\n",
       "      <td>Муравинець</td>\n",
       "      <td>00:38:08</td>\n",
       "      <td>00:24:50</td>\n",
       "      <td>00:13:05</td>\n",
       "      <td>00:01:52</td>\n",
       "      <td>00:01:19</td>\n",
       "      <td>01:19:14</td>\n",
       "    </tr>\n",
       "    <tr>\n",
       "      <th>3</th>\n",
       "      <td>4</td>\n",
       "      <td>Максим</td>\n",
       "      <td>П'ятенко</td>\n",
       "      <td>00:44:58</td>\n",
       "      <td>00:30:06</td>\n",
       "      <td>00:15:12</td>\n",
       "      <td>00:02:53</td>\n",
       "      <td>00:01:02</td>\n",
       "      <td>01:34:11</td>\n",
       "    </tr>\n",
       "    <tr>\n",
       "      <th>4</th>\n",
       "      <td>5</td>\n",
       "      <td>Сергій</td>\n",
       "      <td>Поліщук</td>\n",
       "      <td>00:41:22</td>\n",
       "      <td>00:28:40</td>\n",
       "      <td>00:22:13</td>\n",
       "      <td>00:02:03</td>\n",
       "      <td>00:02:13</td>\n",
       "      <td>01:36:31</td>\n",
       "    </tr>\n",
       "  </tbody>\n",
       "</table>\n",
       "</div>"
      ],
      "text/plain": [
       "   bib       name     surname   t_bike    t_run   t_swim t_tranzit_1  \\\n",
       "0    1  Олександр      Кудрик 00:34:38 00:24:04 00:16:20    00:01:24   \n",
       "1    2      Денис       Шиков 00:41:55 00:35:10 00:18:58    00:02:23   \n",
       "2    3     Сергій  Муравинець 00:38:08 00:24:50 00:13:05    00:01:52   \n",
       "3    4     Максим    П'ятенко 00:44:58 00:30:06 00:15:12    00:02:53   \n",
       "4    5     Сергій     Поліщук 00:41:22 00:28:40 00:22:13    00:02:03   \n",
       "\n",
       "  t_tranzit_2 total_time  \n",
       "0    00:01:16   01:17:42  \n",
       "1    00:01:14   01:39:40  \n",
       "2    00:01:19   01:19:14  \n",
       "3    00:01:02   01:34:11  \n",
       "4    00:02:13   01:36:31  "
      ]
     },
     "execution_count": 12,
     "metadata": {},
     "output_type": "execute_result"
    }
   ],
   "source": [
    "df.head()"
   ]
  },
  {
   "cell_type": "code",
   "execution_count": null,
   "metadata": {},
   "outputs": [],
   "source": []
  },
  {
   "cell_type": "code",
   "execution_count": null,
   "metadata": {},
   "outputs": [],
   "source": []
  },
  {
   "cell_type": "code",
   "execution_count": null,
   "metadata": {},
   "outputs": [],
   "source": []
  },
  {
   "cell_type": "code",
   "execution_count": 13,
   "metadata": {},
   "outputs": [],
   "source": [
    "# convert timedelta to seconds\n",
    "for i, j in zip([c+'_sec' for c in leg_columns], leg_columns):\n",
    "    df[i] = df[j].map(lambda x: x.seconds)"
   ]
  },
  {
   "cell_type": "code",
   "execution_count": 14,
   "metadata": {},
   "outputs": [
    {
     "data": {
      "image/png": "[encoded data removed]",
      "text/plain": [
       "<matplotlib.figure.Figure at 0x7efbf9af79e8>"
      ]
     },
     "metadata": {},
     "output_type": "display_data"
    }
   ],
   "source": [
    "for leg in [c+'_sec' for c in leg_columns]:\n",
    "    sns.distplot(df[leg])\n",
    "    \n",
    "#     sns.swarmplot(data=df, x=leg, linewidth=1)"
   ]
  },
  {
   "cell_type": "code",
   "execution_count": 15,
   "metadata": {},
   "outputs": [
    {
     "data": {
      "text/html": [
       "<div>\n",
       "<style scoped>\n",
       "    .dataframe tbody tr th:only-of-type {\n",
       "        vertical-align: middle;\n",
       "    }\n",
       "\n",
       "    .dataframe tbody tr th {\n",
       "        vertical-align: top;\n",
       "    }\n",
       "\n",
       "    .dataframe thead th {\n",
       "        text-align: right;\n",
       "    }\n",
       "</style>\n",
       "<table border=\"1\" class=\"dataframe\">\n",
       "  <thead>\n",
       "    <tr style=\"text-align: right;\">\n",
       "      <th></th>\n",
       "      <th>bib</th>\n",
       "      <th>name</th>\n",
       "      <th>surname</th>\n",
       "      <th>t_bike</th>\n",
       "      <th>t_run</th>\n",
       "      <th>t_swim</th>\n",
       "      <th>t_tranzit_1</th>\n",
       "      <th>t_tranzit_2</th>\n",
       "      <th>total_time</th>\n",
       "      <th>t_run_sec</th>\n",
       "      <th>t_tranzit_2_sec</th>\n",
       "      <th>t_bike_sec</th>\n",
       "      <th>t_tranzit_1_sec</th>\n",
       "      <th>t_swim_sec</th>\n",
       "    </tr>\n",
       "  </thead>\n",
       "  <tbody>\n",
       "    <tr>\n",
       "      <th>0</th>\n",
       "      <td>1</td>\n",
       "      <td>Олександр</td>\n",
       "      <td>Кудрик</td>\n",
       "      <td>00:34:38</td>\n",
       "      <td>00:24:04</td>\n",
       "      <td>00:16:20</td>\n",
       "      <td>00:01:24</td>\n",
       "      <td>00:01:16</td>\n",
       "      <td>01:17:42</td>\n",
       "      <td>1444</td>\n",
       "      <td>76</td>\n",
       "      <td>2078</td>\n",
       "      <td>84</td>\n",
       "      <td>980</td>\n",
       "    </tr>\n",
       "    <tr>\n",
       "      <th>1</th>\n",
       "      <td>2</td>\n",
       "      <td>Денис</td>\n",
       "      <td>Шиков</td>\n",
       "      <td>00:41:55</td>\n",
       "      <td>00:35:10</td>\n",
       "      <td>00:18:58</td>\n",
       "      <td>00:02:23</td>\n",
       "      <td>00:01:14</td>\n",
       "      <td>01:39:40</td>\n",
       "      <td>2110</td>\n",
       "      <td>74</td>\n",
       "      <td>2515</td>\n",
       "      <td>143</td>\n",
       "      <td>1138</td>\n",
       "    </tr>\n",
       "    <tr>\n",
       "      <th>2</th>\n",
       "      <td>3</td>\n",
       "      <td>Сергій</td>\n",
       "      <td>Муравинець</td>\n",
       "      <td>00:38:08</td>\n",
       "      <td>00:24:50</td>\n",
       "      <td>00:13:05</td>\n",
       "      <td>00:01:52</td>\n",
       "      <td>00:01:19</td>\n",
       "      <td>01:19:14</td>\n",
       "      <td>1490</td>\n",
       "      <td>79</td>\n",
       "      <td>2288</td>\n",
       "      <td>112</td>\n",
       "      <td>785</td>\n",
       "    </tr>\n",
       "    <tr>\n",
       "      <th>3</th>\n",
       "      <td>4</td>\n",
       "      <td>Максим</td>\n",
       "      <td>П'ятенко</td>\n",
       "      <td>00:44:58</td>\n",
       "      <td>00:30:06</td>\n",
       "      <td>00:15:12</td>\n",
       "      <td>00:02:53</td>\n",
       "      <td>00:01:02</td>\n",
       "      <td>01:34:11</td>\n",
       "      <td>1806</td>\n",
       "      <td>62</td>\n",
       "      <td>2698</td>\n",
       "      <td>173</td>\n",
       "      <td>912</td>\n",
       "    </tr>\n",
       "    <tr>\n",
       "      <th>4</th>\n",
       "      <td>5</td>\n",
       "      <td>Сергій</td>\n",
       "      <td>Поліщук</td>\n",
       "      <td>00:41:22</td>\n",
       "      <td>00:28:40</td>\n",
       "      <td>00:22:13</td>\n",
       "      <td>00:02:03</td>\n",
       "      <td>00:02:13</td>\n",
       "      <td>01:36:31</td>\n",
       "      <td>1720</td>\n",
       "      <td>133</td>\n",
       "      <td>2482</td>\n",
       "      <td>123</td>\n",
       "      <td>1333</td>\n",
       "    </tr>\n",
       "  </tbody>\n",
       "</table>\n",
       "</div>"
      ],
      "text/plain": [
       "   bib       name     surname   t_bike    t_run   t_swim t_tranzit_1  \\\n",
       "0    1  Олександр      Кудрик 00:34:38 00:24:04 00:16:20    00:01:24   \n",
       "1    2      Денис       Шиков 00:41:55 00:35:10 00:18:58    00:02:23   \n",
       "2    3     Сергій  Муравинець 00:38:08 00:24:50 00:13:05    00:01:52   \n",
       "3    4     Максим    П'ятенко 00:44:58 00:30:06 00:15:12    00:02:53   \n",
       "4    5     Сергій     Поліщук 00:41:22 00:28:40 00:22:13    00:02:03   \n",
       "\n",
       "  t_tranzit_2 total_time  t_run_sec  t_tranzit_2_sec  t_bike_sec  \\\n",
       "0    00:01:16   01:17:42       1444               76        2078   \n",
       "1    00:01:14   01:39:40       2110               74        2515   \n",
       "2    00:01:19   01:19:14       1490               79        2288   \n",
       "3    00:01:02   01:34:11       1806               62        2698   \n",
       "4    00:02:13   01:36:31       1720              133        2482   \n",
       "\n",
       "   t_tranzit_1_sec  t_swim_sec  \n",
       "0               84         980  \n",
       "1              143        1138  \n",
       "2              112         785  \n",
       "3              173         912  \n",
       "4              123        1333  "
      ]
     },
     "execution_count": 15,
     "metadata": {},
     "output_type": "execute_result"
    }
   ],
   "source": [
    "df.head()"
   ]
  },
  {
   "cell_type": "code",
   "execution_count": 16,
   "metadata": {},
   "outputs": [
    {
     "data": {
      "text/plain": [
       "<seaborn.axisgrid.PairGrid at 0x7efbf99fc198>"
      ]
     },
     "execution_count": 16,
     "metadata": {},
     "output_type": "execute_result"
    },
    {
     "data": {
      "image/png": "[encoded data removed]",
      "text/plain": [
       "<matplotlib.figure.Figure at 0x7efbf99bf080>"
      ]
     },
     "metadata": {},
     "output_type": "display_data"
    }
   ],
   "source": [
    "sns.pairplot(df[[c+'_sec' for c in leg_columns][::-1]],  diag_kind=\"kde\")"
   ]
  },
  {
   "cell_type": "markdown",
   "metadata": {},
   "source": [
    "## Map animation"
   ]
  },
  {
   "cell_type": "code",
   "execution_count": 17,
   "metadata": {},
   "outputs": [],
   "source": [
    "import folium\n",
    "import folium.plugins as plugins\n",
    "import numpy as np\n",
    "import trace_script"
   ]
  },
  {
   "cell_type": "code",
   "execution_count": 27,
   "metadata": {},
   "outputs": [],
   "source": [
    "from folium.plugins import TimestampedGeoJson"
   ]
  },
  {
   "cell_type": "code",
   "execution_count": 62,
   "metadata": {},
   "outputs": [],
   "source": [
    "NUM = 20"
   ]
  },
  {
   "cell_type": "code",
   "execution_count": 18,
   "metadata": {},
   "outputs": [
    {
     "data": {
      "text/plain": [
       "'0.6.0'"
      ]
     },
     "execution_count": 18,
     "metadata": {},
     "output_type": "execute_result"
    }
   ],
   "source": [
    "folium.__version__"
   ]
  },
  {
   "cell_type": "code",
   "execution_count": 19,
   "metadata": {},
   "outputs": [
    {
     "data": {
      "text/html": [
       "<div style=\"width:100%;\"><div style=\"position:relative;width:100%;height:0;padding-bottom:60%;\"><iframe src=\"data:text/html;charset=utf-8;base64,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\" style=\"position:absolute;width:100%;height:100%;left:0;top:0;border:none !important;\" allowfullscreen webkitallowfullscreen mozallowfullscreen></iframe></div></div>"
      ],
      "text/plain": [
       "<folium.folium.Map at 0x7efbf70f7a20>"
      ]
     },
     "execution_count": 19,
     "metadata": {},
     "output_type": "execute_result"
    }
   ],
   "source": [
    "folium_map = folium.Map(location=trace_script.BASE_POINT,\n",
    "                        zoom_start=14,\n",
    "                        tiles=\"openstreetmap\")\n",
    "\n",
    "folium_map"
   ]
  },
  {
   "cell_type": "code",
   "execution_count": 20,
   "metadata": {},
   "outputs": [],
   "source": [
    "import json"
   ]
  },
  {
   "cell_type": "code",
   "execution_count": 21,
   "metadata": {},
   "outputs": [
    {
     "data": {
      "text/plain": [
       "(51.492309, 25.76056)"
      ]
     },
     "execution_count": 21,
     "metadata": {},
     "output_type": "execute_result"
    }
   ],
   "source": [
    "trace_script.BASE_POINT"
   ]
  },
  {
   "cell_type": "code",
   "execution_count": 113,
   "metadata": {},
   "outputs": [],
   "source": [
    "folium_map = folium.Map(location=trace_script.BASE_POINT,\n",
    "                        zoom_start=14,\n",
    "                        tiles=\"openstreetmap\")"
   ]
  },
  {
   "cell_type": "code",
   "execution_count": 132,
   "metadata": {},
   "outputs": [
    {
     "data": {
      "text/html": [
       "<div style=\"width:100%;\"><div style=\"position:relative;width:100%;height:0;padding-bottom:60%;\"><iframe src=\"data:text/html;charset=utf-8;base64,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\" style=\"position:absolute;width:100%;height:100%;left:0;top:0;border:none !important;\" allowfullscreen webkitallowfullscreen mozallowfullscreen></iframe></div></div>"
      ],
      "text/plain": [
       "<folium.folium.Map at 0x7efbf4b5a8d0>"
      ]
     },
     "execution_count": 132,
     "metadata": {},
     "output_type": "execute_result"
    }
   ],
   "source": [
    "folium_map = folium.Map(location=trace_script.BASE_POINT,\n",
    "                        zoom_start=14,\n",
    "                        tiles=\"openstreetmap\")\n",
    "\n",
    "marker = folium.Marker(trace_script.BASE_POINT, popup='POPUP', tooltip = 'Click me!')\n",
    "folium_map.add_child(marker)"
   ]
  },
  {
   "cell_type": "code",
   "execution_count": 131,
   "metadata": {},
   "outputs": [],
   "source": [
    "marker.render()"
   ]
  },
  {
   "cell_type": "code",
   "execution_count": null,
   "metadata": {},
   "outputs": [],
   "source": []
  },
  {
   "cell_type": "code",
   "execution_count": 134,
   "metadata": {},
   "outputs": [
    {
     "data": {
      "text/html": [
       "<div style=\"width:100%;\"><div style=\"position:relative;width:100%;height:0;padding-bottom:60%;\"><iframe src=\"data:text/html;charset=utf-8;base64,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\" style=\"position:absolute;width:100%;height:100%;left:0;top:0;border:none !important;\" allowfullscreen webkitallowfullscreen mozallowfullscreen></iframe></div></div>"
      ],
      "text/plain": [
       "<folium.folium.Map at 0x7efbf4a6c0b8>"
      ]
     },
     "execution_count": 134,
     "metadata": {},
     "output_type": "execute_result"
    }
   ],
   "source": [
    "folium_map = folium.Map(location=trace_script.BASE_POINT,\n",
    "                        zoom_start=14,\n",
    "                        tiles=\"openstreetmap\")\n",
    "\n",
    "tgs = folium.plugins.TimestampedGeoJson({\n",
    "    'type': 'FeatureCollection',\n",
    "    'features': [\n",
    "      {\n",
    "        'type': 'Feature',\n",
    "        'geometry': {\n",
    "          'type': 'LineString',\n",
    "          'coordinates': [[25.76068639755249, 51.491778257971646],[25.76020359992981, 51.494289892197],[25.763508081436157, 51.49448360291841]],\n",
    "          },\n",
    "        'properties': {\n",
    "          'times': [1435708800000, 1435795200000, 1435881600000],\n",
    "            'popup': {'tooltip': 'Click me!'}\n",
    "          }\n",
    "        }\n",
    "      ]\n",
    "    })\n",
    "\n",
    "folium_map.add_child(tgs)"
   ]
  },
  {
   "cell_type": "code",
   "execution_count": null,
   "metadata": {},
   "outputs": [],
   "source": []
  },
  {
   "cell_type": "code",
   "execution_count": null,
   "metadata": {},
   "outputs": [],
   "source": []
  },
  {
   "cell_type": "code",
   "execution_count": null,
   "metadata": {},
   "outputs": [],
   "source": []
  },
  {
   "cell_type": "code",
   "execution_count": null,
   "metadata": {},
   "outputs": [],
   "source": []
  },
  {
   "cell_type": "code",
   "execution_count": 65,
   "metadata": {},
   "outputs": [],
   "source": [
    "NUM = 200"
   ]
  },
  {
   "cell_type": "code",
   "execution_count": 145,
   "metadata": {},
   "outputs": [],
   "source": [
    "def create_geo_json_dict(trace, time):\n",
    "    # pd.Dataframe\n",
    "    time_laps = np.linspace(0, time, num=NUM)*1000 + START_TIME\n",
    "    d = {\n",
    "        'type': 'Feature',\n",
    "        'geometry': {\n",
    "          'type': 'LineString',\n",
    "          'coordinates': [[p.longitude, p.latitude] for p in trace],\n",
    "          },\n",
    "        'properties': {\n",
    "          'times': time_laps.tolist(),\n",
    "            'popup': 'Portland, OR'\n",
    "          }\n",
    "        }\n",
    "    return d"
   ]
  },
  {
   "cell_type": "code",
   "execution_count": null,
   "metadata": {},
   "outputs": [],
   "source": []
  },
  {
   "cell_type": "code",
   "execution_count": 146,
   "metadata": {},
   "outputs": [],
   "source": [
    "new_swim_trace = trace_script.interpolation(trace_script.SWIM, NUM)"
   ]
  },
  {
   "cell_type": "code",
   "execution_count": 147,
   "metadata": {},
   "outputs": [],
   "source": [
    "# time_laps = np.linspace(0, df['t_swim_sec'][0], num=n) * 1000000 + 1435708800000\n",
    "START_TIME = 1534579200000\n",
    "time_laps = np.linspace(0, df['t_swim_sec'][0], num=NUM)*1000 + START_TIME\n",
    "# time_laps, len(time_laps)"
   ]
  },
  {
   "cell_type": "code",
   "execution_count": 148,
   "metadata": {},
   "outputs": [],
   "source": [
    "data = {\n",
    "    'type': 'FeatureCollection',\n",
    "    'features': [\n",
    "      ]\n",
    "    }"
   ]
  },
  {
   "cell_type": "code",
   "execution_count": 149,
   "metadata": {},
   "outputs": [
    {
     "data": {
      "text/html": [
       "<div style=\"width:100%;\"><div style=\"position:relative;width:100%;height:0;padding-bottom:60%;\"><iframe src=\"data:text/html;charset=utf-8;base64,PCFET0NUWVBFIGh0bWw+CjxoZWFkPiAgICAKICAgIDxtZXRhIGh0dHAtZXF1aXY9ImNvbnRlbnQtdHlwZSIgY29udGVudD0idGV4dC9odG1sOyBjaGFyc2V0PVVURi04IiAvPgogICAgPHNjcmlwdD5MX1BSRUZFUl9DQU5WQVM9ZmFsc2U7IExfTk9fVE9VQ0g9ZmFsc2U7IExfRElTQUJMRV8zRD1mYWxzZTs8L3NjcmlwdD4KICAgIDxzY3JpcHQgc3JjPSJodHRwczovL2Nkbi5qc2RlbGl2ci5uZXQvbnBtL2xlYWZsZXRAMS4yLjAvZGlzdC9sZWFmbGV0LmpzIj48L3NjcmlwdD4KICAgIDxzY3JpcHQgc3JjPSJodHRwczovL2FqYXguZ29vZ2xlYXBpcy5jb20vYWpheC9saWJzL2pxdWVyeS8xLjExLjEvanF1ZXJ5Lm1pbi5qcyI+PC9zY3JpcHQ+CiAgICA8c2NyaXB0IHNyYz0iaHR0cHM6Ly9tYXhjZG4uYm9vdHN0cmFwY2RuLmNvbS9ib290c3RyYXAvMy4yLjAvanMvYm9vdHN0cmFwLm1pbi5qcyI+PC9zY3JpcHQ+CiAgICA8c2NyaXB0IHNyYz0iaHR0cHM6Ly9jZG5qcy5jbG91ZGZsYXJlLmNvbS9hamF4L2xpYnMvTGVhZmxldC5hd2Vzb21lLW1hcmtlcnMvMi4wLjIvbGVhZmxldC5hd2Vzb21lLW1hcmtlcnMuanMiPjwvc2NyaXB0PgogICAgPGxpbmsgcmVsPSJzdHlsZXNoZWV0IiBocmVmPSJodHRwczovL2Nkbi5qc2RlbGl2ci5uZXQvbnBtL2xlYWZsZXRAMS4yLjAvZGlzdC9sZWFmbGV0LmNzcyIvPgogICAgPGxpbmsgcmVsPSJzdHlsZXNoZWV0IiBocmVmPSJodHRwczovL21heGNkbi5ib290c3RyYXBjZG4uY29tL2Jvb3RzdHJhcC8zLjIuMC9jc3MvYm9vdHN0cmFwLm1pbi5jc3MiLz4KICAgIDxsaW5rIHJlbD0ic3R5bGVzaGVldCIgaHJlZj0iaHR0cHM6Ly9tYXhjZG4uYm9vdHN0cmFwY2RuLmNvbS9ib290c3RyYXAvMy4yLjAvY3NzL2Jvb3RzdHJhcC10aGVtZS5taW4uY3NzIi8+CiAgICA8bGluayByZWw9InN0eWxlc2hlZXQiIGhyZWY9Imh0dHBzOi8vbWF4Y2RuLmJvb3RzdHJhcGNkbi5jb20vZm9udC1hd2Vzb21lLzQuNi4zL2Nzcy9mb250LWF3ZXNvbWUubWluLmNzcyIvPgogICAgPGxpbmsgcmVsPSJzdHlsZXNoZWV0IiBocmVmPSJodHRwczovL2NkbmpzLmNsb3VkZmxhcmUuY29tL2FqYXgvbGlicy9MZWFmbGV0LmF3ZXNvbWUtbWFya2Vycy8yLjAuMi9sZWFmbGV0LmF3ZXNvbWUtbWFya2Vycy5jc3MiLz4KICAgIDxsaW5rIHJlbD0ic3R5bGVzaGVldCIgaHJlZj0iaHR0cHM6Ly9yYXdnaXQuY29tL3B5dGhvbi12aXN1YWxpemF0aW9uL2ZvbGl1bS9tYXN0ZXIvZm9saXVtL3RlbXBsYXRlcy9sZWFmbGV0LmF3ZXNvbWUucm90YXRlLmNzcyIvPgogICAgPHN0eWxlPmh0bWwsIGJvZHkge3dpZHRoOiAxMDAlO2hlaWdodDogMTAwJTttYXJnaW46IDA7cGFkZGluZzogMDt9PC9zdHlsZT4KICAgIDxzdHlsZT4jbWFwIHtwb3NpdGlvbjphYnNvbHV0ZTt0b3A6MDtib3R0b206MDtyaWdodDowO2xlZnQ6MDt9PC9zdHlsZT4KICAgIAogICAgPHN0eWxlPiNtYXBfYWFkMGQwZTk3ZmZjNDg0MjliOTllZGViYWE5MzAwZWQgewogICAgICAgIHBvc2l0aW9uOiByZWxhdGl2ZTsKICAgICAgICB3aWR0aDogMTAwLjAlOwogICAgICAgIGhlaWdodDogMTAwLjAlOwogICAgICAgIGxlZnQ6IDAuMCU7CiAgICAgICAgdG9wOiAwLjAlOwogICAgICAgIH0KICAgIDwvc3R5bGU+CiAgICA8c2NyaXB0IHNyYz0iaHR0cHM6Ly9jZG5qcy5jbG91ZGZsYXJlLmNvbS9hamF4L2xpYnMvanF1ZXJ5LzIuMC4wL2pxdWVyeS5taW4uanMiPjwvc2NyaXB0PgogICAgPHNjcmlwdCBzcmM9Imh0dHBzOi8vY2RuanMuY2xvdWRmbGFyZS5jb20vYWpheC9saWJzL2pxdWVyeXVpLzEuMTAuMi9qcXVlcnktdWkubWluLmpzIj48L3NjcmlwdD4KICAgIDxzY3JpcHQgc3JjPSJodHRwczovL3Jhd2dpdC5jb20vbmV6YXNhL2lzbzg2MDEtanMtcGVyaW9kL21hc3Rlci9pc284NjAxLm1pbi5qcyI+PC9zY3JpcHQ+CiAgICA8c2NyaXB0IHNyYz0iaHR0cHM6Ly9yYXdnaXQuY29tL3NvY2liL0xlYWZsZXQuVGltZURpbWVuc2lvbi9tYXN0ZXIvZGlzdC9sZWFmbGV0LnRpbWVkaW1lbnNpb24ubWluLmpzIj48L3NjcmlwdD4KICAgIDxsaW5rIHJlbD0ic3R5bGVzaGVldCIgaHJlZj0iaHR0cHM6Ly9jZG5qcy5jbG91ZGZsYXJlLmNvbS9hamF4L2xpYnMvaGlnaGxpZ2h0LmpzLzguNC9zdHlsZXMvZGVmYXVsdC5taW4uY3NzIi8+CiAgICA8bGluayByZWw9InN0eWxlc2hlZXQiIGhyZWY9Imh0dHA6Ly9hcHBzLnNvY2liLmVzL0xlYWZsZXQuVGltZURpbWVuc2lvbi9kaXN0L2xlYWZsZXQudGltZWRpbWVuc2lvbi5jb250cm9sLm1pbi5jc3MiLz4KICAgIDxzY3JpcHQgc3JjPSJodHRwczovL2NkbmpzLmNsb3VkZmxhcmUuY29tL2FqYXgvbGlicy9tb21lbnQuanMvMi4xOC4xL21vbWVudC5taW4uanMiPjwvc2NyaXB0Pgo8L2hlYWQ+Cjxib2R5PiAgICAKICAgIAogICAgPGRpdiBjbGFzcz0iZm9saXVtLW1hcCIgaWQ9Im1hcF9hYWQwZDBlOTdmZmM0ODQyOWI5OWVkZWJhYTkzMDBlZCIgPjwvZGl2Pgo8L2JvZHk+CjxzY3JpcHQ+ICAgIAogICAgCiAgICAKICAgICAgICB2YXIgYm91bmRzID0gbnVsbDsKICAgIAoKICAgIHZhciBtYXBfYWFkMGQwZTk3ZmZjNDg0MjliOTllZGViYWE5MzAwZWQgPSBMLm1hcCgKICAgICAgICAnbWFwX2FhZDBkMGU5N2ZmYzQ4NDI5Yjk5ZWRlYmFhOTMwMGVkJywgewogICAgICAgIGNlbnRlcjogWzUxLjQ5MjMwOSwgMjUuNzYwNTZdLAogICAgICAgIHpvb206IDE0LAogICAgICAgIG1heEJvdW5kczogYm91bmRzLAogICAgICAgIGxheWVyczogW10sCiAgICAgICAgd29ybGRDb3B5SnVtcDogZmFsc2UsCiAgICAgICAgY3JzOiBMLkNSUy5FUFNHMzg1NywKICAgICAgICB6b29tQ29udHJvbDogdHJ1ZSwKICAgICAgICB9KTsKCiAgICAKICAgIAogICAgdmFyIHRpbGVfbGF5ZXJfMjNkMjIwZjRkYTMyNGRiZDg5MGM1M2NlM2Q1M2UzZTcgPSBMLnRpbGVMYXllcigKICAgICAgICAnaHR0cHM6Ly97c30udGlsZS5vcGVuc3RyZWV0bWFwLm9yZy97en0ve3h9L3t5fS5wbmcnLAogICAgICAgIHsKICAgICAgICAiYXR0cmlidXRpb24iOiBudWxsLAogICAgICAgICJkZXRlY3RSZXRpbmEiOiBmYWxzZSwKICAgICAgICAibWF4TmF0aXZlWm9vbSI6IDE4LAogICAgICAgICJtYXhab29tIjogMTgsCiAgICAgICAgIm1pblpvb20iOiAwLAogICAgICAgICJub1dyYXAiOiBmYWxzZSwKICAgICAgICAic3ViZG9tYWlucyI6ICJhYmMiCn0pLmFkZFRvKG1hcF9hYWQwZDBlOTdmZmM0ODQyOWI5OWVkZWJhYTkzMDBlZCk7CiAgICAKICAgICAgICAgICAgTC5Db250cm9sLlRpbWVEaW1lbnNpb25DdXN0b20gPSBMLkNvbnRyb2wuVGltZURpbWVuc2lvbi5leHRlbmQoewogICAgICAgICAgICAgICAgX2dldERpc3BsYXlEYXRlRm9ybWF0OiBmdW5jdGlvbihkYXRlKXsKICAgICAgICAgICAgICAgICAgICB2YXIgbmV3ZGF0ZSA9IG5ldyBtb21lbnQoZGF0ZSk7CiAgICAgICAgICAgICAgICAgICAgY29uc29sZS5sb2cobmV3ZGF0ZSkKICAgICAgICAgICAgICAgICAgICByZXR1cm4gbmV3ZGF0ZS5mb3JtYXQoIllZWVktTU0tREQgSEg6bW06c3MiKTsKICAgICAgICAgICAgICAgIH0KICAgICAgICAgICAgfSk7CiAgICAgICAgICAgIG1hcF9hYWQwZDBlOTdmZmM0ODQyOWI5OWVkZWJhYTkzMDBlZC50aW1lRGltZW5zaW9uID0gTC50aW1lRGltZW5zaW9uKHtwZXJpb2Q6IlBUMVMifSk7CiAgICAgICAgICAgIHZhciB0aW1lRGltZW5zaW9uQ29udHJvbCA9IG5ldyBMLkNvbnRyb2wuVGltZURpbWVuc2lvbkN1c3RvbSh7CiAgImF1dG9QbGF5IjogdHJ1ZSwKICAibG9vcEJ1dHRvbiI6IGZhbHNlLAogICJtYXhTcGVlZCI6IDEwLAogICJtaW5TcGVlZCI6IDAuMSwKICAicGxheWVyT3B0aW9ucyI6IHsKICAgICJsb29wIjogdHJ1ZSwKICAgICJzdGFydE92ZXIiOiB0cnVlLAogICAgInRyYW5zaXRpb25UaW1lIjogMjAwCiAgfSwKICAicG9zaXRpb24iOiAiYm90dG9tbGVmdCIsCiAgInRpbWVTbGlkZXJEcmFnVXBkYXRlIjogZmFsc2UKfSk7CiAgICAgICAgICAgIG1hcF9hYWQwZDBlOTdmZmM0ODQyOWI5OWVkZWJhYTkzMDBlZC5hZGRDb250cm9sKHRoaXMudGltZURpbWVuc2lvbkNvbnRyb2wpOwoKICAgICAgICAgICAgY29uc29sZS5sb2coIiIpOwoKICAgICAgICAgICAgdmFyIGdlb0pzb25MYXllciA9IEwuZ2VvSnNvbih7ImZlYXR1cmVzIjogW3siZ2VvbWV0cnkiOiB7ImNvb3JkaW5hdGVzIjogW1syNS43NjEyNzMsIDUxLjQ5MjE5OTAwMDAwMDAxXSwgWzI1Ljc2MTI4ODY4NDI4MzY3LCA1MS40OTIxNjY4MjkxMjUxOF0sIFsyNS43NjEzMDQzNjg1NDUyMDgsIDUxLjQ5MjEzNDY1ODI3MzA2Nl0sIFsyNS43NjEzMjAwNTI3ODQ2MDUsIDUxLjQ5MjEwMjQ4NzQ0MzY1XSwgWzI1Ljc2MTMzNTczNzAwMTg3LCA1MS40OTIwNzAzMTY2MzY5NTVdLCBbMjUuNzYxMzUxNDIxMTk3MDAyLCA1MS40OTIwMzgxNDU4NTI5NDVdLCBbMjUuNzYxMzY3MTA1MzY5OTg4LCA1MS40OTIwMDU5NzUwOTE2NF0sIFsyNS43NjEzODI3ODk1MjA4NDgsIDUxLjQ5MTk3MzgwNDM1MzA0NF0sIFsyNS43NjEzOTg0NzM2NDk1NjQsIDUxLjQ5MTk0MTYzMzYzNzE1XSwgWzI1Ljc2MTQxNDE1Nzc1NjE1MywgNTEuNDkxOTA5NDYyOTQzOTQ0XSwgWzI1Ljc2MTQyOTg0MTg0MDU5NSwgNTEuNDkxODc3MjkyMjczNDZdLCBbMjUuNzYxNDQ1NTI1OTAyOTA3LCA1MS40OTE4NDUxMjE2MjU2NjZdLCBbMjUuNzYxNDYxMjA5OTQzMDksIDUxLjQ5MTgxMjk1MTAwMDU3XSwgWzI1Ljc2MTQ3Njg5Mzk2MTEyNywgNTEuNDkxNzgwNzgwMzk4MTY2XSwgWzI1Ljc2MTUwMTM0Mzc1MTY4MiwgNTEuNDkxNzUyNzc3MjY4NjE2XSwgWzI1Ljc2MTU0NzA1OTE1MTUxLCA1MS40OTE3MzQ4ODQzMDExOV0sIFsyNS43NjE1OTI3NzQ1MTU0NTYsIDUxLjQ5MTcxNjk5MTM0MDc5NV0sIFsyNS43NjE2Mzg0ODk4NDM1MTMsIDUxLjQ5MTY5OTA5ODM4NzQxXSwgWzI1Ljc2MTY4NDIwNTEzNTY4MywgNTEuNDkxNjgxMjA1NDQxMDddLCBbMjUuNzYxNzI5OTIwMzkxOTc1LCA1MS40OTE2NjMzMTI1MDE3Ml0sIFsyNS43NjE3NzU2MzU2MTIzODQsIDUxLjQ5MTY0NTQxOTU2OTQyXSwgWzI1Ljc2MTgyMTM1MDc5NjkxLCA1MS40OTE2Mjc1MjY2NDQxMl0sIFsyNS43NjE4NjcwNjU5NDU1NDgsIDUxLjQ5MTYwOTYzMzcyNTg2NV0sIFsyNS43NjE5MTI3ODEwNTgzMDMsIDUxLjQ5MTU5MTc0MDgxNDYxXSwgWzI1Ljc2MTk1ODQ5NjEzNTE4LCA1MS40OTE1NzM4NDc5MTA0XSwgWzI1Ljc2MjAwNDIxMTE3NjE2NiwgNTEuNDkxNTU1OTU1MDEzMjFdLCBbMjUuNzYyMDQ5OTI2MTgxMjczLCA1MS40OTE1MzgwNjIxMjMwNV0sIFsyNS43NjIwOTU2NDExNTA1LCA1MS40OTE1MjAxNjkyMzk4OV0sIFsyNS43NjIxNDEzNTYwODM4MywgNTEuNDkxNTAyMjc2MzYzNzU0XSwgWzI1Ljc2MjE4NzA3MDk4MTI4NywgNTEuNDkxNDg0MzgzNDk0NjZdLCBbMjUuNzYyMjMyNzg1ODQyODU1LCA1MS40OTE0NjY0OTA2MzI1OF0sIFsyNS43NjIyNzg1MDA2Njg1NDMsIDUxLjQ5MTQ0ODU5Nzc3NzUzXSwgWzI1Ljc2MjMyNDIxNTQ1ODM0MiwgNTEuNDkxNDMwNzA0OTI5NDhdLCBbMjUuNzYyMzY5OTMwMjEyMjYyLCA1MS40OTE0MTI4MTIwODg0NTZdLCBbMjUuNzYyNDE1NjQ0OTMwMjkzLCA1MS40OTEzOTQ5MTkyNTQ0N10sIFsyNS43NjI0NjEzNTk2MTI0NSwgNTEuNDkxMzc3MDI2NDI3NTFdLCBbMjUuNzYyNTA3MDc0MjU4NzE0LCA1MS40OTEzNTkxMzM2MDc1N10sIFsyNS43NjI1NTI3ODg4NjkwOTcsIDUxLjQ5MTM0MTI0MDc5NDYyXSwgWzI1Ljc2MjU5ODUwMzQ0MzU5NSwgNTEuNDkxMzIzMzQ3OTg4NzRdLCBbMjUuNzYyNjQ0MjE3OTgyMjEsIDUxLjQ5MTMwNTQ1NTE4OTg2XSwgWzI1Ljc2MjY4OTkzMjQ4NDk0MywgNTEuNDkxMjg3NTYyMzk3OTg2XSwgWzI1Ljc2MjczNTY0Njk1MTc5MywgNTEuNDkxMjY5NjY5NjEzMTVdLCBbMjUuNzYyNzgxMzYxMzgyNzUzLCA1MS40OTEyNTE3NzY4MzUzNTVdLCBbMjUuNzYyODI3MDc1Nzc3ODM1LCA1MS40OTEyMzM4ODQwNjQ1Nl0sIFsyNS43NjI4NzI3OTAxMzcwMjgsIDUxLjQ5MTIxNTk5MTMwMDhdLCBbMjUuNzYyOTE4NTA0NDYwMzM3LCA1MS40OTExOTgwOTg1NDQwNTRdLCBbMjUuNzYyOTY0MjE4NzQ3NzY1LCA1MS40OTExODAyMDU3OTQzMzZdLCBbMjUuNzYzMDA5OTMyOTk5MzEsIDUxLjQ5MTE2MjMxMzA1MTYyXSwgWzI1Ljc2MzA1NTY0NzIxNDk3LCA1MS40OTExNDQ0MjAzMTU5NF0sIFsyNS43NjMxMDEzNjEzOTQ3NDIsIDUxLjQ5MTEyNjUyNzU4NzMwNV0sIFsyNS43NjMxNDcwNzU1Mzg2MzcsIDUxLjQ5MTEwODYzNDg2NTY2XSwgWzI1Ljc2MzE5Mjc4OTY0NjY0LCA1MS40OTEwOTA3NDIxNTEwNjZdLCBbMjUuNzYzMjM4NTAzNzE4NzY0LCA1MS40OTEwNzI4NDk0NDM0N10sIFsyNS43NjMyODQyMTc3NTUsIDUxLjQ5MTA1NDk1Njc0MjkyXSwgWzI1Ljc2MzMyOTkzMTc1NTM2LCA1MS40OTEwMzcwNjQwNDkzNjVdLCBbMjUuNzYzMzc1NjQ1NzE5ODI2LCA1MS40OTEwMTkxNzEzNjI4NV0sIFsyNS43NjM0MjEzNTk2NDg0MDgsIDUxLjQ5MTAwMTI3ODY4MzM1XSwgWzI1Ljc2MzQ2NzA3MzU0MTExNSwgNTEuNDkwOTgzMzg2MDEwODddLCBbMjUuNzYzNTEyNzg3Mzk3OTMsIDUxLjQ5MDk2NTQ5MzM0NTQxXSwgWzI1Ljc2MzU1ODUwMTIxODg2MywgNTEuNDkwOTQ3NjAwNjg2OTldLCBbMjUuNzYzNjA0MjE1MDAzOTEsIDUxLjQ5MDkyOTcwODAzNTU5XSwgWzI1Ljc2MzY0OTkyODc1MzA3MiwgNTEuNDkwOTExODE1MzkxMTldLCBbMjUuNzYzNjk1NjQyNDY2MzYsIDUxLjQ5MDg5MzkyMjc1MzgzNF0sIFsyNS43NjM2NDY5NjkzMzYxNSwgNTEuNDkwODkwMzIxMDE0Nzc0XSwgWzI1Ljc2MzU5MzE2MzgzNjUzMiwgNTEuNDkwODg3NDk2MzU3MjQ2XSwgWzI1Ljc2MzUzOTM1ODM0MzU4NiwgNTEuNDkwODg0NjcxNjk5OV0sIFsyNS43NjM0ODU1NTI4NTcyOTMsIDUxLjQ5MDg4MTg0NzA0Mjc0XSwgWzI1Ljc2MzQzMTc0NzM3NzY3LCA1MS40OTA4NzkwMjIzODU3M10sIFsyNS43NjMzNzc5NDE5MDQ3MDcsIDUxLjQ5MDg3NjE5NzcyODkxNl0sIFsyNS43NjMzMjQxMzY0Mzg0MSwgNTEuNDkwODczMzczMDcyMjc2XSwgWzI1Ljc2MzI3MDMzMDk3ODc3NywgNTEuNDkwODcwNTQ4NDE1NzldLCBbMjUuNzYzMjE2NTI1NTI1ODA2LCA1MS40OTA4Njc3MjM3NTk1Ml0sIFsyNS43NjMxNjI3MjAwNzk1LCA1MS40OTA4NjQ4OTkxMDMzOV0sIFsyNS43NjMxMDg5MTQ2Mzk4NjUsIDUxLjQ5MDg2MjA3NDQ0NzQ1XSwgWzI1Ljc2MzA1NTEwOTIwNjg4NSwgNTEuNDkwODU5MjQ5NzkxN10sIFsyNS43NjMwMDEzMDM3ODA1NzcsIDUxLjQ5MDg1NjQyNTEzNjA5XSwgWzI1Ljc2Mjk0NzQ5ODM2MDkzLCA1MS40OTA4NTM2MDA0ODA2NzZdLCBbMjUuNzYyODkzNjkyOTQ3OTQ4LCA1MS40OTA4NTA3NzU4MjU0M10sIFsyNS43NjI4Mzk4ODc1NDE2MjcsIDUxLjQ5MDg0Nzk1MTE3MDM1XSwgWzI1Ljc2Mjc4NjA4MjE0MTk4LCA1MS40OTA4NDUxMjY1MTU0N10sIFsyNS43NjI3MzIyNzY3NDg5ODgsIDUxLjQ5MDg0MjMwMTg2MDc0XSwgWzI1Ljc2MjY3ODQ3MTM2MjY3MywgNTEuNDkwODM5NDc3MjA2MTk0XSwgWzI1Ljc2MjYyNDY2NTk4MzAxLCA1MS40OTA4MzY2NTI1NTE4Ml0sIFsyNS43NjI1NzA4NjA2MTAwMiwgNTEuNDkwODMzODI3ODk3NjNdLCBbMjUuNzYyNTE3MDU1MjQzNzAyLCA1MS40OTA4MzEwMDMyNDM2MDZdLCBbMjUuNzYyNDYzMjQ5ODg0MDM2LCA1MS40OTA4MjgxNzg1ODk3NjZdLCBbMjUuNzYyNDA5NDQ0NTMxMDQ1LCA1MS40OTA4MjUzNTM5MzYxMV0sIFsyNS43NjIzNTU2MzkxODQ3MSwgNTEuNDkwODIyNTI5MjgyNjI0XSwgWzI1Ljc2MjMwMTgzMzg0NTA1NCwgNTEuNDkwODE5NzA0NjI5MjldLCBbMjUuNzYyMjQ4MDI4NTEyMDU4LCA1MS40OTA4MTY4Nzk5NzYxNV0sIFsyNS43NjIxOTQyMjMxODU3MjcsIDUxLjQ5MDgxNDA1NTMyMzE4XSwgWzI1Ljc2MjE0MDQxNzg2NjA2OCwgNTEuNDkwODExMjMwNjcwMzldLCBbMjUuNzYyMDg2NjEyNTUzMDYsIDUxLjQ5MDgwODQwNjAxNzc2XSwgWzI1Ljc2MjAzMjgwNzI0NjczMywgNTEuNDkwODA1NTgxMzY1MzJdLCBbMjUuNzYxOTc5MDAxOTQ3MDcyLCA1MS40OTA4MDI3NTY3MTMwNV0sIFsyNS43NjE5MjUxOTY2NTQwNywgNTEuNDkwNzk5OTMyMDYwOTQ1XSwgWzI1Ljc2MTg3MTM5MTM2NzczNCwgNTEuNDkwNzk3MTA3NDA5MDRdLCBbMjUuNzYxODE3NTg2MDg4MDcsIDUxLjQ5MDc5NDI4Mjc1NzNdLCBbMjUuNzYxNzYzNzgwODE1MDcsIDUxLjQ5MDc5MTQ1ODEwNTczXSwgWzI1Ljc2MTcwOTk3NTU0ODc0LCA1MS40OTA3ODg2MzM0NTQzMl0sIFsyNS43NjE2NTYxNzAyODkwNzYsIDUxLjQ5MDc4NTgwODgwMzExXSwgWzI1Ljc2MTYwMjM2NTAzNjA3NiwgNTEuNDkwNzgyOTg0MTUyMDU1XSwgWzI1Ljc2MTU0ODU1OTc4OTc0NSwgNTEuNDkwNzgwMTU5NTAxMl0sIFsyNS43NjE0OTQ3NTQ1NTAwODIsIDUxLjQ5MDc3NzMzNDg1MDUyXSwgWzI1Ljc2MTQ0MDk0OTMxNzA4OCwgNTEuNDkwNzc0NTEwMTk5OTg0XSwgWzI1Ljc2MTM4NzE0NDA5MDc1OCwgNTEuNDkwNzcxNjg1NTQ5NjVdLCBbMjUuNzYxMzMzMzM4ODcxMDk3LCA1MS40OTA3Njg4NjA4OTk0N10sIFsyNS43NjEyNzk1MzM2NTgxLCA1MS40OTA3NjYwMzYyNDk0OF0sIFsyNS43NjEyMjU3Mjg0NTE3NzcsIDUxLjQ5MDc2MzIxMTU5OTY1XSwgWzI1Ljc2MTE3MTkyMzI1MjExNywgNTEuNDkwNzYwMzg2OTUwMDFdLCBbMjUuNzYxMTE4MTE4MDU5MTI3LCA1MS40OTA3NTc1NjIzMDA1NV0sIFsyNS43NjEwNjQzMTI4NzI4MDgsIDUxLjQ5MDc1NDczNzY1MTI2NV0sIFsyNS43NjEwMTA1MDc2OTMxNDcsIDUxLjQ5MDc1MTkxMzAwMjE1XSwgWzI1Ljc2MDk1NjcwMjUyMDE2NSwgNTEuNDkwNzQ5MDg4MzUzMTldLCBbMjUuNzYwOTAyODk3MzUzODQ0LCA1MS40OTA3NDYyNjM3MDQ0Ml0sIFsyNS43NjA4NDkwOTIxOTQxOTYsIDUxLjQ5MDc0MzQzOTA1NTgyXSwgWzI1Ljc2MDc5NTI4NzA0MTIxNiwgNTEuNDkwNzQwNjE0NDA3NDFdLCBbMjUuNzYwNzQxNDgxODk0OSwgNTEuNDkwNzM3Nzg5NzU5MTddLCBbMjUuNzYwNjg3Njc2NzU1MjYsIDUxLjQ5MDczNDk2NTExMTFdLCBbMjUuNzYwNjMzODcxNjIyMjgyLCA1MS40OTA3MzIxNDA0NjMyXSwgWzI1Ljc2MDU4MDA2NjQ5NTk4LCA1MS40OTA3MjkzMTU4MTU0OF0sIFsyNS43NjA1MjYyNjEzNzYzNCwgNTEuNDkwNzI2NDkxMTY3OTVdLCBbMjUuNzYwNDcyNDU2MjYzMzc2LCA1MS40OTA3MjM2NjY1MjA1N10sIFsyNS43NjA0MTg2NTExNTcwNzUsIDUxLjQ5MDcyMDg0MTg3MzM3Nl0sIFsyNS43NjAzNjQ4NDYwNTc0NSwgNTEuNDkwNzE4MDE3MjI2MzZdLCBbMjUuNzYwMzExMDQwOTY0NDg1LCA1MS40OTA3MTUxOTI1Nzk1Ml0sIFsyNS43NjAyNTcyMzU4NzgxOTYsIDUxLjQ5MDcxMjM2NzkzMjg0NF0sIFsyNS43NjAyMDM0MzA3OTg1NzMsIDUxLjQ5MDcwOTU0MzI4NjM1XSwgWzI1Ljc2MDE0OTYyNTcyNTYyLCA1MS40OTA3MDY3MTg2NDAwNV0sIFsyNS43NjAwOTU4MjA2NTkzMzgsIDUxLjQ5MDcwMzg5Mzk5MzldLCBbMjUuNzYwMDQyMDE1NTk5NzI2LCA1MS40OTA3MDEwNjkzNDc5Ml0sIFsyNS43NTk5ODgyMTA1NDY3ODcsIDUxLjQ5MDY5ODI0NDcwMjEzXSwgWzI1Ljc1OTkzNDQwNTUwMDUwNiwgNTEuNDkwNjk1NDIwMDU2NTI1XSwgWzI1Ljc1OTg4MDYwMDQ2MDkwNywgNTEuNDkwNjkyNTk1NDExMDhdLCBbMjUuNzU5ODI2Nzk1NDI3OTgsIDUxLjQ5MDY4OTc3MDc2NThdLCBbMjUuNzU5NzcyOTkwNDAxNzE0LCA1MS40OTA2ODY5NDYxMjA3Ml0sIFsyNS43NTk3MTkxODUzODIxMiwgNTEuNDkwNjg0MTIxNDc1Nzk1XSwgWzI1Ljc1OTY2NTM4MDM2OTIsIDUxLjQ5MDY4MTI5NjgzMTA0XSwgWzI1Ljc1OTYxMTU3NTM2Mjk1LCA1MS40OTA2Nzg0NzIxODY0NzRdLCBbMjUuNzU5NTU3NzcwMzYzMzY1LCA1MS40OTA2NzU2NDc1NDIwOV0sIFsyNS43NTk1MDM5NjUzNzA0NTYsIDUxLjQ5MDY3MjgyMjg5Nzg4XSwgWzI1Ljc1OTQ1MDE2MDM4NDIyMywgNTEuNDkwNjY5OTk4MjUzODJdLCBbMjUuNzU5Mzk2MzU1NDA0NjUsIDUxLjQ5MDY2NzE3MzYwOTk2XSwgWzI1Ljc1OTM5MzI3NTEyMDk1NiwgNTEuNDkwNjgxNTYwNDI3N10sIFsyNS43NTk0MjYyNTE2NzIwMiwgNTEuNDkwNzA4MTgxNzM5M10sIFsyNS43NTk0NTkyMjgyNjE1OSwgNTEuNDkwNzM0ODAzMDY2NDY2XSwgWzI1Ljc1OTQ5MjIwNDg4OTY4MiwgNTEuNDkwNzYxNDI0NDA5MTY1XSwgWzI1Ljc1OTUyNTE4MTU1NjI4LCA1MS40OTA3ODgwNDU3Njc0XSwgWzI1Ljc1OTU1ODE1ODI2MTM5NSwgNTEuNDkwODE0NjY3MTQxMjFdLCBbMjUuNzU5NTkxMTM1MDA1MDI0LCA1MS40OTA4NDEyODg1MzA1NF0sIFsyNS43NTk2MjQxMTE3ODcxNjUsIDUxLjQ5MDg2NzkwOTkzNTQxXSwgWzI1Ljc1OTY1NzA4ODYwNzgyNCwgNTEuNDkwODk0NTMxMzU1ODM1XSwgWzI1Ljc1OTY5MDA2NTQ2Njk5LCA1MS40OTA5MjExNTI3OTE4XSwgWzI1Ljc1OTcyMzA0MjM2NDY3LCA1MS40OTA5NDc3NzQyNDMzMjRdLCBbMjUuNzU5NzU2MDE5MzAwODcsIDUxLjQ5MDk3NDM5NTcxMDM3NF0sIFsyNS43NTk3ODg5OTYyNzU1OCwgNTEuNDkxMDAxMDE3MTkyOThdLCBbMjUuNzU5ODIxOTczMjg4ODEsIDUxLjQ5MTAyNzYzODY5MTEzNl0sIFsyNS43NTk4NTQ5NTAzNDA1NCwgNTEuNDkxMDU0MjYwMjA0ODFdLCBbMjUuNzU5ODg3OTI3NDMwNzkzLCA1MS40OTEwODA4ODE3MzQwNjRdLCBbMjUuNzU5OTIwOTA0NTU5NTU3LCA1MS40OTExMDc1MDMyNzg4NV0sIFsyNS43NTk5NTM4ODE3MjY4NCwgNTEuNDkxMTM0MTI0ODM5Ml0sIFsyNS43NTk5ODY4NTg5MzI2MywgNTEuNDkxMTYwNzQ2NDE1MDddLCBbMjUuNzYwMDE5ODM2MTc2OTM3LCA1MS40OTExODczNjgwMDY0ODZdLCBbMjUuNzYwMDUyODEzNDU5NzYsIDUxLjQ5MTIxMzk4OTYxMzQ1XSwgWzI1Ljc2MDA4NTc5MDc4MTA5NCwgNTEuNDkxMjQwNjExMjM1OTY2XSwgWzI1Ljc2MDExODc2ODE0MDk0LCA1MS40OTEyNjcyMzI4NzQwMl0sIFsyNS43NjAxNTE3NDU1MzkzMSwgNTEuNDkxMjkzODU0NTI3NjI2XSwgWzI1Ljc2MDE4NDcyMjk3NjE5LCA1MS40OTEzMjA0NzYxOTY3OV0sIFsyNS43NjAyMTc3MDA0NTE1ODQsIDUxLjQ5MTM0NzA5Nzg4MTQ4XSwgWzI1Ljc2MDI1MDY3Nzk2NTQ4NywgNTEuNDkxMzczNzE5NTgxNzE2XSwgWzI1Ljc2MDI4MzY1NTUxNzkxLCA1MS40OTE0MDAzNDEyOTc1MDZdLCBbMjUuNzYwMzE2NjMzMTA4ODUsIDUxLjQ5MTQyNjk2MzAyODgzXSwgWzI1Ljc2MDM0OTYxMDczODI5NSwgNTEuNDkxNDUzNTg0Nzc1NzFdLCBbMjUuNzYwMzgyNTg4NDA2MjYyLCA1MS40OTE0ODAyMDY1MzgxM10sIFsyNS43NjA0MTU1NjYxMTI3NCwgNTEuNDkxNTA2ODI4MzE2MTA1XSwgWzI1Ljc2MDQ0ODU0Mzg1NzczNCwgNTEuNDkxNTMzNDUwMTA5NjE0XSwgWzI1Ljc2MDQ4MTUyMTY0MTI1MywgNTEuNDkxNTYwMDcxOTE4Njg0XSwgWzI1Ljc2MDUxNDQ5OTQ2MzI3LCA1MS40OTE1ODY2OTM3NDMyOF0sIFsyNS43NjA1NDc0NzczMjM4MDQsIDUxLjQ5MTYxMzMxNTU4MzQzNl0sIFsyNS43NjA1ODA0NTUyMjI4NiwgNTEuNDkxNjM5OTM3NDM5MTNdLCBbMjUuNzYwNjEzNDMzMTYwNDMzLCA1MS40OTE2NjY1NTkzMTAzOTZdLCBbMjUuNzYwNjQ2NDExMTM2NTIsIDUxLjQ5MTY5MzE4MTE5NzE4XSwgWzI1Ljc2MDY3OTM4OTE1MTExLCA1MS40OTE3MTk4MDMwOTk1MTRdLCBbMjUuNzYwNzEyMzY3MjA0MjI0LCA1MS40OTE3NDY0MjUwMTczOTZdLCBbMjUuNzYwNzQ1MzQ1Mjk1ODYsIDUxLjQ5MTc3MzA0Njk1MDgyXSwgWzI1Ljc2MDc3ODMyMzQyNTk5NSwgNTEuNDkxNzk5NjY4ODk5OF0sIFsyNS43NjA4MTEzMDE1OTQ2NTQsIDUxLjQ5MTgyNjI5MDg2NDMzXSwgWzI1Ljc2MDg0NDI3OTgwMTgzNCwgNTEuNDkxODUyOTEyODQ0MzldLCBbMjUuNzYwODc3MjU4MDQ3NTI1LCA1MS40OTE4Nzk1MzQ4NF0sIFsyNS43NjA5MTAyMzYzMzE3MjUsIDUxLjQ5MTkwNjE1Njg1MTE2XSwgWzI1Ljc2MDk0MzIxNDY1NDQ0MywgNTEuNDkxOTMyNzc4ODc3ODldLCBbMjUuNzYwOTc2MTkzMDE1NjgzLCA1MS40OTE5NTk0MDA5MjAxNF0sIFsyNS43NjEwMDkxNzE0MTU0MzQsIDUxLjQ5MTk4NjAyMjk3NzkzXSwgWzI1Ljc2MTA0MjE0OTg1MzcsIDUxLjQ5MjAxMjY0NTA1MTI4XSwgWzI1Ljc2MTA3NTEyODMzMDQ4LCA1MS40OTIwMzkyNjcxNDAxOF0sIFsyNS43NjExMDgxMDY4NDU3OCwgNTEuNDkyMDY1ODg5MjQ0Nl0sIFsyNS43NjExNDEwODUzOTk1OSwgNTEuNDkyMDkyNTExMzY0NTk2XSwgWzI1Ljc2MTE3NDA2Mzk5MTkyLCA1MS40OTIxMTkxMzM1MDAxMjVdLCBbMjUuNzYxMjA3MDQyNjIyNzU4LCA1MS40OTIxNDU3NTU2NTEyXSwgWzI1Ljc2MTI0MDAyMTI5MjEyLCA1MS40OTIxNzIzNzc4MTc4NF0sIFsyNS43NjEyNzMsIDUxLjQ5MjE5OV1dLCAidHlwZSI6ICJMaW5lU3RyaW5nIn0sICJwcm9wZXJ0aWVzIjogeyJwb3B1cCI6ICJQb3J0bGFuZCwgT1IiLCAidGltZXMiOiBbMTUzNDU3OTIwMDAwMC4wLCAxNTM0NTc5MjA0OTI0LjYyMywgMTUzNDU3OTIwOTg0OS4yNDYzLCAxNTM0NTc5MjE0NzczLjg2OTQsIDE1MzQ1NzkyMTk2OTguNDkyNCwgMTUzNDU3OTIyNDYyMy4xMTU1LCAxNTM0NTc5MjI5NTQ3LjczODgsIDE1MzQ1NzkyMzQ0NzIuMzYxOCwgMTUzNDU3OTIzOTM5Ni45ODQ5LCAxNTM0NTc5MjQ0MzIxLjYwODIsIDE1MzQ1NzkyNDkyNDYuMjMxMiwgMTUzNDU3OTI1NDE3MC44NTQyLCAxNTM0NTc5MjU5MDk1LjQ3NzMsIDE1MzQ1NzkyNjQwMjAuMTAwNiwgMTUzNDU3OTI2ODk0NC43MjM2LCAxNTM0NTc5MjczODY5LjM0NjcsIDE1MzQ1NzkyNzg3OTMuOTcsIDE1MzQ1NzkyODM3MTguNTkzLCAxNTM0NTc5Mjg4NjQzLjIxNiwgMTUzNDU3OTI5MzU2Ny44MzksIDE1MzQ1NzkyOTg0OTIuNDYyNCwgMTUzNDU3OTMwMzQxNy4wODU0LCAxNTM0NTc5MzA4MzQxLjcwODUsIDE1MzQ1NzkzMTMyNjYuMzMxNSwgMTUzNDU3OTMxODE5MC45NTQ4LCAxNTM0NTc5MzIzMTE1LjU3OCwgMTUzNDU3OTMyODA0MC4yMDEsIDE1MzQ1NzkzMzI5NjQuODI0MiwgMTUzNDU3OTMzNzg4OS40NDczLCAxNTM0NTc5MzQyODE0LjA3MDMsIDE1MzQ1NzkzNDc3MzguNjkzNCwgMTUzNDU3OTM1MjY2My4zMTY3LCAxNTM0NTc5MzU3NTg3LjkzOTcsIDE1MzQ1NzkzNjI1MTIuNTYyNywgMTUzNDU3OTM2NzQzNy4xODYsIDE1MzQ1NzkzNzIzNjEuODA5LCAxNTM0NTc5Mzc3Mjg2LjQzMjEsIDE1MzQ1NzkzODIyMTEuMDU1MiwgMTUzNDU3OTM4NzEzNS42Nzg1LCAxNTM0NTc5MzkyMDYwLjMwMTUsIDE1MzQ1NzkzOTY5ODQuOTI0NiwgMTUzNDU3OTQwMTkwOS41NDc5LCAxNTM0NTc5NDA2ODM0LjE3MSwgMTUzNDU3OTQxMTc1OC43OTQsIDE1MzQ1Nzk0MTY2ODMuNDE3LCAxNTM0NTc5NDIxNjA4LjA0MDMsIDE1MzQ1Nzk0MjY1MzIuNjYzMywgMTUzNDU3OTQzMTQ1Ny4yODY0LCAxNTM0NTc5NDM2MzgxLjkwOTcsIDE1MzQ1Nzk0NDEzMDYuNTMyNywgMTUzNDU3OTQ0NjIzMS4xNTU4LCAxNTM0NTc5NDUxMTU1Ljc3ODgsIDE1MzQ1Nzk0NTYwODAuNDAyLCAxNTM0NTc5NDYxMDA1LjAyNTEsIDE1MzQ1Nzk0NjU5MjkuNjQ4MiwgMTUzNDU3OTQ3MDg1NC4yNzEyLCAxNTM0NTc5NDc1Nzc4Ljg5NDUsIDE1MzQ1Nzk0ODA3MDMuNTE3NiwgMTUzNDU3OTQ4NTYyOC4xNDA2LCAxNTM0NTc5NDkwNTUyLjc2NCwgMTUzNDU3OTQ5NTQ3Ny4zODcsIDE1MzQ1Nzk1MDA0MDIuMDEsIDE1MzQ1Nzk1MDUzMjYuNjMzLCAxNTM0NTc5NTEwMjUxLjI1NjMsIDE1MzQ1Nzk1MTUxNzUuODc5NCwgMTUzNDU3OTUyMDEwMC41MDI0LCAxNTM0NTc5NTI1MDI1LjEyNTcsIDE1MzQ1Nzk1Mjk5NDkuNzQ4OCwgMTUzNDU3OTUzNDg3NC4zNzE4LCAxNTM0NTc5NTM5Nzk4Ljk5NDksIDE1MzQ1Nzk1NDQ3MjMuNjE4MiwgMTUzNDU3OTU0OTY0OC4yNDEyLCAxNTM0NTc5NTU0NTcyLjg2NDMsIDE1MzQ1Nzk1NTk0OTcuNDg3NSwgMTUzNDU3OTU2NDQyMi4xMTA2LCAxNTM0NTc5NTY5MzQ2LjczMzYsIDE1MzQ1Nzk1NzQyNzEuMzU2NywgMTUzNDU3OTU3OTE5NS45OCwgMTUzNDU3OTU4NDEyMC42MDMsIDE1MzQ1Nzk1ODkwNDUuMjI2LCAxNTM0NTc5NTkzOTY5Ljg0OTQsIDE1MzQ1Nzk1OTg4OTQuNDcyNCwgMTUzNDU3OTYwMzgxOS4wOTU1LCAxNTM0NTc5NjA4NzQzLjcxODUsIDE1MzQ1Nzk2MTM2NjguMzQxOCwgMTUzNDU3OTYxODU5Mi45NjQ4LCAxNTM0NTc5NjIzNTE3LjU4OCwgMTUzNDU3OTYyODQ0Mi4yMTEsIDE1MzQ1Nzk2MzMzNjYuODM0MiwgMTUzNDU3OTYzODI5MS40NTczLCAxNTM0NTc5NjQzMjE2LjA4MDMsIDE1MzQ1Nzk2NDgxNDAuNzAzNiwgMTUzNDU3OTY1MzA2NS4zMjY3LCAxNTM0NTc5NjU3OTg5Ljk0OTcsIDE1MzQ1Nzk2NjI5MTQuNTcyOCwgMTUzNDU3OTY2NzgzOS4xOTYsIDE1MzQ1Nzk2NzI3NjMuODE5LCAxNTM0NTc5Njc3Njg4LjQ0MjEsIDE1MzQ1Nzk2ODI2MTMuMDY1NCwgMTUzNDU3OTY4NzUzNy42ODg1LCAxNTM0NTc5NjkyNDYyLjMxMTUsIDE1MzQ1Nzk2OTczODYuOTM0NiwgMTUzNDU3OTcwMjMxMS41NTc5LCAxNTM0NTc5NzA3MjM2LjE4MSwgMTUzNDU3OTcxMjE2MC44MDQsIDE1MzQ1Nzk3MTcwODUuNDI3MiwgMTUzNDU3OTcyMjAxMC4wNTAzLCAxNTM0NTc5NzI2OTM0LjY3MzMsIDE1MzQ1Nzk3MzE4NTkuMjk2NCwgMTUzNDU3OTczNjc4My45MTk3LCAxNTM0NTc5NzQxNzA4LjU0MjcsIDE1MzQ1Nzk3NDY2MzMuMTY1OCwgMTUzNDU3OTc1MTU1Ny43ODksIDE1MzQ1Nzk3NTY0ODIuNDEyLCAxNTM0NTc5NzYxNDA3LjAzNTIsIDE1MzQ1Nzk3NjYzMzEuNjU4MiwgMTUzNDU3OTc3MTI1Ni4yODE1LCAxNTM0NTc5Nzc2MTgwLjkwNDUsIDE1MzQ1Nzk3ODExMDUuNTI3NiwgMTUzNDU3OTc4NjAzMC4xNTA2LCAxNTM0NTc5NzkwOTU0Ljc3NCwgMTUzNDU3OTc5NTg3OS4zOTcsIDE1MzQ1Nzk4MDA4MDQuMDIsIDE1MzQ1Nzk4MDU3MjguNjQzMywgMTUzNDU3OTgxMDY1My4yNjY0LCAxNTM0NTc5ODE1NTc3Ljg4OTQsIDE1MzQ1Nzk4MjA1MDIuNTEyNSwgMTUzNDU3OTgyNTQyNy4xMzU3LCAxNTM0NTc5ODMwMzUxLjc1ODgsIDE1MzQ1Nzk4MzUyNzYuMzgxOCwgMTUzNDU3OTg0MDIwMS4wMDUxLCAxNTM0NTc5ODQ1MTI1LjYyODIsIDE1MzQ1Nzk4NTAwNTAuMjUxMiwgMTUzNDU3OTg1NDk3NC44NzQzLCAxNTM0NTc5ODU5ODk5LjQ5NzYsIDE1MzQ1Nzk4NjQ4MjQuMTIwNiwgMTUzNDU3OTg2OTc0OC43NDM3LCAxNTM0NTc5ODc0NjczLjM2NywgMTUzNDU3OTg3OTU5Ny45OSwgMTUzNDU3OTg4NDUyMi42MTMsIDE1MzQ1Nzk4ODk0NDcuMjM2LCAxNTM0NTc5ODk0MzcxLjg1OTQsIDE1MzQ1Nzk4OTkyOTYuNDgyNCwgMTUzNDU3OTkwNDIyMS4xMDU1LCAxNTM0NTc5OTA5MTQ1LjcyODgsIDE1MzQ1Nzk5MTQwNzAuMzUxOCwgMTUzNDU3OTkxODk5NC45NzQ5LCAxNTM0NTc5OTIzOTE5LjU5OCwgMTUzNDU3OTkyODg0NC4yMjEyLCAxNTM0NTc5OTMzNzY4Ljg0NDIsIDE1MzQ1Nzk5Mzg2OTMuNDY3MywgMTUzNDU3OTk0MzYxOC4wOTAzLCAxNTM0NTc5OTQ4NTQyLjcxMzYsIDE1MzQ1Nzk5NTM0NjcuMzM2NywgMTUzNDU3OTk1ODM5MS45NTk3LCAxNTM0NTc5OTYzMzE2LjU4MywgMTUzNDU3OTk2ODI0MS4yMDYsIDE1MzQ1Nzk5NzMxNjUuODI5LCAxNTM0NTc5OTc4MDkwLjQ1MjEsIDE1MzQ1Nzk5ODMwMTUuMDc1NCwgMTUzNDU3OTk4NzkzOS42OTg1LCAxNTM0NTc5OTkyODY0LjMyMTUsIDE1MzQ1Nzk5OTc3ODguOTQ0OCwgMTUzNDU4MDAwMjcxMy41Njc5LCAxNTM0NTgwMDA3NjM4LjE5MSwgMTUzNDU4MDAxMjU2Mi44MTQsIDE1MzQ1ODAwMTc0ODcuNDM3MywgMTUzNDU4MDAyMjQxMi4wNjAzLCAxNTM0NTgwMDI3MzM2LjY4MzMsIDE1MzQ1ODAwMzIyNjEuMzA2NiwgMTUzNDU4MDAzNzE4NS45Mjk3LCAxNTM0NTgwMDQyMTEwLjU1MjcsIDE1MzQ1ODAwNDcwMzUuMTc1OCwgMTUzNDU4MDA1MTk1OS43OTksIDE1MzQ1ODAwNTY4ODQuNDIyLCAxNTM0NTgwMDYxODA5LjA0NTIsIDE1MzQ1ODAwNjY3MzMuNjY4NSwgMTUzNDU4MDA3MTY1OC4yOTE1LCAxNTM0NTgwMDc2NTgyLjkxNDYsIDE1MzQ1ODAwODE1MDcuNTM3NiwgMTUzNDU4MDA4NjQzMi4xNjEsIDE1MzQ1ODAwOTEzNTYuNzg0LCAxNTM0NTgwMDk2MjgxLjQwNywgMTUzNDU4MDEwMTIwNi4wMywgMTUzNDU4MDEwNjEzMC42NTMzLCAxNTM0NTgwMTExMDU1LjI3NjQsIDE1MzQ1ODAxMTU5NzkuODk5NCwgMTUzNDU4MDEyMDkwNC41MjI3LCAxNTM0NTgwMTI1ODI5LjE0NTgsIDE1MzQ1ODAxMzA3NTMuNzY4OCwgMTUzNDU4MDEzNTY3OC4zOTE4LCAxNTM0NTgwMTQwNjAzLjAxNTEsIDE1MzQ1ODAxNDU1MjcuNjM4MiwgMTUzNDU4MDE1MDQ1Mi4yNjEyLCAxNTM0NTgwMTU1Mzc2Ljg4NDUsIDE1MzQ1ODAxNjAzMDEuNTA3NiwgMTUzNDU4MDE2NTIyNi4xMzA2LCAxNTM0NTgwMTcwMTUwLjc1MzcsIDE1MzQ1ODAxNzUwNzUuMzc3LCAxNTM0NTgwMTgwMDAwLjBdfSwgInR5cGUiOiAiRmVhdHVyZSJ9LCB7Imdlb21ldHJ5IjogeyJjb29yZGluYXRlcyI6IFtbMjUuNzYxMjczLCA1MS40OTIxOTkwMDAwMDAwMV0sIFsyNS43NjEyODg2ODQyODM2NywgNTEuNDkyMTY2ODI5MTI1MThdLCBbMjUuNzYxMzA0MzY4NTQ1MjA4LCA1MS40OTIxMzQ2NTgyNzMwNjZdLCBbMjUuNzYxMzIwMDUyNzg0NjA1LCA1MS40OTIxMDI0ODc0NDM2NV0sIFsyNS43NjEzMzU3MzcwMDE4NywgNTEuNDkyMDcwMzE2NjM2OTU1XSwgWzI1Ljc2MTM1MTQyMTE5NzAwMiwgNTEuNDkyMDM4MTQ1ODUyOTQ1XSwgWzI1Ljc2MTM2NzEwNTM2OTk4OCwgNTEuNDkyMDA1OTc1MDkxNjRdLCBbMjUuNzYxMzgyNzg5NTIwODQ4LCA1MS40OTE5NzM4MDQzNTMwNDRdLCBbMjUuNzYxMzk4NDczNjQ5NTY0LCA1MS40OTE5NDE2MzM2MzcxNV0sIFsyNS43NjE0MTQxNTc3NTYxNTMsIDUxLjQ5MTkwOTQ2Mjk0Mzk0NF0sIFsyNS43NjE0Mjk4NDE4NDA1OTUsIDUxLjQ5MTg3NzI5MjI3MzQ2XSwgWzI1Ljc2MTQ0NTUyNTkwMjkwNywgNTEuNDkxODQ1MTIxNjI1NjY2XSwgWzI1Ljc2MTQ2MTIwOTk0MzA5LCA1MS40OTE4MTI5NTEwMDA1N10sIFsyNS43NjE0NzY4OTM5NjExMjcsIDUxLjQ5MTc4MDc4MDM5ODE2Nl0sIFsyNS43NjE1MDEzNDM3NTE2ODIsIDUxLjQ5MTc1Mjc3NzI2ODYxNl0sIFsyNS43NjE1NDcwNTkxNTE1MSwgNTEuNDkxNzM0ODg0MzAxMTldLCBbMjUuNzYxNTkyNzc0NTE1NDU2LCA1MS40OTE3MTY5OTEzNDA3OTVdLCBbMjUuNzYxNjM4NDg5ODQzNTEzLCA1MS40OTE2OTkwOTgzODc0MV0sIFsyNS43NjE2ODQyMDUxMzU2ODMsIDUxLjQ5MTY4MTIwNTQ0MTA3XSwgWzI1Ljc2MTcyOTkyMDM5MTk3NSwgNTEuNDkxNjYzMzEyNTAxNzJdLCBbMjUuNzYxNzc1NjM1NjEyMzg0LCA1MS40OTE2NDU0MTk1Njk0Ml0sIFsyNS43NjE4MjEzNTA3OTY5MSwgNTEuNDkxNjI3NTI2NjQ0MTJdLCBbMjUuNzYxODY3MDY1OTQ1NTQ4LCA1MS40OTE2MDk2MzM3MjU4NjVdLCBbMjUuNzYxOTEyNzgxMDU4MzAzLCA1MS40OTE1OTE3NDA4MTQ2MV0sIFsyNS43NjE5NTg0OTYxMzUxOCwgNTEuNDkxNTczODQ3OTEwNF0sIFsyNS43NjIwMDQyMTExNzYxNjYsIDUxLjQ5MTU1NTk1NTAxMzIxXSwgWzI1Ljc2MjA0OTkyNjE4MTI3MywgNTEuNDkxNTM4MDYyMTIzMDVdLCBbMjUuNzYyMDk1NjQxMTUwNSwgNTEuNDkxNTIwMTY5MjM5ODldLCBbMjUuNzYyMTQxMzU2MDgzODMsIDUxLjQ5MTUwMjI3NjM2Mzc1NF0sIFsyNS43NjIxODcwNzA5ODEyODcsIDUxLjQ5MTQ4NDM4MzQ5NDY2XSwgWzI1Ljc2MjIzMjc4NTg0Mjg1NSwgNTEuNDkxNDY2NDkwNjMyNThdLCBbMjUuNzYyMjc4NTAwNjY4NTQzLCA1MS40OTE0NDg1OTc3Nzc1M10sIFsyNS43NjIzMjQyMTU0NTgzNDIsIDUxLjQ5MTQzMDcwNDkyOTQ4XSwgWzI1Ljc2MjM2OTkzMDIxMjI2MiwgNTEuNDkxNDEyODEyMDg4NDU2XSwgWzI1Ljc2MjQxNTY0NDkzMDI5MywgNTEuNDkxMzk0OTE5MjU0NDddLCBbMjUuNzYyNDYxMzU5NjEyNDUsIDUxLjQ5MTM3NzAyNjQyNzUxXSwgWzI1Ljc2MjUwNzA3NDI1ODcxNCwgNTEuNDkxMzU5MTMzNjA3NTddLCBbMjUuNzYyNTUyNzg4ODY5MDk3LCA1MS40OTEzNDEyNDA3OTQ2Ml0sIFsyNS43NjI1OTg1MDM0NDM1OTUsIDUxLjQ5MTMyMzM0Nzk4ODc0XSwgWzI1Ljc2MjY0NDIxNzk4MjIxLCA1MS40OTEzMDU0NTUxODk4Nl0sIFsyNS43NjI2ODk5MzI0ODQ5NDMsIDUxLjQ5MTI4NzU2MjM5Nzk4Nl0sIFsyNS43NjI3MzU2NDY5NTE3OTMsIDUxLjQ5MTI2OTY2OTYxMzE1XSwgWzI1Ljc2Mjc4MTM2MTM4Mjc1MywgNTEuNDkxMjUxNzc2ODM1MzU1XSwgWzI1Ljc2MjgyNzA3NTc3NzgzNSwgNTEuNDkxMjMzODg0MDY0NTZdLCBbMjUuNzYyODcyNzkwMTM3MDI4LCA1MS40OTEyMTU5OTEzMDA4XSwgWzI1Ljc2MjkxODUwNDQ2MDMzNywgNTEuNDkxMTk4MDk4NTQ0MDU0XSwgWzI1Ljc2Mjk2NDIxODc0Nzc2NSwgNTEuNDkxMTgwMjA1Nzk0MzM2XSwgWzI1Ljc2MzAwOTkzMjk5OTMxLCA1MS40OTExNjIzMTMwNTE2Ml0sIFsyNS43NjMwNTU2NDcyMTQ5NywgNTEuNDkxMTQ0NDIwMzE1OTRdLCBbMjUuNzYzMTAxMzYxMzk0NzQyLCA1MS40OTExMjY1Mjc1ODczMDVdLCBbMjUuNzYzMTQ3MDc1NTM4NjM3LCA1MS40OTExMDg2MzQ4NjU2Nl0sIFsyNS43NjMxOTI3ODk2NDY2NCwgNTEuNDkxMDkwNzQyMTUxMDY2XSwgWzI1Ljc2MzIzODUwMzcxODc2NCwgNTEuNDkxMDcyODQ5NDQzNDddLCBbMjUuNzYzMjg0MjE3NzU1LCA1MS40OTEwNTQ5NTY3NDI5Ml0sIFsyNS43NjMzMjk5MzE3NTUzNiwgNTEuNDkxMDM3MDY0MDQ5MzY1XSwgWzI1Ljc2MzM3NTY0NTcxOTgyNiwgNTEuNDkxMDE5MTcxMzYyODVdLCBbMjUuNzYzNDIxMzU5NjQ4NDA4LCA1MS40OTEwMDEyNzg2ODMzNV0sIFsyNS43NjM0NjcwNzM1NDExMTUsIDUxLjQ5MDk4MzM4NjAxMDg3XSwgWzI1Ljc2MzUxMjc4NzM5NzkzLCA1MS40OTA5NjU0OTMzNDU0MV0sIFsyNS43NjM1NTg1MDEyMTg4NjMsIDUxLjQ5MDk0NzYwMDY4Njk5XSwgWzI1Ljc2MzYwNDIxNTAwMzkxLCA1MS40OTA5Mjk3MDgwMzU1OV0sIFsyNS43NjM2NDk5Mjg3NTMwNzIsIDUxLjQ5MDkxMTgxNTM5MTE5XSwgWzI1Ljc2MzY5NTY0MjQ2NjM2LCA1MS40OTA4OTM5MjI3NTM4MzRdLCBbMjUuNzYzNjQ2OTY5MzM2MTUsIDUxLjQ5MDg5MDMyMTAxNDc3NF0sIFsyNS43NjM1OTMxNjM4MzY1MzIsIDUxLjQ5MDg4NzQ5NjM1NzI0Nl0sIFsyNS43NjM1MzkzNTgzNDM1ODYsIDUxLjQ5MDg4NDY3MTY5OTldLCBbMjUuNzYzNDg1NTUyODU3MjkzLCA1MS40OTA4ODE4NDcwNDI3NF0sIFsyNS43NjM0MzE3NDczNzc2NywgNTEuNDkwODc5MDIyMzg1NzNdLCBbMjUuNzYzMzc3OTQxOTA0NzA3LCA1MS40OTA4NzYxOTc3Mjg5MTZdLCBbMjUuNzYzMzI0MTM2NDM4NDEsIDUxLjQ5MDg3MzM3MzA3MjI3Nl0sIFsyNS43NjMyNzAzMzA5Nzg3NzcsIDUxLjQ5MDg3MDU0ODQxNTc5XSwgWzI1Ljc2MzIxNjUyNTUyNTgwNiwgNTEuNDkwODY3NzIzNzU5NTJdLCBbMjUuNzYzMTYyNzIwMDc5NSwgNTEuNDkwODY0ODk5MTAzMzldLCBbMjUuNzYzMTA4OTE0NjM5ODY1LCA1MS40OTA4NjIwNzQ0NDc0NV0sIFsyNS43NjMwNTUxMDkyMDY4ODUsIDUxLjQ5MDg1OTI0OTc5MTddLCBbMjUuNzYzMDAxMzAzNzgwNTc3LCA1MS40OTA4NTY0MjUxMzYwOV0sIFsyNS43NjI5NDc0OTgzNjA5MywgNTEuNDkwODUzNjAwNDgwNjc2XSwgWzI1Ljc2Mjg5MzY5Mjk0Nzk0OCwgNTEuNDkwODUwNzc1ODI1NDNdLCBbMjUuNzYyODM5ODg3NTQxNjI3LCA1MS40OTA4NDc5NTExNzAzNV0sIFsyNS43NjI3ODYwODIxNDE5OCwgNTEuNDkwODQ1MTI2NTE1NDddLCBbMjUuNzYyNzMyMjc2NzQ4OTg4LCA1MS40OTA4NDIzMDE4NjA3NF0sIFsyNS43NjI2Nzg0NzEzNjI2NzMsIDUxLjQ5MDgzOTQ3NzIwNjE5NF0sIFsyNS43NjI2MjQ2NjU5ODMwMSwgNTEuNDkwODM2NjUyNTUxODJdLCBbMjUuNzYyNTcwODYwNjEwMDIsIDUxLjQ5MDgzMzgyNzg5NzYzXSwgWzI1Ljc2MjUxNzA1NTI0MzcwMiwgNTEuNDkwODMxMDAzMjQzNjA2XSwgWzI1Ljc2MjQ2MzI0OTg4NDAzNiwgNTEuNDkwODI4MTc4NTg5NzY2XSwgWzI1Ljc2MjQwOTQ0NDUzMTA0NSwgNTEuNDkwODI1MzUzOTM2MTFdLCBbMjUuNzYyMzU1NjM5MTg0NzEsIDUxLjQ5MDgyMjUyOTI4MjYyNF0sIFsyNS43NjIzMDE4MzM4NDUwNTQsIDUxLjQ5MDgxOTcwNDYyOTI5XSwgWzI1Ljc2MjI0ODAyODUxMjA1OCwgNTEuNDkwODE2ODc5OTc2MTVdLCBbMjUuNzYyMTk0MjIzMTg1NzI3LCA1MS40OTA4MTQwNTUzMjMxOF0sIFsyNS43NjIxNDA0MTc4NjYwNjgsIDUxLjQ5MDgxMTIzMDY3MDM5XSwgWzI1Ljc2MjA4NjYxMjU1MzA2LCA1MS40OTA4MDg0MDYwMTc3Nl0sIFsyNS43NjIwMzI4MDcyNDY3MzMsIDUxLjQ5MDgwNTU4MTM2NTMyXSwgWzI1Ljc2MTk3OTAwMTk0NzA3MiwgNTEuNDkwODAyNzU2NzEzMDVdLCBbMjUuNzYxOTI1MTk2NjU0MDcsIDUxLjQ5MDc5OTkzMjA2MDk0NV0sIFsyNS43NjE4NzEzOTEzNjc3MzQsIDUxLjQ5MDc5NzEwNzQwOTA0XSwgWzI1Ljc2MTgxNzU4NjA4ODA3LCA1MS40OTA3OTQyODI3NTczXSwgWzI1Ljc2MTc2Mzc4MDgxNTA3LCA1MS40OTA3OTE0NTgxMDU3M10sIFsyNS43NjE3MDk5NzU1NDg3NCwgNTEuNDkwNzg4NjMzNDU0MzJdLCBbMjUuNzYxNjU2MTcwMjg5MDc2LCA1MS40OTA3ODU4MDg4MDMxMV0sIFsyNS43NjE2MDIzNjUwMzYwNzYsIDUxLjQ5MDc4Mjk4NDE1MjA1NV0sIFsyNS43NjE1NDg1NTk3ODk3NDUsIDUxLjQ5MDc4MDE1OTUwMTJdLCBbMjUuNzYxNDk0NzU0NTUwMDgyLCA1MS40OTA3NzczMzQ4NTA1Ml0sIFsyNS43NjE0NDA5NDkzMTcwODgsIDUxLjQ5MDc3NDUxMDE5OTk4NF0sIFsyNS43NjEzODcxNDQwOTA3NTgsIDUxLjQ5MDc3MTY4NTU0OTY1XSwgWzI1Ljc2MTMzMzMzODg3MTA5NywgNTEuNDkwNzY4ODYwODk5NDddLCBbMjUuNzYxMjc5NTMzNjU4MSwgNTEuNDkwNzY2MDM2MjQ5NDhdLCBbMjUuNzYxMjI1NzI4NDUxNzc3LCA1MS40OTA3NjMyMTE1OTk2NV0sIFsyNS43NjExNzE5MjMyNTIxMTcsIDUxLjQ5MDc2MDM4Njk1MDAxXSwgWzI1Ljc2MTExODExODA1OTEyNywgNTEuNDkwNzU3NTYyMzAwNTVdLCBbMjUuNzYxMDY0MzEyODcyODA4LCA1MS40OTA3NTQ3Mzc2NTEyNjVdLCBbMjUuNzYxMDEwNTA3NjkzMTQ3LCA1MS40OTA3NTE5MTMwMDIxNV0sIFsyNS43NjA5NTY3MDI1MjAxNjUsIDUxLjQ5MDc0OTA4ODM1MzE5XSwgWzI1Ljc2MDkwMjg5NzM1Mzg0NCwgNTEuNDkwNzQ2MjYzNzA0NDJdLCBbMjUuNzYwODQ5MDkyMTk0MTk2LCA1MS40OTA3NDM0MzkwNTU4Ml0sIFsyNS43NjA3OTUyODcwNDEyMTYsIDUxLjQ5MDc0MDYxNDQwNzQxXSwgWzI1Ljc2MDc0MTQ4MTg5NDksIDUxLjQ5MDczNzc4OTc1OTE3XSwgWzI1Ljc2MDY4NzY3Njc1NTI2LCA1MS40OTA3MzQ5NjUxMTExXSwgWzI1Ljc2MDYzMzg3MTYyMjI4MiwgNTEuNDkwNzMyMTQwNDYzMl0sIFsyNS43NjA1ODAwNjY0OTU5OCwgNTEuNDkwNzI5MzE1ODE1NDhdLCBbMjUuNzYwNTI2MjYxMzc2MzQsIDUxLjQ5MDcyNjQ5MTE2Nzk1XSwgWzI1Ljc2MDQ3MjQ1NjI2MzM3NiwgNTEuNDkwNzIzNjY2NTIwNTddLCBbMjUuNzYwNDE4NjUxMTU3MDc1LCA1MS40OTA3MjA4NDE4NzMzNzZdLCBbMjUuNzYwMzY0ODQ2MDU3NDUsIDUxLjQ5MDcxODAxNzIyNjM2XSwgWzI1Ljc2MDMxMTA0MDk2NDQ4NSwgNTEuNDkwNzE1MTkyNTc5NTJdLCBbMjUuNzYwMjU3MjM1ODc4MTk2LCA1MS40OTA3MTIzNjc5MzI4NDRdLCBbMjUuNzYwMjAzNDMwNzk4NTczLCA1MS40OTA3MDk1NDMyODYzNV0sIFsyNS43NjAxNDk2MjU3MjU2MiwgNTEuNDkwNzA2NzE4NjQwMDVdLCBbMjUuNzYwMDk1ODIwNjU5MzM4LCA1MS40OTA3MDM4OTM5OTM5XSwgWzI1Ljc2MDA0MjAxNTU5OTcyNiwgNTEuNDkwNzAxMDY5MzQ3OTJdLCBbMjUuNzU5OTg4MjEwNTQ2Nzg3LCA1MS40OTA2OTgyNDQ3MDIxM10sIFsyNS43NTk5MzQ0MDU1MDA1MDYsIDUxLjQ5MDY5NTQyMDA1NjUyNV0sIFsyNS43NTk4ODA2MDA0NjA5MDcsIDUxLjQ5MDY5MjU5NTQxMTA4XSwgWzI1Ljc1OTgyNjc5NTQyNzk4LCA1MS40OTA2ODk3NzA3NjU4XSwgWzI1Ljc1OTc3Mjk5MDQwMTcxNCwgNTEuNDkwNjg2OTQ2MTIwNzJdLCBbMjUuNzU5NzE5MTg1MzgyMTIsIDUxLjQ5MDY4NDEyMTQ3NTc5NV0sIFsyNS43NTk2NjUzODAzNjkyLCA1MS40OTA2ODEyOTY4MzEwNF0sIFsyNS43NTk2MTE1NzUzNjI5NSwgNTEuNDkwNjc4NDcyMTg2NDc0XSwgWzI1Ljc1OTU1Nzc3MDM2MzM2NSwgNTEuNDkwNjc1NjQ3NTQyMDldLCBbMjUuNzU5NTAzOTY1MzcwNDU2LCA1MS40OTA2NzI4MjI4OTc4OF0sIFsyNS43NTk0NTAxNjAzODQyMjMsIDUxLjQ5MDY2OTk5ODI1MzgyXSwgWzI1Ljc1OTM5NjM1NTQwNDY1LCA1MS40OTA2NjcxNzM2MDk5Nl0sIFsyNS43NTkzOTMyNzUxMjA5NTYsIDUxLjQ5MDY4MTU2MDQyNzddLCBbMjUuNzU5NDI2MjUxNjcyMDIsIDUxLjQ5MDcwODE4MTczOTNdLCBbMjUuNzU5NDU5MjI4MjYxNTksIDUxLjQ5MDczNDgwMzA2NjQ2Nl0sIFsyNS43NTk0OTIyMDQ4ODk2ODIsIDUxLjQ5MDc2MTQyNDQwOTE2NV0sIFsyNS43NTk1MjUxODE1NTYyOCwgNTEuNDkwNzg4MDQ1NzY3NF0sIFsyNS43NTk1NTgxNTgyNjEzOTUsIDUxLjQ5MDgxNDY2NzE0MTIxXSwgWzI1Ljc1OTU5MTEzNTAwNTAyNCwgNTEuNDkwODQxMjg4NTMwNTRdLCBbMjUuNzU5NjI0MTExNzg3MTY1LCA1MS40OTA4Njc5MDk5MzU0MV0sIFsyNS43NTk2NTcwODg2MDc4MjQsIDUxLjQ5MDg5NDUzMTM1NTgzNV0sIFsyNS43NTk2OTAwNjU0NjY5OSwgNTEuNDkwOTIxMTUyNzkxOF0sIFsyNS43NTk3MjMwNDIzNjQ2NywgNTEuNDkwOTQ3Nzc0MjQzMzI0XSwgWzI1Ljc1OTc1NjAxOTMwMDg3LCA1MS40OTA5NzQzOTU3MTAzNzRdLCBbMjUuNzU5Nzg4OTk2Mjc1NTgsIDUxLjQ5MTAwMTAxNzE5Mjk4XSwgWzI1Ljc1OTgyMTk3MzI4ODgxLCA1MS40OTEwMjc2Mzg2OTExMzZdLCBbMjUuNzU5ODU0OTUwMzQwNTQsIDUxLjQ5MTA1NDI2MDIwNDgxXSwgWzI1Ljc1OTg4NzkyNzQzMDc5MywgNTEuNDkxMDgwODgxNzM0MDY0XSwgWzI1Ljc1OTkyMDkwNDU1OTU1NywgNTEuNDkxMTA3NTAzMjc4ODVdLCBbMjUuNzU5OTUzODgxNzI2ODQsIDUxLjQ5MTEzNDEyNDgzOTJdLCBbMjUuNzU5OTg2ODU4OTMyNjMsIDUxLjQ5MTE2MDc0NjQxNTA3XSwgWzI1Ljc2MDAxOTgzNjE3NjkzNywgNTEuNDkxMTg3MzY4MDA2NDg2XSwgWzI1Ljc2MDA1MjgxMzQ1OTc2LCA1MS40OTEyMTM5ODk2MTM0NV0sIFsyNS43NjAwODU3OTA3ODEwOTQsIDUxLjQ5MTI0MDYxMTIzNTk2Nl0sIFsyNS43NjAxMTg3NjgxNDA5NCwgNTEuNDkxMjY3MjMyODc0MDJdLCBbMjUuNzYwMTUxNzQ1NTM5MzEsIDUxLjQ5MTI5Mzg1NDUyNzYyNl0sIFsyNS43NjAxODQ3MjI5NzYxOSwgNTEuNDkxMzIwNDc2MTk2NzldLCBbMjUuNzYwMjE3NzAwNDUxNTg0LCA1MS40OTEzNDcwOTc4ODE0OF0sIFsyNS43NjAyNTA2Nzc5NjU0ODcsIDUxLjQ5MTM3MzcxOTU4MTcxNl0sIFsyNS43NjAyODM2NTU1MTc5MSwgNTEuNDkxNDAwMzQxMjk3NTA2XSwgWzI1Ljc2MDMxNjYzMzEwODg1LCA1MS40OTE0MjY5NjMwMjg4M10sIFsyNS43NjAzNDk2MTA3MzgyOTUsIDUxLjQ5MTQ1MzU4NDc3NTcxXSwgWzI1Ljc2MDM4MjU4ODQwNjI2MiwgNTEuNDkxNDgwMjA2NTM4MTNdLCBbMjUuNzYwNDE1NTY2MTEyNzQsIDUxLjQ5MTUwNjgyODMxNjEwNV0sIFsyNS43NjA0NDg1NDM4NTc3MzQsIDUxLjQ5MTUzMzQ1MDEwOTYxNF0sIFsyNS43NjA0ODE1MjE2NDEyNTMsIDUxLjQ5MTU2MDA3MTkxODY4NF0sIFsyNS43NjA1MTQ0OTk0NjMyNywgNTEuNDkxNTg2NjkzNzQzMjhdLCBbMjUuNzYwNTQ3NDc3MzIzODA0LCA1MS40OTE2MTMzMTU1ODM0MzZdLCBbMjUuNzYwNTgwNDU1MjIyODYsIDUxLjQ5MTYzOTkzNzQzOTEzXSwgWzI1Ljc2MDYxMzQzMzE2MDQzMywgNTEuNDkxNjY2NTU5MzEwMzk2XSwgWzI1Ljc2MDY0NjQxMTEzNjUyLCA1MS40OTE2OTMxODExOTcxOF0sIFsyNS43NjA2NzkzODkxNTExMSwgNTEuNDkxNzE5ODAzMDk5NTE0XSwgWzI1Ljc2MDcxMjM2NzIwNDIyNCwgNTEuNDkxNzQ2NDI1MDE3Mzk2XSwgWzI1Ljc2MDc0NTM0NTI5NTg2LCA1MS40OTE3NzMwNDY5NTA4Ml0sIFsyNS43NjA3NzgzMjM0MjU5OTUsIDUxLjQ5MTc5OTY2ODg5OThdLCBbMjUuNzYwODExMzAxNTk0NjU0LCA1MS40OTE4MjYyOTA4NjQzM10sIFsyNS43NjA4NDQyNzk4MDE4MzQsIDUxLjQ5MTg1MjkxMjg0NDM5XSwgWzI1Ljc2MDg3NzI1ODA0NzUyNSwgNTEuNDkxODc5NTM0ODRdLCBbMjUuNzYwOTEwMjM2MzMxNzI1LCA1MS40OTE5MDYxNTY4NTExNl0sIFsyNS43NjA5NDMyMTQ2NTQ0NDMsIDUxLjQ5MTkzMjc3ODg3Nzg5XSwgWzI1Ljc2MDk3NjE5MzAxNTY4MywgNTEuNDkxOTU5NDAwOTIwMTRdLCBbMjUuNzYxMDA5MTcxNDE1NDM0LCA1MS40OTE5ODYwMjI5Nzc5M10sIFsyNS43NjEwNDIxNDk4NTM3LCA1MS40OTIwMTI2NDUwNTEyOF0sIFsyNS43NjEwNzUxMjgzMzA0OCwgNTEuNDkyMDM5MjY3MTQwMThdLCBbMjUuNzYxMTA4MTA2ODQ1NzgsIDUxLjQ5MjA2NTg4OTI0NDZdLCBbMjUuNzYxMTQxMDg1Mzk5NTksIDUxLjQ5MjA5MjUxMTM2NDU5Nl0sIFsyNS43NjExNzQwNjM5OTE5MiwgNTEuNDkyMTE5MTMzNTAwMTI1XSwgWzI1Ljc2MTIwNzA0MjYyMjc1OCwgNTEuNDkyMTQ1NzU1NjUxMl0sIFsyNS43NjEyNDAwMjEyOTIxMiwgNTEuNDkyMTcyMzc3ODE3ODRdLCBbMjUuNzYxMjczLCA1MS40OTIxOTldXSwgInR5cGUiOiAiTGluZVN0cmluZyJ9LCAicHJvcGVydGllcyI6IHsicG9wdXAiOiAiUG9ydGxhbmQsIE9SIiwgInRpbWVzIjogWzE1MzQ1NzkyMDAwMDAuMCwgMTUzNDU3OTIwNTcxOC41OTMsIDE1MzQ1NzkyMTE0MzcuMTg2LCAxNTM0NTc5MjE3MTU1Ljc3ODgsIDE1MzQ1NzkyMjI4NzQuMzcxOCwgMTUzNDU3OTIyODU5Mi45NjQ4LCAxNTM0NTc5MjM0MzExLjU1NzksIDE1MzQ1NzkyNDAwMzAuMTUwNiwgMTUzNDU3OTI0NTc0OC43NDM3LCAxNTM0NTc5MjUxNDY3LjMzNjcsIDE1MzQ1NzkyNTcxODUuOTI5NywgMTUzNDU3OTI2MjkwNC41MjI3LCAxNTM0NTc5MjY4NjIzLjExNTUsIDE1MzQ1NzkyNzQzNDEuNzA4NSwgMTUzNDU3OTI4MDA2MC4zMDE1LCAxNTM0NTc5Mjg1Nzc4Ljg5NDUsIDE1MzQ1NzkyOTE0OTcuNDg3NSwgMTUzNDU3OTI5NzIxNi4wODAzLCAxNTM0NTc5MzAyOTM0LjY3MzMsIDE1MzQ1NzkzMDg2NTMuMjY2NCwgMTUzNDU3OTMxNDM3MS44NTk0LCAxNTM0NTc5MzIwMDkwLjQ1MjEsIDE1MzQ1NzkzMjU4MDkuMDQ1MiwgMTUzNDU3OTMzMTUyNy42MzgyLCAxNTM0NTc5MzM3MjQ2LjIzMTIsIDE1MzQ1NzkzNDI5NjQuODI0MiwgMTUzNDU3OTM0ODY4My40MTcsIDE1MzQ1NzkzNTQ0MDIuMDEsIDE1MzQ1NzkzNjAxMjAuNjAzLCAxNTM0NTc5MzY1ODM5LjE5NiwgMTUzNDU3OTM3MTU1Ny43ODksIDE1MzQ1NzkzNzcyNzYuMzgxOCwgMTUzNDU3OTM4Mjk5NC45NzQ5LCAxNTM0NTc5Mzg4NzEzLjU2NzksIDE1MzQ1NzkzOTQ0MzIuMTYxLCAxNTM0NTc5NDAwMTUwLjc1MzcsIDE1MzQ1Nzk0MDU4NjkuMzQ2NywgMTUzNDU3OTQxMTU4Ny45Mzk3LCAxNTM0NTc5NDE3MzA2LjUzMjcsIDE1MzQ1Nzk0MjMwMjUuMTI1NywgMTUzNDU3OTQyODc0My43MTg1LCAxNTM0NTc5NDM0NDYyLjMxMTUsIDE1MzQ1Nzk0NDAxODAuOTA0NSwgMTUzNDU3OTQ0NTg5OS40OTc2LCAxNTM0NTc5NDUxNjE4LjA5MDMsIDE1MzQ1Nzk0NTczMzYuNjgzMywgMTUzNDU3OTQ2MzA1NS4yNzY0LCAxNTM0NTc5NDY4NzczLjg2OTQsIDE1MzQ1Nzk0NzQ0OTIuNDYyNCwgMTUzNDU3OTQ4MDIxMS4wNTUyLCAxNTM0NTc5NDg1OTI5LjY0ODIsIDE1MzQ1Nzk0OTE2NDguMjQxMiwgMTUzNDU3OTQ5NzM2Ni44MzQyLCAxNTM0NTc5NTAzMDg1LjQyNzIsIDE1MzQ1Nzk1MDg4MDQuMDIsIDE1MzQ1Nzk1MTQ1MjIuNjEzLCAxNTM0NTc5NTIwMjQxLjIwNiwgMTUzNDU3OTUyNTk1OS43OTksIDE1MzQ1Nzk1MzE2NzguMzkxOCwgMTUzNDU3OTUzNzM5Ni45ODQ5LCAxNTM0NTc5NTQzMTE1LjU3OCwgMTUzNDU3OTU0ODgzNC4xNzEsIDE1MzQ1Nzk1NTQ1NTIuNzY0LCAxNTM0NTc5NTYwMjcxLjM1NjcsIDE1MzQ1Nzk1NjU5ODkuOTQ5NywgMTUzNDU3OTU3MTcwOC41NDI3LCAxNTM0NTc5NTc3NDI3LjEzNTcsIDE1MzQ1Nzk1ODMxNDUuNzI4OCwgMTUzNDU3OTU4ODg2NC4zMjE1LCAxNTM0NTc5NTk0NTgyLjkxNDYsIDE1MzQ1Nzk2MDAzMDEuNTA3NiwgMTUzNDU3OTYwNjAyMC4xMDA2LCAxNTM0NTc5NjExNzM4LjY5MzQsIDE1MzQ1Nzk2MTc0NTcuMjg2NCwgMTUzNDU3OTYyMzE3NS44Nzk0LCAxNTM0NTc5NjI4ODk0LjQ3MjQsIDE1MzQ1Nzk2MzQ2MTMuMDY1NCwgMTUzNDU3OTY0MDMzMS42NTgyLCAxNTM0NTc5NjQ2MDUwLjI1MTIsIDE1MzQ1Nzk2NTE3NjguODQ0MiwgMTUzNDU3OTY1NzQ4Ny40MzczLCAxNTM0NTc5NjYzMjA2LjAzLCAxNTM0NTc5NjY4OTI0LjYyMywgMTUzNDU3OTY3NDY0My4yMTYsIDE1MzQ1Nzk2ODAzNjEuODA5LCAxNTM0NTc5Njg2MDgwLjQwMiwgMTUzNDU3OTY5MTc5OC45OTQ5LCAxNTM0NTc5Njk3NTE3LjU4OCwgMTUzNDU3OTcwMzIzNi4xODEsIDE1MzQ1Nzk3MDg5NTQuNzc0LCAxNTM0NTc5NzE0NjczLjM2NywgMTUzNDU3OTcyMDM5MS45NTk3LCAxNTM0NTc5NzI2MTEwLjU1MjcsIDE1MzQ1Nzk3MzE4MjkuMTQ1OCwgMTUzNDU3OTczNzU0Ny43Mzg4LCAxNTM0NTc5NzQzMjY2LjMzMTUsIDE1MzQ1Nzk3NDg5ODQuOTI0NiwgMTUzNDU3OTc1NDcwMy41MTc2LCAxNTM0NTc5NzYwNDIyLjExMDYsIDE1MzQ1Nzk3NjYxNDAuNzAzNiwgMTUzNDU3OTc3MTg1OS4yOTY0LCAxNTM0NTc5Nzc3NTc3Ljg4OTQsIDE1MzQ1Nzk3ODMyOTYuNDgyNCwgMTUzNDU3OTc4OTAxNS4wNzU0LCAxNTM0NTc5Nzk0NzMzLjY2ODUsIDE1MzQ1Nzk4MDA0NTIuMjYxMiwgMTUzNDU3OTgwNjE3MC44NTQyLCAxNTM0NTc5ODExODg5LjQ0NzMsIDE1MzQ1Nzk4MTc2MDguMDQwMywgMTUzNDU3OTgyMzMyNi42MzMsIDE1MzQ1Nzk4MjkwNDUuMjI2LCAxNTM0NTc5ODM0NzYzLjgxOSwgMTUzNDU3OTg0MDQ4Mi40MTIsIDE1MzQ1Nzk4NDYyMDEuMDA1MSwgMTUzNDU3OTg1MTkxOS41OTgsIDE1MzQ1Nzk4NTc2MzguMTkxLCAxNTM0NTc5ODYzMzU2Ljc4NCwgMTUzNDU3OTg2OTA3NS4zNzcsIDE1MzQ1Nzk4NzQ3OTMuOTcsIDE1MzQ1Nzk4ODA1MTIuNTYyNywgMTUzNDU3OTg4NjIzMS4xNTU4LCAxNTM0NTc5ODkxOTQ5Ljc0ODgsIDE1MzQ1Nzk4OTc2NjguMzQxOCwgMTUzNDU3OTkwMzM4Ni45MzQ2LCAxNTM0NTc5OTA5MTA1LjUyNzYsIDE1MzQ1Nzk5MTQ4MjQuMTIwNiwgMTUzNDU3OTkyMDU0Mi43MTM2LCAxNTM0NTc5OTI2MjYxLjMwNjYsIDE1MzQ1Nzk5MzE5NzkuODk5NCwgMTUzNDU3OTkzNzY5OC40OTI0LCAxNTM0NTc5OTQzNDE3LjA4NTQsIDE1MzQ1Nzk5NDkxMzUuNjc4NSwgMTUzNDU3OTk1NDg1NC4yNzEyLCAxNTM0NTc5OTYwNTcyLjg2NDMsIDE1MzQ1Nzk5NjYyOTEuNDU3MywgMTUzNDU3OTk3MjAxMC4wNTAzLCAxNTM0NTc5OTc3NzI4LjY0MzMsIDE1MzQ1Nzk5ODM0NDcuMjM2LCAxNTM0NTc5OTg5MTY1LjgyOSwgMTUzNDU3OTk5NDg4NC40MjIsIDE1MzQ1ODAwMDA2MDMuMDE1MSwgMTUzNDU4MDAwNjMyMS42MDgyLCAxNTM0NTgwMDEyMDQwLjIwMSwgMTUzNDU4MDAxNzc1OC43OTQsIDE1MzQ1ODAwMjM0NzcuMzg3LCAxNTM0NTgwMDI5MTk1Ljk4LCAxNTM0NTgwMDM0OTE0LjU3MjgsIDE1MzQ1ODAwNDA2MzMuMTY1OCwgMTUzNDU4MDA0NjM1MS43NTg4LCAxNTM0NTgwMDUyMDcwLjM1MTgsIDE1MzQ1ODAwNTc3ODguOTQ0OCwgMTUzNDU4MDA2MzUwNy41Mzc2LCAxNTM0NTgwMDY5MjI2LjEzMDYsIDE1MzQ1ODAwNzQ5NDQuNzIzNiwgMTUzNDU4MDA4MDY2My4zMTY3LCAxNTM0NTgwMDg2MzgxLjkwOTcsIDE1MzQ1ODAwOTIxMDAuNTAyNCwgMTUzNDU4MDA5NzgxOS4wOTU1LCAxNTM0NTgwMTAzNTM3LjY4ODUsIDE1MzQ1ODAxMDkyNTYuMjgxNSwgMTUzNDU4MDExNDk3NC44NzQzLCAxNTM0NTgwMTIwNjkzLjQ2NzMsIDE1MzQ1ODAxMjY0MTIuMDYwMywgMTUzNDU4MDEzMjEzMC42NTMzLCAxNTM0NTgwMTM3ODQ5LjI0NjMsIDE1MzQ1ODAxNDM1NjcuODM5LCAxNTM0NTgwMTQ5Mjg2LjQzMjEsIDE1MzQ1ODAxNTUwMDUuMDI1MSwgMTUzNDU4MDE2MDcyMy42MTgyLCAxNTM0NTgwMTY2NDQyLjIxMSwgMTUzNDU4MDE3MjE2MC44MDQsIDE1MzQ1ODAxNzc4NzkuMzk3LCAxNTM0NTgwMTgzNTk3Ljk5LCAxNTM0NTgwMTg5MzE2LjU4MywgMTUzNDU4MDE5NTAzNS4xNzU4LCAxNTM0NTgwMjAwNzUzLjc2ODgsIDE1MzQ1ODAyMDY0NzIuMzYxOCwgMTUzNDU4MDIxMjE5MC45NTQ4LCAxNTM0NTgwMjE3OTA5LjU0NzksIDE1MzQ1ODAyMjM2MjguMTQwNiwgMTUzNDU4MDIyOTM0Ni43MzM2LCAxNTM0NTgwMjM1MDY1LjMyNjcsIDE1MzQ1ODAyNDA3ODMuOTE5NywgMTUzNDU4MDI0NjUwMi41MTI1LCAxNTM0NTgwMjUyMjIxLjEwNTUsIDE1MzQ1ODAyNTc5MzkuNjk4NSwgMTUzNDU4MDI2MzY1OC4yOTE1LCAxNTM0NTgwMjY5Mzc2Ljg4NDUsIDE1MzQ1ODAyNzUwOTUuNDc3MywgMTUzNDU4MDI4MDgxNC4wNzAzLCAxNTM0NTgwMjg2NTMyLjY2MzMsIDE1MzQ1ODAyOTIyNTEuMjU2MywgMTUzNDU4MDI5Nzk2OS44NDk0LCAxNTM0NTgwMzAzNjg4LjQ0MjEsIDE1MzQ1ODAzMDk0MDcuMDM1MiwgMTUzNDU4MDMxNTEyNS42MjgyLCAxNTM0NTgwMzIwODQ0LjIyMTIsIDE1MzQ1ODAzMjY1NjIuODE0LCAxNTM0NTgwMzMyMjgxLjQwNywgMTUzNDU4MDMzODAwMC4wXX0sICJ0eXBlIjogIkZlYXR1cmUifSwgeyJnZW9tZXRyeSI6IHsiY29vcmRpbmF0ZXMiOiBbWzI1Ljc2MTI3MywgNTEuNDkyMTk5MDAwMDAwMDFdLCBbMjUuNzYxMjg4Njg0MjgzNjcsIDUxLjQ5MjE2NjgyOTEyNTE4XSwgWzI1Ljc2MTMwNDM2ODU0NTIwOCwgNTEuNDkyMTM0NjU4MjczMDY2XSwgWzI1Ljc2MTMyMDA1Mjc4NDYwNSwgNTEuNDkyMTAyNDg3NDQzNjVdLCBbMjUuNzYxMzM1NzM3MDAxODcsIDUxLjQ5MjA3MDMxNjYzNjk1NV0sIFsyNS43NjEzNTE0MjExOTcwMDIsIDUxLjQ5MjAzODE0NTg1Mjk0NV0sIFsyNS43NjEzNjcxMDUzNjk5ODgsIDUxLjQ5MjAwNTk3NTA5MTY0XSwgWzI1Ljc2MTM4Mjc4OTUyMDg0OCwgNTEuNDkxOTczODA0MzUzMDQ0XSwgWzI1Ljc2MTM5ODQ3MzY0OTU2NCwgNTEuNDkxOTQxNjMzNjM3MTVdLCBbMjUuNzYxNDE0MTU3NzU2MTUzLCA1MS40OTE5MDk0NjI5NDM5NDRdLCBbMjUuNzYxNDI5ODQxODQwNTk1LCA1MS40OTE4NzcyOTIyNzM0Nl0sIFsyNS43NjE0NDU1MjU5MDI5MDcsIDUxLjQ5MTg0NTEyMTYyNTY2Nl0sIFsyNS43NjE0NjEyMDk5NDMwOSwgNTEuNDkxODEyOTUxMDAwNTddLCBbMjUuNzYxNDc2ODkzOTYxMTI3LCA1MS40OTE3ODA3ODAzOTgxNjZdLCBbMjUuNzYxNTAxMzQzNzUxNjgyLCA1MS40OTE3NTI3NzcyNjg2MTZdLCBbMjUuNzYxNTQ3MDU5MTUxNTEsIDUxLjQ5MTczNDg4NDMwMTE5XSwgWzI1Ljc2MTU5Mjc3NDUxNTQ1NiwgNTEuNDkxNzE2OTkxMzQwNzk1XSwgWzI1Ljc2MTYzODQ4OTg0MzUxMywgNTEuNDkxNjk5MDk4Mzg3NDFdLCBbMjUuNzYxNjg0MjA1MTM1NjgzLCA1MS40OTE2ODEyMDU0NDEwN10sIFsyNS43NjE3Mjk5MjAzOTE5NzUsIDUxLjQ5MTY2MzMxMjUwMTcyXSwgWzI1Ljc2MTc3NTYzNTYxMjM4NCwgNTEuNDkxNjQ1NDE5NTY5NDJdLCBbMjUuNzYxODIxMzUwNzk2OTEsIDUxLjQ5MTYyNzUyNjY0NDEyXSwgWzI1Ljc2MTg2NzA2NTk0NTU0OCwgNTEuNDkxNjA5NjMzNzI1ODY1XSwgWzI1Ljc2MTkxMjc4MTA1ODMwMywgNTEuNDkxNTkxNzQwODE0NjFdLCBbMjUuNzYxOTU4NDk2MTM1MTgsIDUxLjQ5MTU3Mzg0NzkxMDRdLCBbMjUuNzYyMDA0MjExMTc2MTY2LCA1MS40OTE1NTU5NTUwMTMyMV0sIFsyNS43NjIwNDk5MjYxODEyNzMsIDUxLjQ5MTUzODA2MjEyMzA1XSwgWzI1Ljc2MjA5NTY0MTE1MDUsIDUxLjQ5MTUyMDE2OTIzOTg5XSwgWzI1Ljc2MjE0MTM1NjA4MzgzLCA1MS40OTE1MDIyNzYzNjM3NTRdLCBbMjUuNzYyMTg3MDcwOTgxMjg3LCA1MS40OTE0ODQzODM0OTQ2Nl0sIFsyNS43NjIyMzI3ODU4NDI4NTUsIDUxLjQ5MTQ2NjQ5MDYzMjU4XSwgWzI1Ljc2MjI3ODUwMDY2ODU0MywgNTEuNDkxNDQ4NTk3Nzc3NTNdLCBbMjUuNzYyMzI0MjE1NDU4MzQyLCA1MS40OTE0MzA3MDQ5Mjk0OF0sIFsyNS43NjIzNjk5MzAyMTIyNjIsIDUxLjQ5MTQxMjgxMjA4ODQ1Nl0sIFsyNS43NjI0MTU2NDQ5MzAyOTMsIDUxLjQ5MTM5NDkxOTI1NDQ3XSwgWzI1Ljc2MjQ2MTM1OTYxMjQ1LCA1MS40OTEzNzcwMjY0Mjc1MV0sIFsyNS43NjI1MDcwNzQyNTg3MTQsIDUxLjQ5MTM1OTEzMzYwNzU3XSwgWzI1Ljc2MjU1Mjc4ODg2OTA5NywgNTEuNDkxMzQxMjQwNzk0NjJdLCBbMjUuNzYyNTk4NTAzNDQzNTk1LCA1MS40OTEzMjMzNDc5ODg3NF0sIFsyNS43NjI2NDQyMTc5ODIyMSwgNTEuNDkxMzA1NDU1MTg5ODZdLCBbMjUuNzYyNjg5OTMyNDg0OTQzLCA1MS40OTEyODc1NjIzOTc5ODZdLCBbMjUuNzYyNzM1NjQ2OTUxNzkzLCA1MS40OTEyNjk2Njk2MTMxNV0sIFsyNS43NjI3ODEzNjEzODI3NTMsIDUxLjQ5MTI1MTc3NjgzNTM1NV0sIFsyNS43NjI4MjcwNzU3Nzc4MzUsIDUxLjQ5MTIzMzg4NDA2NDU2XSwgWzI1Ljc2Mjg3Mjc5MDEzNzAyOCwgNTEuNDkxMjE1OTkxMzAwOF0sIFsyNS43NjI5MTg1MDQ0NjAzMzcsIDUxLjQ5MTE5ODA5ODU0NDA1NF0sIFsyNS43NjI5NjQyMTg3NDc3NjUsIDUxLjQ5MTE4MDIwNTc5NDMzNl0sIFsyNS43NjMwMDk5MzI5OTkzMSwgNTEuNDkxMTYyMzEzMDUxNjJdLCBbMjUuNzYzMDU1NjQ3MjE0OTcsIDUxLjQ5MTE0NDQyMDMxNTk0XSwgWzI1Ljc2MzEwMTM2MTM5NDc0MiwgNTEuNDkxMTI2NTI3NTg3MzA1XSwgWzI1Ljc2MzE0NzA3NTUzODYzNywgNTEuNDkxMTA4NjM0ODY1NjZdLCBbMjUuNzYzMTkyNzg5NjQ2NjQsIDUxLjQ5MTA5MDc0MjE1MTA2Nl0sIFsyNS43NjMyMzg1MDM3MTg3NjQsIDUxLjQ5MTA3Mjg0OTQ0MzQ3XSwgWzI1Ljc2MzI4NDIxNzc1NSwgNTEuNDkxMDU0OTU2NzQyOTJdLCBbMjUuNzYzMzI5OTMxNzU1MzYsIDUxLjQ5MTAzNzA2NDA0OTM2NV0sIFsyNS43NjMzNzU2NDU3MTk4MjYsIDUxLjQ5MTAxOTE3MTM2Mjg1XSwgWzI1Ljc2MzQyMTM1OTY0ODQwOCwgNTEuNDkxMDAxMjc4NjgzMzVdLCBbMjUuNzYzNDY3MDczNTQxMTE1LCA1MS40OTA5ODMzODYwMTA4N10sIFsyNS43NjM1MTI3ODczOTc5MywgNTEuNDkwOTY1NDkzMzQ1NDFdLCBbMjUuNzYzNTU4NTAxMjE4ODYzLCA1MS40OTA5NDc2MDA2ODY5OV0sIFsyNS43NjM2MDQyMTUwMDM5MSwgNTEuNDkwOTI5NzA4MDM1NTldLCBbMjUuNzYzNjQ5OTI4NzUzMDcyLCA1MS40OTA5MTE4MTUzOTExOV0sIFsyNS43NjM2OTU2NDI0NjYzNiwgNTEuNDkwODkzOTIyNzUzODM0XSwgWzI1Ljc2MzY0Njk2OTMzNjE1LCA1MS40OTA4OTAzMjEwMTQ3NzRdLCBbMjUuNzYzNTkzMTYzODM2NTMyLCA1MS40OTA4ODc0OTYzNTcyNDZdLCBbMjUuNzYzNTM5MzU4MzQzNTg2LCA1MS40OTA4ODQ2NzE2OTk5XSwgWzI1Ljc2MzQ4NTU1Mjg1NzI5MywgNTEuNDkwODgxODQ3MDQyNzRdLCBbMjUuNzYzNDMxNzQ3Mzc3NjcsIDUxLjQ5MDg3OTAyMjM4NTczXSwgWzI1Ljc2MzM3Nzk0MTkwNDcwNywgNTEuNDkwODc2MTk3NzI4OTE2XSwgWzI1Ljc2MzMyNDEzNjQzODQxLCA1MS40OTA4NzMzNzMwNzIyNzZdLCBbMjUuNzYzMjcwMzMwOTc4Nzc3LCA1MS40OTA4NzA1NDg0MTU3OV0sIFsyNS43NjMyMTY1MjU1MjU4MDYsIDUxLjQ5MDg2NzcyMzc1OTUyXSwgWzI1Ljc2MzE2MjcyMDA3OTUsIDUxLjQ5MDg2NDg5OTEwMzM5XSwgWzI1Ljc2MzEwODkxNDYzOTg2NSwgNTEuNDkwODYyMDc0NDQ3NDVdLCBbMjUuNzYzMDU1MTA5MjA2ODg1LCA1MS40OTA4NTkyNDk3OTE3XSwgWzI1Ljc2MzAwMTMwMzc4MDU3NywgNTEuNDkwODU2NDI1MTM2MDldLCBbMjUuNzYyOTQ3NDk4MzYwOTMsIDUxLjQ5MDg1MzYwMDQ4MDY3Nl0sIFsyNS43NjI4OTM2OTI5NDc5NDgsIDUxLjQ5MDg1MDc3NTgyNTQzXSwgWzI1Ljc2MjgzOTg4NzU0MTYyNywgNTEuNDkwODQ3OTUxMTcwMzVdLCBbMjUuNzYyNzg2MDgyMTQxOTgsIDUxLjQ5MDg0NTEyNjUxNTQ3XSwgWzI1Ljc2MjczMjI3Njc0ODk4OCwgNTEuNDkwODQyMzAxODYwNzRdLCBbMjUuNzYyNjc4NDcxMzYyNjczLCA1MS40OTA4Mzk0NzcyMDYxOTRdLCBbMjUuNzYyNjI0NjY1OTgzMDEsIDUxLjQ5MDgzNjY1MjU1MTgyXSwgWzI1Ljc2MjU3MDg2MDYxMDAyLCA1MS40OTA4MzM4Mjc4OTc2M10sIFsyNS43NjI1MTcwNTUyNDM3MDIsIDUxLjQ5MDgzMTAwMzI0MzYwNl0sIFsyNS43NjI0NjMyNDk4ODQwMzYsIDUxLjQ5MDgyODE3ODU4OTc2Nl0sIFsyNS43NjI0MDk0NDQ1MzEwNDUsIDUxLjQ5MDgyNTM1MzkzNjExXSwgWzI1Ljc2MjM1NTYzOTE4NDcxLCA1MS40OTA4MjI1MjkyODI2MjRdLCBbMjUuNzYyMzAxODMzODQ1MDU0LCA1MS40OTA4MTk3MDQ2MjkyOV0sIFsyNS43NjIyNDgwMjg1MTIwNTgsIDUxLjQ5MDgxNjg3OTk3NjE1XSwgWzI1Ljc2MjE5NDIyMzE4NTcyNywgNTEuNDkwODE0MDU1MzIzMThdLCBbMjUuNzYyMTQwNDE3ODY2MDY4LCA1MS40OTA4MTEyMzA2NzAzOV0sIFsyNS43NjIwODY2MTI1NTMwNiwgNTEuNDkwODA4NDA2MDE3NzZdLCBbMjUuNzYyMDMyODA3MjQ2NzMzLCA1MS40OTA4MDU1ODEzNjUzMl0sIFsyNS43NjE5NzkwMDE5NDcwNzIsIDUxLjQ5MDgwMjc1NjcxMzA1XSwgWzI1Ljc2MTkyNTE5NjY1NDA3LCA1MS40OTA3OTk5MzIwNjA5NDVdLCBbMjUuNzYxODcxMzkxMzY3NzM0LCA1MS40OTA3OTcxMDc0MDkwNF0sIFsyNS43NjE4MTc1ODYwODgwNywgNTEuNDkwNzk0MjgyNzU3M10sIFsyNS43NjE3NjM3ODA4MTUwNywgNTEuNDkwNzkxNDU4MTA1NzNdLCBbMjUuNzYxNzA5OTc1NTQ4NzQsIDUxLjQ5MDc4ODYzMzQ1NDMyXSwgWzI1Ljc2MTY1NjE3MDI4OTA3NiwgNTEuNDkwNzg1ODA4ODAzMTFdLCBbMjUuNzYxNjAyMzY1MDM2MDc2LCA1MS40OTA3ODI5ODQxNTIwNTVdLCBbMjUuNzYxNTQ4NTU5Nzg5NzQ1LCA1MS40OTA3ODAxNTk1MDEyXSwgWzI1Ljc2MTQ5NDc1NDU1MDA4MiwgNTEuNDkwNzc3MzM0ODUwNTJdLCBbMjUuNzYxNDQwOTQ5MzE3MDg4LCA1MS40OTA3NzQ1MTAxOTk5ODRdLCBbMjUuNzYxMzg3MTQ0MDkwNzU4LCA1MS40OTA3NzE2ODU1NDk2NV0sIFsyNS43NjEzMzMzMzg4NzEwOTcsIDUxLjQ5MDc2ODg2MDg5OTQ3XSwgWzI1Ljc2MTI3OTUzMzY1ODEsIDUxLjQ5MDc2NjAzNjI0OTQ4XSwgWzI1Ljc2MTIyNTcyODQ1MTc3NywgNTEuNDkwNzYzMjExNTk5NjVdLCBbMjUuNzYxMTcxOTIzMjUyMTE3LCA1MS40OTA3NjAzODY5NTAwMV0sIFsyNS43NjExMTgxMTgwNTkxMjcsIDUxLjQ5MDc1NzU2MjMwMDU1XSwgWzI1Ljc2MTA2NDMxMjg3MjgwOCwgNTEuNDkwNzU0NzM3NjUxMjY1XSwgWzI1Ljc2MTAxMDUwNzY5MzE0NywgNTEuNDkwNzUxOTEzMDAyMTVdLCBbMjUuNzYwOTU2NzAyNTIwMTY1LCA1MS40OTA3NDkwODgzNTMxOV0sIFsyNS43NjA5MDI4OTczNTM4NDQsIDUxLjQ5MDc0NjI2MzcwNDQyXSwgWzI1Ljc2MDg0OTA5MjE5NDE5NiwgNTEuNDkwNzQzNDM5MDU1ODJdLCBbMjUuNzYwNzk1Mjg3MDQxMjE2LCA1MS40OTA3NDA2MTQ0MDc0MV0sIFsyNS43NjA3NDE0ODE4OTQ5LCA1MS40OTA3Mzc3ODk3NTkxN10sIFsyNS43NjA2ODc2NzY3NTUyNiwgNTEuNDkwNzM0OTY1MTExMV0sIFsyNS43NjA2MzM4NzE2MjIyODIsIDUxLjQ5MDczMjE0MDQ2MzJdLCBbMjUuNzYwNTgwMDY2NDk1OTgsIDUxLjQ5MDcyOTMxNTgxNTQ4XSwgWzI1Ljc2MDUyNjI2MTM3NjM0LCA1MS40OTA3MjY0OTExNjc5NV0sIFsyNS43NjA0NzI0NTYyNjMzNzYsIDUxLjQ5MDcyMzY2NjUyMDU3XSwgWzI1Ljc2MDQxODY1MTE1NzA3NSwgNTEuNDkwNzIwODQxODczMzc2XSwgWzI1Ljc2MDM2NDg0NjA1NzQ1LCA1MS40OTA3MTgwMTcyMjYzNl0sIFsyNS43NjAzMTEwNDA5NjQ0ODUsIDUxLjQ5MDcxNTE5MjU3OTUyXSwgWzI1Ljc2MDI1NzIzNTg3ODE5NiwgNTEuNDkwNzEyMzY3OTMyODQ0XSwgWzI1Ljc2MDIwMzQzMDc5ODU3MywgNTEuNDkwNzA5NTQzMjg2MzVdLCBbMjUuNzYwMTQ5NjI1NzI1NjIsIDUxLjQ5MDcwNjcxODY0MDA1XSwgWzI1Ljc2MDA5NTgyMDY1OTMzOCwgNTEuNDkwNzAzODkzOTkzOV0sIFsyNS43NjAwNDIwMTU1OTk3MjYsIDUxLjQ5MDcwMTA2OTM0NzkyXSwgWzI1Ljc1OTk4ODIxMDU0Njc4NywgNTEuNDkwNjk4MjQ0NzAyMTNdLCBbMjUuNzU5OTM0NDA1NTAwNTA2LCA1MS40OTA2OTU0MjAwNTY1MjVdLCBbMjUuNzU5ODgwNjAwNDYwOTA3LCA1MS40OTA2OTI1OTU0MTEwOF0sIFsyNS43NTk4MjY3OTU0Mjc5OCwgNTEuNDkwNjg5NzcwNzY1OF0sIFsyNS43NTk3NzI5OTA0MDE3MTQsIDUxLjQ5MDY4Njk0NjEyMDcyXSwgWzI1Ljc1OTcxOTE4NTM4MjEyLCA1MS40OTA2ODQxMjE0NzU3OTVdLCBbMjUuNzU5NjY1MzgwMzY5MiwgNTEuNDkwNjgxMjk2ODMxMDRdLCBbMjUuNzU5NjExNTc1MzYyOTUsIDUxLjQ5MDY3ODQ3MjE4NjQ3NF0sIFsyNS43NTk1NTc3NzAzNjMzNjUsIDUxLjQ5MDY3NTY0NzU0MjA5XSwgWzI1Ljc1OTUwMzk2NTM3MDQ1NiwgNTEuNDkwNjcyODIyODk3ODhdLCBbMjUuNzU5NDUwMTYwMzg0MjIzLCA1MS40OTA2Njk5OTgyNTM4Ml0sIFsyNS43NTkzOTYzNTU0MDQ2NSwgNTEuNDkwNjY3MTczNjA5OTZdLCBbMjUuNzU5MzkzMjc1MTIwOTU2LCA1MS40OTA2ODE1NjA0Mjc3XSwgWzI1Ljc1OTQyNjI1MTY3MjAyLCA1MS40OTA3MDgxODE3MzkzXSwgWzI1Ljc1OTQ1OTIyODI2MTU5LCA1MS40OTA3MzQ4MDMwNjY0NjZdLCBbMjUuNzU5NDkyMjA0ODg5NjgyLCA1MS40OTA3NjE0MjQ0MDkxNjVdLCBbMjUuNzU5NTI1MTgxNTU2MjgsIDUxLjQ5MDc4ODA0NTc2NzRdLCBbMjUuNzU5NTU4MTU4MjYxMzk1LCA1MS40OTA4MTQ2NjcxNDEyMV0sIFsyNS43NTk1OTExMzUwMDUwMjQsIDUxLjQ5MDg0MTI4ODUzMDU0XSwgWzI1Ljc1OTYyNDExMTc4NzE2NSwgNTEuNDkwODY3OTA5OTM1NDFdLCBbMjUuNzU5NjU3MDg4NjA3ODI0LCA1MS40OTA4OTQ1MzEzNTU4MzVdLCBbMjUuNzU5NjkwMDY1NDY2OTksIDUxLjQ5MDkyMTE1Mjc5MThdLCBbMjUuNzU5NzIzMDQyMzY0NjcsIDUxLjQ5MDk0Nzc3NDI0MzMyNF0sIFsyNS43NTk3NTYwMTkzMDA4NywgNTEuNDkwOTc0Mzk1NzEwMzc0XSwgWzI1Ljc1OTc4ODk5NjI3NTU4LCA1MS40OTEwMDEwMTcxOTI5OF0sIFsyNS43NTk4MjE5NzMyODg4MSwgNTEuNDkxMDI3NjM4NjkxMTM2XSwgWzI1Ljc1OTg1NDk1MDM0MDU0LCA1MS40OTEwNTQyNjAyMDQ4MV0sIFsyNS43NTk4ODc5Mjc0MzA3OTMsIDUxLjQ5MTA4MDg4MTczNDA2NF0sIFsyNS43NTk5MjA5MDQ1NTk1NTcsIDUxLjQ5MTEwNzUwMzI3ODg1XSwgWzI1Ljc1OTk1Mzg4MTcyNjg0LCA1MS40OTExMzQxMjQ4MzkyXSwgWzI1Ljc1OTk4Njg1ODkzMjYzLCA1MS40OTExNjA3NDY0MTUwN10sIFsyNS43NjAwMTk4MzYxNzY5MzcsIDUxLjQ5MTE4NzM2ODAwNjQ4Nl0sIFsyNS43NjAwNTI4MTM0NTk3NiwgNTEuNDkxMjEzOTg5NjEzNDVdLCBbMjUuNzYwMDg1NzkwNzgxMDk0LCA1MS40OTEyNDA2MTEyMzU5NjZdLCBbMjUuNzYwMTE4NzY4MTQwOTQsIDUxLjQ5MTI2NzIzMjg3NDAyXSwgWzI1Ljc2MDE1MTc0NTUzOTMxLCA1MS40OTEyOTM4NTQ1Mjc2MjZdLCBbMjUuNzYwMTg0NzIyOTc2MTksIDUxLjQ5MTMyMDQ3NjE5Njc5XSwgWzI1Ljc2MDIxNzcwMDQ1MTU4NCwgNTEuNDkxMzQ3MDk3ODgxNDhdLCBbMjUuNzYwMjUwNjc3OTY1NDg3LCA1MS40OTEzNzM3MTk1ODE3MTZdLCBbMjUuNzYwMjgzNjU1NTE3OTEsIDUxLjQ5MTQwMDM0MTI5NzUwNl0sIFsyNS43NjAzMTY2MzMxMDg4NSwgNTEuNDkxNDI2OTYzMDI4ODNdLCBbMjUuNzYwMzQ5NjEwNzM4Mjk1LCA1MS40OTE0NTM1ODQ3NzU3MV0sIFsyNS43NjAzODI1ODg0MDYyNjIsIDUxLjQ5MTQ4MDIwNjUzODEzXSwgWzI1Ljc2MDQxNTU2NjExMjc0LCA1MS40OTE1MDY4MjgzMTYxMDVdLCBbMjUuNzYwNDQ4NTQzODU3NzM0LCA1MS40OTE1MzM0NTAxMDk2MTRdLCBbMjUuNzYwNDgxNTIxNjQxMjUzLCA1MS40OTE1NjAwNzE5MTg2ODRdLCBbMjUuNzYwNTE0NDk5NDYzMjcsIDUxLjQ5MTU4NjY5Mzc0MzI4XSwgWzI1Ljc2MDU0NzQ3NzMyMzgwNCwgNTEuNDkxNjEzMzE1NTgzNDM2XSwgWzI1Ljc2MDU4MDQ1NTIyMjg2LCA1MS40OTE2Mzk5Mzc0MzkxM10sIFsyNS43NjA2MTM0MzMxNjA0MzMsIDUxLjQ5MTY2NjU1OTMxMDM5Nl0sIFsyNS43NjA2NDY0MTExMzY1MiwgNTEuNDkxNjkzMTgxMTk3MThdLCBbMjUuNzYwNjc5Mzg5MTUxMTEsIDUxLjQ5MTcxOTgwMzA5OTUxNF0sIFsyNS43NjA3MTIzNjcyMDQyMjQsIDUxLjQ5MTc0NjQyNTAxNzM5Nl0sIFsyNS43NjA3NDUzNDUyOTU4NiwgNTEuNDkxNzczMDQ2OTUwODJdLCBbMjUuNzYwNzc4MzIzNDI1OTk1LCA1MS40OTE3OTk2Njg4OTk4XSwgWzI1Ljc2MDgxMTMwMTU5NDY1NCwgNTEuNDkxODI2MjkwODY0MzNdLCBbMjUuNzYwODQ0Mjc5ODAxODM0LCA1MS40OTE4NTI5MTI4NDQzOV0sIFsyNS43NjA4NzcyNTgwNDc1MjUsIDUxLjQ5MTg3OTUzNDg0XSwgWzI1Ljc2MDkxMDIzNjMzMTcyNSwgNTEuNDkxOTA2MTU2ODUxMTZdLCBbMjUuNzYwOTQzMjE0NjU0NDQzLCA1MS40OTE5MzI3Nzg4Nzc4OV0sIFsyNS43NjA5NzYxOTMwMTU2ODMsIDUxLjQ5MTk1OTQwMDkyMDE0XSwgWzI1Ljc2MTAwOTE3MTQxNTQzNCwgNTEuNDkxOTg2MDIyOTc3OTNdLCBbMjUuNzYxMDQyMTQ5ODUzNywgNTEuNDkyMDEyNjQ1MDUxMjhdLCBbMjUuNzYxMDc1MTI4MzMwNDgsIDUxLjQ5MjAzOTI2NzE0MDE4XSwgWzI1Ljc2MTEwODEwNjg0NTc4LCA1MS40OTIwNjU4ODkyNDQ2XSwgWzI1Ljc2MTE0MTA4NTM5OTU5LCA1MS40OTIwOTI1MTEzNjQ1OTZdLCBbMjUuNzYxMTc0MDYzOTkxOTIsIDUxLjQ5MjExOTEzMzUwMDEyNV0sIFsyNS43NjEyMDcwNDI2MjI3NTgsIDUxLjQ5MjE0NTc1NTY1MTJdLCBbMjUuNzYxMjQwMDIxMjkyMTIsIDUxLjQ5MjE3MjM3NzgxNzg0XSwgWzI1Ljc2MTI3MywgNTEuNDkyMTk5XV0sICJ0eXBlIjogIkxpbmVTdHJpbmcifSwgInByb3BlcnRpZXMiOiB7InBvcHVwIjogIlBvcnRsYW5kLCBPUiIsICJ0aW1lcyI6IFsxNTM0NTc5MjAwMDAwLjAsIDE1MzQ1NzkyMDM5NDQuNzIzNiwgMTUzNDU3OTIwNzg4OS40NDczLCAxNTM0NTc5MjExODM0LjE3MSwgMTUzNDU3OTIxNTc3OC44OTQ1LCAxNTM0NTc5MjE5NzIzLjYxODIsIDE1MzQ1NzkyMjM2NjguMzQxOCwgMTUzNDU3OTIyNzYxMy4wNjU0LCAxNTM0NTc5MjMxNTU3Ljc4OSwgMTUzNDU3OTIzNTUwMi41MTI1LCAxNTM0NTc5MjM5NDQ3LjIzNiwgMTUzNDU3OTI0MzM5MS45NTk3LCAxNTM0NTc5MjQ3MzM2LjY4MzMsIDE1MzQ1NzkyNTEyODEuNDA3LCAxNTM0NTc5MjU1MjI2LjEzMDYsIDE1MzQ1NzkyNTkxNzAuODU0MiwgMTUzNDU3OTI2MzExNS41NzgsIDE1MzQ1NzkyNjcwNjAuMzAxNSwgMTUzNDU3OTI3MTAwNS4wMjUxLCAxNTM0NTc5Mjc0OTQ5Ljc0ODgsIDE1MzQ1NzkyNzg4OTQuNDcyNCwgMTUzNDU3OTI4MjgzOS4xOTYsIDE1MzQ1NzkyODY3ODMuOTE5NywgMTUzNDU3OTI5MDcyOC42NDMzLCAxNTM0NTc5Mjk0NjczLjM2NywgMTUzNDU3OTI5ODYxOC4wOTAzLCAxNTM0NTc5MzAyNTYyLjgxNCwgMTUzNDU3OTMwNjUwNy41Mzc2LCAxNTM0NTc5MzEwNDUyLjI2MTIsIDE1MzQ1NzkzMTQzOTYuOTg0OSwgMTUzNDU3OTMxODM0MS43MDg1LCAxNTM0NTc5MzIyMjg2LjQzMjEsIDE1MzQ1NzkzMjYyMzEuMTU1OCwgMTUzNDU3OTMzMDE3NS44Nzk0LCAxNTM0NTc5MzM0MTIwLjYwMywgMTUzNDU3OTMzODA2NS4zMjY3LCAxNTM0NTc5MzQyMDEwLjA1MDMsIDE1MzQ1NzkzNDU5NTQuNzc0LCAxNTM0NTc5MzQ5ODk5LjQ5NzYsIDE1MzQ1NzkzNTM4NDQuMjIxMiwgMTUzNDU3OTM1Nzc4OC45NDQ4LCAxNTM0NTc5MzYxNzMzLjY2ODUsIDE1MzQ1NzkzNjU2NzguMzkxOCwgMTUzNDU3OTM2OTYyMy4xMTU1LCAxNTM0NTc5MzczNTY3LjgzOSwgMTUzNDU3OTM3NzUxMi41NjI3LCAxNTM0NTc5MzgxNDU3LjI4NjQsIDE1MzQ1NzkzODU0MDIuMDEsIDE1MzQ1NzkzODkzNDYuNzMzNiwgMTUzNDU3OTM5MzI5MS40NTczLCAxNTM0NTc5Mzk3MjM2LjE4MSwgMTUzNDU3OTQwMTE4MC45MDQ1LCAxNTM0NTc5NDA1MTI1LjYyODIsIDE1MzQ1Nzk0MDkwNzAuMzUxOCwgMTUzNDU3OTQxMzAxNS4wNzU0LCAxNTM0NTc5NDE2OTU5Ljc5OSwgMTUzNDU3OTQyMDkwNC41MjI3LCAxNTM0NTc5NDI0ODQ5LjI0NjMsIDE1MzQ1Nzk0Mjg3OTMuOTcsIDE1MzQ1Nzk0MzI3MzguNjkzNCwgMTUzNDU3OTQzNjY4My40MTcsIDE1MzQ1Nzk0NDA2MjguMTQwNiwgMTUzNDU3OTQ0NDU3Mi44NjQzLCAxNTM0NTc5NDQ4NTE3LjU4OCwgMTUzNDU3OTQ1MjQ2Mi4zMTE1LCAxNTM0NTc5NDU2NDA3LjAzNTIsIDE1MzQ1Nzk0NjAzNTEuNzU4OCwgMTUzNDU3OTQ2NDI5Ni40ODI0LCAxNTM0NTc5NDY4MjQxLjIwNiwgMTUzNDU3OTQ3MjE4NS45Mjk3LCAxNTM0NTc5NDc2MTMwLjY1MzMsIDE1MzQ1Nzk0ODAwNzUuMzc3LCAxNTM0NTc5NDg0MDIwLjEwMDYsIDE1MzQ1Nzk0ODc5NjQuODI0MiwgMTUzNDU3OTQ5MTkwOS41NDc5LCAxNTM0NTc5NDk1ODU0LjI3MTIsIDE1MzQ1Nzk0OTk3OTguOTk0OSwgMTUzNDU3OTUwMzc0My43MTg1LCAxNTM0NTc5NTA3Njg4LjQ0MjEsIDE1MzQ1Nzk1MTE2MzMuMTY1OCwgMTUzNDU3OTUxNTU3Ny44ODk0LCAxNTM0NTc5NTE5NTIyLjYxMywgMTUzNDU3OTUyMzQ2Ny4zMzY3LCAxNTM0NTc5NTI3NDEyLjA2MDMsIDE1MzQ1Nzk1MzEzNTYuNzg0LCAxNTM0NTc5NTM1MzAxLjUwNzYsIDE1MzQ1Nzk1MzkyNDYuMjMxMiwgMTUzNDU3OTU0MzE5MC45NTQ4LCAxNTM0NTc5NTQ3MTM1LjY3ODUsIDE1MzQ1Nzk1NTEwODAuNDAyLCAxNTM0NTc5NTU1MDI1LjEyNTcsIDE1MzQ1Nzk1NTg5NjkuODQ5NCwgMTUzNDU3OTU2MjkxNC41NzI4LCAxNTM0NTc5NTY2ODU5LjI5NjQsIDE1MzQ1Nzk1NzA4MDQuMDIsIDE1MzQ1Nzk1NzQ3NDguNzQzNywgMTUzNDU3OTU3ODY5My40NjczLCAxNTM0NTc5NTgyNjM4LjE5MSwgMTUzNDU3OTU4NjU4Mi45MTQ2LCAxNTM0NTc5NTkwNTI3LjYzODIsIDE1MzQ1Nzk1OTQ0NzIuMzYxOCwgMTUzNDU3OTU5ODQxNy4wODU0LCAxNTM0NTc5NjAyMzYxLjgwOSwgMTUzNDU3OTYwNjMwNi41MzI3LCAxNTM0NTc5NjEwMjUxLjI1NjMsIDE1MzQ1Nzk2MTQxOTUuOTgsIDE1MzQ1Nzk2MTgxNDAuNzAzNiwgMTUzNDU3OTYyMjA4NS40MjcyLCAxNTM0NTc5NjI2MDMwLjE1MDYsIDE1MzQ1Nzk2Mjk5NzQuODc0MywgMTUzNDU3OTYzMzkxOS41OTgsIDE1MzQ1Nzk2Mzc4NjQuMzIxNSwgMTUzNDU3OTY0MTgwOS4wNDUyLCAxNTM0NTc5NjQ1NzUzLjc2ODgsIDE1MzQ1Nzk2NDk2OTguNDkyNCwgMTUzNDU3OTY1MzY0My4yMTYsIDE1MzQ1Nzk2NTc1ODcuOTM5NywgMTUzNDU3OTY2MTUzMi42NjMzLCAxNTM0NTc5NjY1NDc3LjM4NywgMTUzNDU3OTY2OTQyMi4xMTA2LCAxNTM0NTc5NjczMzY2LjgzNDIsIDE1MzQ1Nzk2NzczMTEuNTU3OSwgMTUzNDU3OTY4MTI1Ni4yODE1LCAxNTM0NTc5Njg1MjAxLjAwNTEsIDE1MzQ1Nzk2ODkxNDUuNzI4OCwgMTUzNDU3OTY5MzA5MC40NTIxLCAxNTM0NTc5Njk3MDM1LjE3NTgsIDE1MzQ1Nzk3MDA5NzkuODk5NCwgMTUzNDU3OTcwNDkyNC42MjMsIDE1MzQ1Nzk3MDg4NjkuMzQ2NywgMTUzNDU3OTcxMjgxNC4wNzAzLCAxNTM0NTc5NzE2NzU4Ljc5NCwgMTUzNDU3OTcyMDcwMy41MTc2LCAxNTM0NTc5NzI0NjQ4LjI0MTIsIDE1MzQ1Nzk3Mjg1OTIuOTY0OCwgMTUzNDU3OTczMjUzNy42ODg1LCAxNTM0NTc5NzM2NDgyLjQxMiwgMTUzNDU3OTc0MDQyNy4xMzU3LCAxNTM0NTc5NzQ0MzcxLjg1OTQsIDE1MzQ1Nzk3NDgzMTYuNTgzLCAxNTM0NTc5NzUyMjYxLjMwNjYsIDE1MzQ1Nzk3NTYyMDYuMDMsIDE1MzQ1Nzk3NjAxNTAuNzUzNywgMTUzNDU3OTc2NDA5NS40NzczLCAxNTM0NTc5NzY4MDQwLjIwMSwgMTUzNDU3OTc3MTk4NC45MjQ2LCAxNTM0NTc5Nzc1OTI5LjY0ODIsIDE1MzQ1Nzk3Nzk4NzQuMzcxOCwgMTUzNDU3OTc4MzgxOS4wOTU1LCAxNTM0NTc5Nzg3NzYzLjgxOSwgMTUzNDU3OTc5MTcwOC41NDI3LCAxNTM0NTc5Nzk1NjUzLjI2NjQsIDE1MzQ1Nzk3OTk1OTcuOTksIDE1MzQ1Nzk4MDM1NDIuNzEzNiwgMTUzNDU3OTgwNzQ4Ny40MzczLCAxNTM0NTc5ODExNDMyLjE2MSwgMTUzNDU3OTgxNTM3Ni44ODQ1LCAxNTM0NTc5ODE5MzIxLjYwODIsIDE1MzQ1Nzk4MjMyNjYuMzMxNSwgMTUzNDU3OTgyNzIxMS4wNTUyLCAxNTM0NTc5ODMxMTU1Ljc3ODgsIDE1MzQ1Nzk4MzUxMDAuNTAyNCwgMTUzNDU3OTgzOTA0NS4yMjYsIDE1MzQ1Nzk4NDI5ODkuOTQ5NywgMTUzNDU3OTg0NjkzNC42NzMzLCAxNTM0NTc5ODUwODc5LjM5NywgMTUzNDU3OTg1NDgyNC4xMjA2LCAxNTM0NTc5ODU4NzY4Ljg0NDIsIDE1MzQ1Nzk4NjI3MTMuNTY3OSwgMTUzNDU3OTg2NjY1OC4yOTE1LCAxNTM0NTc5ODcwNjAzLjAxNTEsIDE1MzQ1Nzk4NzQ1NDcuNzM4OCwgMTUzNDU3OTg3ODQ5Mi40NjI0LCAxNTM0NTc5ODgyNDM3LjE4NiwgMTUzNDU3OTg4NjM4MS45MDk3LCAxNTM0NTc5ODkwMzI2LjYzMywgMTUzNDU3OTg5NDI3MS4zNTY3LCAxNTM0NTc5ODk4MjE2LjA4MDMsIDE1MzQ1Nzk5MDIxNjAuODA0LCAxNTM0NTc5OTA2MTA1LjUyNzYsIDE1MzQ1Nzk5MTAwNTAuMjUxMiwgMTUzNDU3OTkxMzk5NC45NzQ5LCAxNTM0NTc5OTE3OTM5LjY5ODUsIDE1MzQ1Nzk5MjE4ODQuNDIyLCAxNTM0NTc5OTI1ODI5LjE0NTgsIDE1MzQ1Nzk5Mjk3NzMuODY5NCwgMTUzNDU3OTkzMzcxOC41OTMsIDE1MzQ1Nzk5Mzc2NjMuMzE2NywgMTUzNDU3OTk0MTYwOC4wNDAzLCAxNTM0NTc5OTQ1NTUyLjc2NCwgMTUzNDU3OTk0OTQ5Ny40ODc1LCAxNTM0NTc5OTUzNDQyLjIxMSwgMTUzNDU3OTk1NzM4Ni45MzQ2LCAxNTM0NTc5OTYxMzMxLjY1ODIsIDE1MzQ1Nzk5NjUyNzYuMzgxOCwgMTUzNDU3OTk2OTIyMS4xMDU1LCAxNTM0NTc5OTczMTY1LjgyOSwgMTUzNDU3OTk3NzExMC41NTI3LCAxNTM0NTc5OTgxMDU1LjI3NjQsIDE1MzQ1Nzk5ODUwMDAuMF19LCAidHlwZSI6ICJGZWF0dXJlIn0sIHsiZ2VvbWV0cnkiOiB7ImNvb3JkaW5hdGVzIjogW1syNS43NjEyNzMsIDUxLjQ5MjE5OTAwMDAwMDAxXSwgWzI1Ljc2MTI4ODY4NDI4MzY3LCA1MS40OTIxNjY4MjkxMjUxOF0sIFsyNS43NjEzMDQzNjg1NDUyMDgsIDUxLjQ5MjEzNDY1ODI3MzA2Nl0sIFsyNS43NjEzMjAwNTI3ODQ2MDUsIDUxLjQ5MjEwMjQ4NzQ0MzY1XSwgWzI1Ljc2MTMzNTczNzAwMTg3LCA1MS40OTIwNzAzMTY2MzY5NTVdLCBbMjUuNzYxMzUxNDIxMTk3MDAyLCA1MS40OTIwMzgxNDU4NTI5NDVdLCBbMjUuNzYxMzY3MTA1MzY5OTg4LCA1MS40OTIwMDU5NzUwOTE2NF0sIFsyNS43NjEzODI3ODk1MjA4NDgsIDUxLjQ5MTk3MzgwNDM1MzA0NF0sIFsyNS43NjEzOTg0NzM2NDk1NjQsIDUxLjQ5MTk0MTYzMzYzNzE1XSwgWzI1Ljc2MTQxNDE1Nzc1NjE1MywgNTEuNDkxOTA5NDYyOTQzOTQ0XSwgWzI1Ljc2MTQyOTg0MTg0MDU5NSwgNTEuNDkxODc3MjkyMjczNDZdLCBbMjUuNzYxNDQ1NTI1OTAyOTA3LCA1MS40OTE4NDUxMjE2MjU2NjZdLCBbMjUuNzYxNDYxMjA5OTQzMDksIDUxLjQ5MTgxMjk1MTAwMDU3XSwgWzI1Ljc2MTQ3Njg5Mzk2MTEyNywgNTEuNDkxNzgwNzgwMzk4MTY2XSwgWzI1Ljc2MTUwMTM0Mzc1MTY4MiwgNTEuNDkxNzUyNzc3MjY4NjE2XSwgWzI1Ljc2MTU0NzA1OTE1MTUxLCA1MS40OTE3MzQ4ODQzMDExOV0sIFsyNS43NjE1OTI3NzQ1MTU0NTYsIDUxLjQ5MTcxNjk5MTM0MDc5NV0sIFsyNS43NjE2Mzg0ODk4NDM1MTMsIDUxLjQ5MTY5OTA5ODM4NzQxXSwgWzI1Ljc2MTY4NDIwNTEzNTY4MywgNTEuNDkxNjgxMjA1NDQxMDddLCBbMjUuNzYxNzI5OTIwMzkxOTc1LCA1MS40OTE2NjMzMTI1MDE3Ml0sIFsyNS43NjE3NzU2MzU2MTIzODQsIDUxLjQ5MTY0NTQxOTU2OTQyXSwgWzI1Ljc2MTgyMTM1MDc5NjkxLCA1MS40OTE2Mjc1MjY2NDQxMl0sIFsyNS43NjE4NjcwNjU5NDU1NDgsIDUxLjQ5MTYwOTYzMzcyNTg2NV0sIFsyNS43NjE5MTI3ODEwNTgzMDMsIDUxLjQ5MTU5MTc0MDgxNDYxXSwgWzI1Ljc2MTk1ODQ5NjEzNTE4LCA1MS40OTE1NzM4NDc5MTA0XSwgWzI1Ljc2MjAwNDIxMTE3NjE2NiwgNTEuNDkxNTU1OTU1MDEzMjFdLCBbMjUuNzYyMDQ5OTI2MTgxMjczLCA1MS40OTE1MzgwNjIxMjMwNV0sIFsyNS43NjIwOTU2NDExNTA1LCA1MS40OTE1MjAxNjkyMzk4OV0sIFsyNS43NjIxNDEzNTYwODM4MywgNTEuNDkxNTAyMjc2MzYzNzU0XSwgWzI1Ljc2MjE4NzA3MDk4MTI4NywgNTEuNDkxNDg0MzgzNDk0NjZdLCBbMjUuNzYyMjMyNzg1ODQyODU1LCA1MS40OTE0NjY0OTA2MzI1OF0sIFsyNS43NjIyNzg1MDA2Njg1NDMsIDUxLjQ5MTQ0ODU5Nzc3NzUzXSwgWzI1Ljc2MjMyNDIxNTQ1ODM0MiwgNTEuNDkxNDMwNzA0OTI5NDhdLCBbMjUuNzYyMzY5OTMwMjEyMjYyLCA1MS40OTE0MTI4MTIwODg0NTZdLCBbMjUuNzYyNDE1NjQ0OTMwMjkzLCA1MS40OTEzOTQ5MTkyNTQ0N10sIFsyNS43NjI0NjEzNTk2MTI0NSwgNTEuNDkxMzc3MDI2NDI3NTFdLCBbMjUuNzYyNTA3MDc0MjU4NzE0LCA1MS40OTEzNTkxMzM2MDc1N10sIFsyNS43NjI1NTI3ODg4NjkwOTcsIDUxLjQ5MTM0MTI0MDc5NDYyXSwgWzI1Ljc2MjU5ODUwMzQ0MzU5NSwgNTEuNDkxMzIzMzQ3OTg4NzRdLCBbMjUuNzYyNjQ0MjE3OTgyMjEsIDUxLjQ5MTMwNTQ1NTE4OTg2XSwgWzI1Ljc2MjY4OTkzMjQ4NDk0MywgNTEuNDkxMjg3NTYyMzk3OTg2XSwgWzI1Ljc2MjczNTY0Njk1MTc5MywgNTEuNDkxMjY5NjY5NjEzMTVdLCBbMjUuNzYyNzgxMzYxMzgyNzUzLCA1MS40OTEyNTE3NzY4MzUzNTVdLCBbMjUuNzYyODI3MDc1Nzc3ODM1LCA1MS40OTEyMzM4ODQwNjQ1Nl0sIFsyNS43NjI4NzI3OTAxMzcwMjgsIDUxLjQ5MTIxNTk5MTMwMDhdLCBbMjUuNzYyOTE4NTA0NDYwMzM3LCA1MS40OTExOTgwOTg1NDQwNTRdLCBbMjUuNzYyOTY0MjE4NzQ3NzY1LCA1MS40OTExODAyMDU3OTQzMzZdLCBbMjUuNzYzMDA5OTMyOTk5MzEsIDUxLjQ5MTE2MjMxMzA1MTYyXSwgWzI1Ljc2MzA1NTY0NzIxNDk3LCA1MS40OTExNDQ0MjAzMTU5NF0sIFsyNS43NjMxMDEzNjEzOTQ3NDIsIDUxLjQ5MTEyNjUyNzU4NzMwNV0sIFsyNS43NjMxNDcwNzU1Mzg2MzcsIDUxLjQ5MTEwODYzNDg2NTY2XSwgWzI1Ljc2MzE5Mjc4OTY0NjY0LCA1MS40OTEwOTA3NDIxNTEwNjZdLCBbMjUuNzYzMjM4NTAzNzE4NzY0LCA1MS40OTEwNzI4NDk0NDM0N10sIFsyNS43NjMyODQyMTc3NTUsIDUxLjQ5MTA1NDk1Njc0MjkyXSwgWzI1Ljc2MzMyOTkzMTc1NTM2LCA1MS40OTEwMzcwNjQwNDkzNjVdLCBbMjUuNzYzMzc1NjQ1NzE5ODI2LCA1MS40OTEwMTkxNzEzNjI4NV0sIFsyNS43NjM0MjEzNTk2NDg0MDgsIDUxLjQ5MTAwMTI3ODY4MzM1XSwgWzI1Ljc2MzQ2NzA3MzU0MTExNSwgNTEuNDkwOTgzMzg2MDEwODddLCBbMjUuNzYzNTEyNzg3Mzk3OTMsIDUxLjQ5MDk2NTQ5MzM0NTQxXSwgWzI1Ljc2MzU1ODUwMTIxODg2MywgNTEuNDkwOTQ3NjAwNjg2OTldLCBbMjUuNzYzNjA0MjE1MDAzOTEsIDUxLjQ5MDkyOTcwODAzNTU5XSwgWzI1Ljc2MzY0OTkyODc1MzA3MiwgNTEuNDkwOTExODE1MzkxMTldLCBbMjUuNzYzNjk1NjQyNDY2MzYsIDUxLjQ5MDg5MzkyMjc1MzgzNF0sIFsyNS43NjM2NDY5NjkzMzYxNSwgNTEuNDkwODkwMzIxMDE0Nzc0XSwgWzI1Ljc2MzU5MzE2MzgzNjUzMiwgNTEuNDkwODg3NDk2MzU3MjQ2XSwgWzI1Ljc2MzUzOTM1ODM0MzU4NiwgNTEuNDkwODg0NjcxNjk5OV0sIFsyNS43NjM0ODU1NTI4NTcyOTMsIDUxLjQ5MDg4MTg0NzA0Mjc0XSwgWzI1Ljc2MzQzMTc0NzM3NzY3LCA1MS40OTA4NzkwMjIzODU3M10sIFsyNS43NjMzNzc5NDE5MDQ3MDcsIDUxLjQ5MDg3NjE5NzcyODkxNl0sIFsyNS43NjMzMjQxMzY0Mzg0MSwgNTEuNDkwODczMzczMDcyMjc2XSwgWzI1Ljc2MzI3MDMzMDk3ODc3NywgNTEuNDkwODcwNTQ4NDE1NzldLCBbMjUuNzYzMjE2NTI1NTI1ODA2LCA1MS40OTA4Njc3MjM3NTk1Ml0sIFsyNS43NjMxNjI3MjAwNzk1LCA1MS40OTA4NjQ4OTkxMDMzOV0sIFsyNS43NjMxMDg5MTQ2Mzk4NjUsIDUxLjQ5MDg2MjA3NDQ0NzQ1XSwgWzI1Ljc2MzA1NTEwOTIwNjg4NSwgNTEuNDkwODU5MjQ5NzkxN10sIFsyNS43NjMwMDEzMDM3ODA1NzcsIDUxLjQ5MDg1NjQyNTEzNjA5XSwgWzI1Ljc2Mjk0NzQ5ODM2MDkzLCA1MS40OTA4NTM2MDA0ODA2NzZdLCBbMjUuNzYyODkzNjkyOTQ3OTQ4LCA1MS40OTA4NTA3NzU4MjU0M10sIFsyNS43NjI4Mzk4ODc1NDE2MjcsIDUxLjQ5MDg0Nzk1MTE3MDM1XSwgWzI1Ljc2Mjc4NjA4MjE0MTk4LCA1MS40OTA4NDUxMjY1MTU0N10sIFsyNS43NjI3MzIyNzY3NDg5ODgsIDUxLjQ5MDg0MjMwMTg2MDc0XSwgWzI1Ljc2MjY3ODQ3MTM2MjY3MywgNTEuNDkwODM5NDc3MjA2MTk0XSwgWzI1Ljc2MjYyNDY2NTk4MzAxLCA1MS40OTA4MzY2NTI1NTE4Ml0sIFsyNS43NjI1NzA4NjA2MTAwMiwgNTEuNDkwODMzODI3ODk3NjNdLCBbMjUuNzYyNTE3MDU1MjQzNzAyLCA1MS40OTA4MzEwMDMyNDM2MDZdLCBbMjUuNzYyNDYzMjQ5ODg0MDM2LCA1MS40OTA4MjgxNzg1ODk3NjZdLCBbMjUuNzYyNDA5NDQ0NTMxMDQ1LCA1MS40OTA4MjUzNTM5MzYxMV0sIFsyNS43NjIzNTU2MzkxODQ3MSwgNTEuNDkwODIyNTI5MjgyNjI0XSwgWzI1Ljc2MjMwMTgzMzg0NTA1NCwgNTEuNDkwODE5NzA0NjI5MjldLCBbMjUuNzYyMjQ4MDI4NTEyMDU4LCA1MS40OTA4MTY4Nzk5NzYxNV0sIFsyNS43NjIxOTQyMjMxODU3MjcsIDUxLjQ5MDgxNDA1NTMyMzE4XSwgWzI1Ljc2MjE0MDQxNzg2NjA2OCwgNTEuNDkwODExMjMwNjcwMzldLCBbMjUuNzYyMDg2NjEyNTUzMDYsIDUxLjQ5MDgwODQwNjAxNzc2XSwgWzI1Ljc2MjAzMjgwNzI0NjczMywgNTEuNDkwODA1NTgxMzY1MzJdLCBbMjUuNzYxOTc5MDAxOTQ3MDcyLCA1MS40OTA4MDI3NTY3MTMwNV0sIFsyNS43NjE5MjUxOTY2NTQwNywgNTEuNDkwNzk5OTMyMDYwOTQ1XSwgWzI1Ljc2MTg3MTM5MTM2NzczNCwgNTEuNDkwNzk3MTA3NDA5MDRdLCBbMjUuNzYxODE3NTg2MDg4MDcsIDUxLjQ5MDc5NDI4Mjc1NzNdLCBbMjUuNzYxNzYzNzgwODE1MDcsIDUxLjQ5MDc5MTQ1ODEwNTczXSwgWzI1Ljc2MTcwOTk3NTU0ODc0LCA1MS40OTA3ODg2MzM0NTQzMl0sIFsyNS43NjE2NTYxNzAyODkwNzYsIDUxLjQ5MDc4NTgwODgwMzExXSwgWzI1Ljc2MTYwMjM2NTAzNjA3NiwgNTEuNDkwNzgyOTg0MTUyMDU1XSwgWzI1Ljc2MTU0ODU1OTc4OTc0NSwgNTEuNDkwNzgwMTU5NTAxMl0sIFsyNS43NjE0OTQ3NTQ1NTAwODIsIDUxLjQ5MDc3NzMzNDg1MDUyXSwgWzI1Ljc2MTQ0MDk0OTMxNzA4OCwgNTEuNDkwNzc0NTEwMTk5OTg0XSwgWzI1Ljc2MTM4NzE0NDA5MDc1OCwgNTEuNDkwNzcxNjg1NTQ5NjVdLCBbMjUuNzYxMzMzMzM4ODcxMDk3LCA1MS40OTA3Njg4NjA4OTk0N10sIFsyNS43NjEyNzk1MzM2NTgxLCA1MS40OTA3NjYwMzYyNDk0OF0sIFsyNS43NjEyMjU3Mjg0NTE3NzcsIDUxLjQ5MDc2MzIxMTU5OTY1XSwgWzI1Ljc2MTE3MTkyMzI1MjExNywgNTEuNDkwNzYwMzg2OTUwMDFdLCBbMjUuNzYxMTE4MTE4MDU5MTI3LCA1MS40OTA3NTc1NjIzMDA1NV0sIFsyNS43NjEwNjQzMTI4NzI4MDgsIDUxLjQ5MDc1NDczNzY1MTI2NV0sIFsyNS43NjEwMTA1MDc2OTMxNDcsIDUxLjQ5MDc1MTkxMzAwMjE1XSwgWzI1Ljc2MDk1NjcwMjUyMDE2NSwgNTEuNDkwNzQ5MDg4MzUzMTldLCBbMjUuNzYwOTAyODk3MzUzODQ0LCA1MS40OTA3NDYyNjM3MDQ0Ml0sIFsyNS43NjA4NDkwOTIxOTQxOTYsIDUxLjQ5MDc0MzQzOTA1NTgyXSwgWzI1Ljc2MDc5NTI4NzA0MTIxNiwgNTEuNDkwNzQwNjE0NDA3NDFdLCBbMjUuNzYwNzQxNDgxODk0OSwgNTEuNDkwNzM3Nzg5NzU5MTddLCBbMjUuNzYwNjg3Njc2NzU1MjYsIDUxLjQ5MDczNDk2NTExMTFdLCBbMjUuNzYwNjMzODcxNjIyMjgyLCA1MS40OTA3MzIxNDA0NjMyXSwgWzI1Ljc2MDU4MDA2NjQ5NTk4LCA1MS40OTA3MjkzMTU4MTU0OF0sIFsyNS43NjA1MjYyNjEzNzYzNCwgNTEuNDkwNzI2NDkxMTY3OTVdLCBbMjUuNzYwNDcyNDU2MjYzMzc2LCA1MS40OTA3MjM2NjY1MjA1N10sIFsyNS43NjA0MTg2NTExNTcwNzUsIDUxLjQ5MDcyMDg0MTg3MzM3Nl0sIFsyNS43NjAzNjQ4NDYwNTc0NSwgNTEuNDkwNzE4MDE3MjI2MzZdLCBbMjUuNzYwMzExMDQwOTY0NDg1LCA1MS40OTA3MTUxOTI1Nzk1Ml0sIFsyNS43NjAyNTcyMzU4NzgxOTYsIDUxLjQ5MDcxMjM2NzkzMjg0NF0sIFsyNS43NjAyMDM0MzA3OTg1NzMsIDUxLjQ5MDcwOTU0MzI4NjM1XSwgWzI1Ljc2MDE0OTYyNTcyNTYyLCA1MS40OTA3MDY3MTg2NDAwNV0sIFsyNS43NjAwOTU4MjA2NTkzMzgsIDUxLjQ5MDcwMzg5Mzk5MzldLCBbMjUuNzYwMDQyMDE1NTk5NzI2LCA1MS40OTA3MDEwNjkzNDc5Ml0sIFsyNS43NTk5ODgyMTA1NDY3ODcsIDUxLjQ5MDY5ODI0NDcwMjEzXSwgWzI1Ljc1OTkzNDQwNTUwMDUwNiwgNTEuNDkwNjk1NDIwMDU2NTI1XSwgWzI1Ljc1OTg4MDYwMDQ2MDkwNywgNTEuNDkwNjkyNTk1NDExMDhdLCBbMjUuNzU5ODI2Nzk1NDI3OTgsIDUxLjQ5MDY4OTc3MDc2NThdLCBbMjUuNzU5NzcyOTkwNDAxNzE0LCA1MS40OTA2ODY5NDYxMjA3Ml0sIFsyNS43NTk3MTkxODUzODIxMiwgNTEuNDkwNjg0MTIxNDc1Nzk1XSwgWzI1Ljc1OTY2NTM4MDM2OTIsIDUxLjQ5MDY4MTI5NjgzMTA0XSwgWzI1Ljc1OTYxMTU3NTM2Mjk1LCA1MS40OTA2Nzg0NzIxODY0NzRdLCBbMjUuNzU5NTU3NzcwMzYzMzY1LCA1MS40OTA2NzU2NDc1NDIwOV0sIFsyNS43NTk1MDM5NjUzNzA0NTYsIDUxLjQ5MDY3MjgyMjg5Nzg4XSwgWzI1Ljc1OTQ1MDE2MDM4NDIyMywgNTEuNDkwNjY5OTk4MjUzODJdLCBbMjUuNzU5Mzk2MzU1NDA0NjUsIDUxLjQ5MDY2NzE3MzYwOTk2XSwgWzI1Ljc1OTM5MzI3NTEyMDk1NiwgNTEuNDkwNjgxNTYwNDI3N10sIFsyNS43NTk0MjYyNTE2NzIwMiwgNTEuNDkwNzA4MTgxNzM5M10sIFsyNS43NTk0NTkyMjgyNjE1OSwgNTEuNDkwNzM0ODAzMDY2NDY2XSwgWzI1Ljc1OTQ5MjIwNDg4OTY4MiwgNTEuNDkwNzYxNDI0NDA5MTY1XSwgWzI1Ljc1OTUyNTE4MTU1NjI4LCA1MS40OTA3ODgwNDU3Njc0XSwgWzI1Ljc1OTU1ODE1ODI2MTM5NSwgNTEuNDkwODE0NjY3MTQxMjFdLCBbMjUuNzU5NTkxMTM1MDA1MDI0LCA1MS40OTA4NDEyODg1MzA1NF0sIFsyNS43NTk2MjQxMTE3ODcxNjUsIDUxLjQ5MDg2NzkwOTkzNTQxXSwgWzI1Ljc1OTY1NzA4ODYwNzgyNCwgNTEuNDkwODk0NTMxMzU1ODM1XSwgWzI1Ljc1OTY5MDA2NTQ2Njk5LCA1MS40OTA5MjExNTI3OTE4XSwgWzI1Ljc1OTcyMzA0MjM2NDY3LCA1MS40OTA5NDc3NzQyNDMzMjRdLCBbMjUuNzU5NzU2MDE5MzAwODcsIDUxLjQ5MDk3NDM5NTcxMDM3NF0sIFsyNS43NTk3ODg5OTYyNzU1OCwgNTEuNDkxMDAxMDE3MTkyOThdLCBbMjUuNzU5ODIxOTczMjg4ODEsIDUxLjQ5MTAyNzYzODY5MTEzNl0sIFsyNS43NTk4NTQ5NTAzNDA1NCwgNTEuNDkxMDU0MjYwMjA0ODFdLCBbMjUuNzU5ODg3OTI3NDMwNzkzLCA1MS40OTEwODA4ODE3MzQwNjRdLCBbMjUuNzU5OTIwOTA0NTU5NTU3LCA1MS40OTExMDc1MDMyNzg4NV0sIFsyNS43NTk5NTM4ODE3MjY4NCwgNTEuNDkxMTM0MTI0ODM5Ml0sIFsyNS43NTk5ODY4NTg5MzI2MywgNTEuNDkxMTYwNzQ2NDE1MDddLCBbMjUuNzYwMDE5ODM2MTc2OTM3LCA1MS40OTExODczNjgwMDY0ODZdLCBbMjUuNzYwMDUyODEzNDU5NzYsIDUxLjQ5MTIxMzk4OTYxMzQ1XSwgWzI1Ljc2MDA4NTc5MDc4MTA5NCwgNTEuNDkxMjQwNjExMjM1OTY2XSwgWzI1Ljc2MDExODc2ODE0MDk0LCA1MS40OTEyNjcyMzI4NzQwMl0sIFsyNS43NjAxNTE3NDU1MzkzMSwgNTEuNDkxMjkzODU0NTI3NjI2XSwgWzI1Ljc2MDE4NDcyMjk3NjE5LCA1MS40OTEzMjA0NzYxOTY3OV0sIFsyNS43NjAyMTc3MDA0NTE1ODQsIDUxLjQ5MTM0NzA5Nzg4MTQ4XSwgWzI1Ljc2MDI1MDY3Nzk2NTQ4NywgNTEuNDkxMzczNzE5NTgxNzE2XSwgWzI1Ljc2MDI4MzY1NTUxNzkxLCA1MS40OTE0MDAzNDEyOTc1MDZdLCBbMjUuNzYwMzE2NjMzMTA4ODUsIDUxLjQ5MTQyNjk2MzAyODgzXSwgWzI1Ljc2MDM0OTYxMDczODI5NSwgNTEuNDkxNDUzNTg0Nzc1NzFdLCBbMjUuNzYwMzgyNTg4NDA2MjYyLCA1MS40OTE0ODAyMDY1MzgxM10sIFsyNS43NjA0MTU1NjYxMTI3NCwgNTEuNDkxNTA2ODI4MzE2MTA1XSwgWzI1Ljc2MDQ0ODU0Mzg1NzczNCwgNTEuNDkxNTMzNDUwMTA5NjE0XSwgWzI1Ljc2MDQ4MTUyMTY0MTI1MywgNTEuNDkxNTYwMDcxOTE4Njg0XSwgWzI1Ljc2MDUxNDQ5OTQ2MzI3LCA1MS40OTE1ODY2OTM3NDMyOF0sIFsyNS43NjA1NDc0NzczMjM4MDQsIDUxLjQ5MTYxMzMxNTU4MzQzNl0sIFsyNS43NjA1ODA0NTUyMjI4NiwgNTEuNDkxNjM5OTM3NDM5MTNdLCBbMjUuNzYwNjEzNDMzMTYwNDMzLCA1MS40OTE2NjY1NTkzMTAzOTZdLCBbMjUuNzYwNjQ2NDExMTM2NTIsIDUxLjQ5MTY5MzE4MTE5NzE4XSwgWzI1Ljc2MDY3OTM4OTE1MTExLCA1MS40OTE3MTk4MDMwOTk1MTRdLCBbMjUuNzYwNzEyMzY3MjA0MjI0LCA1MS40OTE3NDY0MjUwMTczOTZdLCBbMjUuNzYwNzQ1MzQ1Mjk1ODYsIDUxLjQ5MTc3MzA0Njk1MDgyXSwgWzI1Ljc2MDc3ODMyMzQyNTk5NSwgNTEuNDkxNzk5NjY4ODk5OF0sIFsyNS43NjA4MTEzMDE1OTQ2NTQsIDUxLjQ5MTgyNjI5MDg2NDMzXSwgWzI1Ljc2MDg0NDI3OTgwMTgzNCwgNTEuNDkxODUyOTEyODQ0MzldLCBbMjUuNzYwODc3MjU4MDQ3NTI1LCA1MS40OTE4Nzk1MzQ4NF0sIFsyNS43NjA5MTAyMzYzMzE3MjUsIDUxLjQ5MTkwNjE1Njg1MTE2XSwgWzI1Ljc2MDk0MzIxNDY1NDQ0MywgNTEuNDkxOTMyNzc4ODc3ODldLCBbMjUuNzYwOTc2MTkzMDE1NjgzLCA1MS40OTE5NTk0MDA5MjAxNF0sIFsyNS43NjEwMDkxNzE0MTU0MzQsIDUxLjQ5MTk4NjAyMjk3NzkzXSwgWzI1Ljc2MTA0MjE0OTg1MzcsIDUxLjQ5MjAxMjY0NTA1MTI4XSwgWzI1Ljc2MTA3NTEyODMzMDQ4LCA1MS40OTIwMzkyNjcxNDAxOF0sIFsyNS43NjExMDgxMDY4NDU3OCwgNTEuNDkyMDY1ODg5MjQ0Nl0sIFsyNS43NjExNDEwODUzOTk1OSwgNTEuNDkyMDkyNTExMzY0NTk2XSwgWzI1Ljc2MTE3NDA2Mzk5MTkyLCA1MS40OTIxMTkxMzM1MDAxMjVdLCBbMjUuNzYxMjA3MDQyNjIyNzU4LCA1MS40OTIxNDU3NTU2NTEyXSwgWzI1Ljc2MTI0MDAyMTI5MjEyLCA1MS40OTIxNzIzNzc4MTc4NF0sIFsyNS43NjEyNzMsIDUxLjQ5MjE5OV1dLCAidHlwZSI6ICJMaW5lU3RyaW5nIn0sICJwcm9wZXJ0aWVzIjogeyJwb3B1cCI6ICJQb3J0bGFuZCwgT1IiLCAidGltZXMiOiBbMTUzNDU3OTIwMDAwMC4wLCAxNTM0NTc5MjA0NTgyLjkxNDYsIDE1MzQ1NzkyMDkxNjUuODI5LCAxNTM0NTc5MjEzNzQ4Ljc0MzcsIDE1MzQ1NzkyMTgzMzEuNjU4MiwgMTUzNDU3OTIyMjkxNC41NzI4LCAxNTM0NTc5MjI3NDk3LjQ4NzUsIDE1MzQ1NzkyMzIwODAuNDAyLCAxNTM0NTc5MjM2NjYzLjMxNjcsIDE1MzQ1NzkyNDEyNDYuMjMxMiwgMTUzNDU3OTI0NTgyOS4xNDU4LCAxNTM0NTc5MjUwNDEyLjA2MDMsIDE1MzQ1NzkyNTQ5OTQuOTc0OSwgMTUzNDU3OTI1OTU3Ny44ODk0LCAxNTM0NTc5MjY0MTYwLjgwNCwgMTUzNDU3OTI2ODc0My43MTg1LCAxNTM0NTc5MjczMzI2LjYzMywgMTUzNDU3OTI3NzkwOS41NDc5LCAxNTM0NTc5MjgyNDkyLjQ2MjQsIDE1MzQ1NzkyODcwNzUuMzc3LCAxNTM0NTc5MjkxNjU4LjI5MTUsIDE1MzQ1NzkyOTYyNDEuMjA2LCAxNTM0NTc5MzAwODI0LjEyMDYsIDE1MzQ1NzkzMDU0MDcuMDM1MiwgMTUzNDU3OTMwOTk4OS45NDk3LCAxNTM0NTc5MzE0NTcyLjg2NDMsIDE1MzQ1NzkzMTkxNTUuNzc4OCwgMTUzNDU3OTMyMzczOC42OTM0LCAxNTM0NTc5MzI4MzIxLjYwODIsIDE1MzQ1NzkzMzI5MDQuNTIyNywgMTUzNDU3OTMzNzQ4Ny40MzczLCAxNTM0NTc5MzQyMDcwLjM1MTgsIDE1MzQ1NzkzNDY2NTMuMjY2NCwgMTUzNDU3OTM1MTIzNi4xODEsIDE1MzQ1NzkzNTU4MTkuMDk1NSwgMTUzNDU3OTM2MDQwMi4wMSwgMTUzNDU3OTM2NDk4NC45MjQ2LCAxNTM0NTc5MzY5NTY3LjgzOSwgMTUzNDU3OTM3NDE1MC43NTM3LCAxNTM0NTc5Mzc4NzMzLjY2ODUsIDE1MzQ1NzkzODMzMTYuNTgzLCAxNTM0NTc5Mzg3ODk5LjQ5NzYsIDE1MzQ1NzkzOTI0ODIuNDEyLCAxNTM0NTc5Mzk3MDY1LjMyNjcsIDE1MzQ1Nzk0MDE2NDguMjQxMiwgMTUzNDU3OTQwNjIzMS4xNTU4LCAxNTM0NTc5NDEwODE0LjA3MDMsIDE1MzQ1Nzk0MTUzOTYuOTg0OSwgMTUzNDU3OTQxOTk3OS44OTk0LCAxNTM0NTc5NDI0NTYyLjgxNCwgMTUzNDU3OTQyOTE0NS43Mjg4LCAxNTM0NTc5NDMzNzI4LjY0MzMsIDE1MzQ1Nzk0MzgzMTEuNTU3OSwgMTUzNDU3OTQ0Mjg5NC40NzI0LCAxNTM0NTc5NDQ3NDc3LjM4NywgMTUzNDU3OTQ1MjA2MC4zMDE1LCAxNTM0NTc5NDU2NjQzLjIxNiwgMTUzNDU3OTQ2MTIyNi4xMzA2LCAxNTM0NTc5NDY1ODA5LjA0NTIsIDE1MzQ1Nzk0NzAzOTEuOTU5NywgMTUzNDU3OTQ3NDk3NC44NzQzLCAxNTM0NTc5NDc5NTU3Ljc4OSwgMTUzNDU3OTQ4NDE0MC43MDM2LCAxNTM0NTc5NDg4NzIzLjYxODIsIDE1MzQ1Nzk0OTMzMDYuNTMyNywgMTUzNDU3OTQ5Nzg4OS40NDczLCAxNTM0NTc5NTAyNDcyLjM2MTgsIDE1MzQ1Nzk1MDcwNTUuMjc2NCwgMTUzNDU3OTUxMTYzOC4xOTEsIDE1MzQ1Nzk1MTYyMjEuMTA1NSwgMTUzNDU3OTUyMDgwNC4wMiwgMTUzNDU3OTUyNTM4Ni45MzQ2LCAxNTM0NTc5NTI5OTY5Ljg0OTQsIDE1MzQ1Nzk1MzQ1NTIuNzY0LCAxNTM0NTc5NTM5MTM1LjY3ODUsIDE1MzQ1Nzk1NDM3MTguNTkzLCAxNTM0NTc5NTQ4MzAxLjUwNzYsIDE1MzQ1Nzk1NTI4ODQuNDIyLCAxNTM0NTc5NTU3NDY3LjMzNjcsIDE1MzQ1Nzk1NjIwNTAuMjUxMiwgMTUzNDU3OTU2NjYzMy4xNjU4LCAxNTM0NTc5NTcxMjE2LjA4MDMsIDE1MzQ1Nzk1NzU3OTguOTk0OSwgMTUzNDU3OTU4MDM4MS45MDk3LCAxNTM0NTc5NTg0OTY0LjgyNDIsIDE1MzQ1Nzk1ODk1NDcuNzM4OCwgMTUzNDU3OTU5NDEzMC42NTMzLCAxNTM0NTc5NTk4NzEzLjU2NzksIDE1MzQ1Nzk2MDMyOTYuNDgyNCwgMTUzNDU3OTYwNzg3OS4zOTcsIDE1MzQ1Nzk2MTI0NjIuMzExNSwgMTUzNDU3OTYxNzA0NS4yMjYsIDE1MzQ1Nzk2MjE2MjguMTQwNiwgMTUzNDU3OTYyNjIxMS4wNTUyLCAxNTM0NTc5NjMwNzkzLjk3LCAxNTM0NTc5NjM1Mzc2Ljg4NDUsIDE1MzQ1Nzk2Mzk5NTkuNzk5LCAxNTM0NTc5NjQ0NTQyLjcxMzYsIDE1MzQ1Nzk2NDkxMjUuNjI4MiwgMTUzNDU3OTY1MzcwOC41NDI3LCAxNTM0NTc5NjU4MjkxLjQ1NzMsIDE1MzQ1Nzk2NjI4NzQuMzcxOCwgMTUzNDU3OTY2NzQ1Ny4yODY0LCAxNTM0NTc5NjcyMDQwLjIwMSwgMTUzNDU3OTY3NjYyMy4xMTU1LCAxNTM0NTc5NjgxMjA2LjAzLCAxNTM0NTc5Njg1Nzg4Ljk0NDgsIDE1MzQ1Nzk2OTAzNzEuODU5NCwgMTUzNDU3OTY5NDk1NC43NzQsIDE1MzQ1Nzk2OTk1MzcuNjg4NSwgMTUzNDU3OTcwNDEyMC42MDMsIDE1MzQ1Nzk3MDg3MDMuNTE3NiwgMTUzNDU3OTcxMzI4Ni40MzIxLCAxNTM0NTc5NzE3ODY5LjM0NjcsIDE1MzQ1Nzk3MjI0NTIuMjYxMiwgMTUzNDU3OTcyNzAzNS4xNzU4LCAxNTM0NTc5NzMxNjE4LjA5MDMsIDE1MzQ1Nzk3MzYyMDEuMDA1MSwgMTUzNDU3OTc0MDc4My45MTk3LCAxNTM0NTc5NzQ1MzY2LjgzNDIsIDE1MzQ1Nzk3NDk5NDkuNzQ4OCwgMTUzNDU3OTc1NDUzMi42NjMzLCAxNTM0NTc5NzU5MTE1LjU3OCwgMTUzNDU3OTc2MzY5OC40OTI0LCAxNTM0NTc5NzY4MjgxLjQwNywgMTUzNDU3OTc3Mjg2NC4zMjE1LCAxNTM0NTc5Nzc3NDQ3LjIzNiwgMTUzNDU3OTc4MjAzMC4xNTA2LCAxNTM0NTc5Nzg2NjEzLjA2NTQsIDE1MzQ1Nzk3OTExOTUuOTgsIDE1MzQ1Nzk3OTU3NzguODk0NSwgMTUzNDU3OTgwMDM2MS44MDksIDE1MzQ1Nzk4MDQ5NDQuNzIzNiwgMTUzNDU3OTgwOTUyNy42MzgyLCAxNTM0NTc5ODE0MTEwLjU1MjcsIDE1MzQ1Nzk4MTg2OTMuNDY3MywgMTUzNDU3OTgyMzI3Ni4zODE4LCAxNTM0NTc5ODI3ODU5LjI5NjQsIDE1MzQ1Nzk4MzI0NDIuMjExLCAxNTM0NTc5ODM3MDI1LjEyNTcsIDE1MzQ1Nzk4NDE2MDguMDQwMywgMTUzNDU3OTg0NjE5MC45NTQ4LCAxNTM0NTc5ODUwNzczLjg2OTQsIDE1MzQ1Nzk4NTUzNTYuNzg0LCAxNTM0NTc5ODU5OTM5LjY5ODUsIDE1MzQ1Nzk4NjQ1MjIuNjEzLCAxNTM0NTc5ODY5MTA1LjUyNzYsIDE1MzQ1Nzk4NzM2ODguNDQyMSwgMTUzNDU3OTg3ODI3MS4zNTY3LCAxNTM0NTc5ODgyODU0LjI3MTIsIDE1MzQ1Nzk4ODc0MzcuMTg2LCAxNTM0NTc5ODkyMDIwLjEwMDYsIDE1MzQ1Nzk4OTY2MDMuMDE1MSwgMTUzNDU3OTkwMTE4NS45Mjk3LCAxNTM0NTc5OTA1NzY4Ljg0NDIsIDE1MzQ1Nzk5MTAzNTEuNzU4OCwgMTUzNDU3OTkxNDkzNC42NzMzLCAxNTM0NTc5OTE5NTE3LjU4OCwgMTUzNDU3OTkyNDEwMC41MDI0LCAxNTM0NTc5OTI4NjgzLjQxNywgMTUzNDU3OTkzMzI2Ni4zMzE1LCAxNTM0NTc5OTM3ODQ5LjI0NjMsIDE1MzQ1Nzk5NDI0MzIuMTYxLCAxNTM0NTc5OTQ3MDE1LjA3NTQsIDE1MzQ1Nzk5NTE1OTcuOTksIDE1MzQ1Nzk5NTYxODAuOTA0NSwgMTUzNDU3OTk2MDc2My44MTksIDE1MzQ1Nzk5NjUzNDYuNzMzNiwgMTUzNDU3OTk2OTkyOS42NDgyLCAxNTM0NTc5OTc0NTEyLjU2MjcsIDE1MzQ1Nzk5NzkwOTUuNDc3MywgMTUzNDU3OTk4MzY3OC4zOTE4LCAxNTM0NTc5OTg4MjYxLjMwNjYsIDE1MzQ1Nzk5OTI4NDQuMjIxMiwgMTUzNDU3OTk5NzQyNy4xMzU3LCAxNTM0NTgwMDAyMDEwLjA1MDMsIDE1MzQ1ODAwMDY1OTIuOTY0OCwgMTUzNDU4MDAxMTE3NS44Nzk0LCAxNTM0NTgwMDE1NzU4Ljc5NCwgMTUzNDU4MDAyMDM0MS43MDg1LCAxNTM0NTgwMDI0OTI0LjYyMywgMTUzNDU4MDAyOTUwNy41Mzc2LCAxNTM0NTgwMDM0MDkwLjQ1MjEsIDE1MzQ1ODAwMzg2NzMuMzY3LCAxNTM0NTgwMDQzMjU2LjI4MTUsIDE1MzQ1ODAwNDc4MzkuMTk2LCAxNTM0NTgwMDUyNDIyLjExMDYsIDE1MzQ1ODAwNTcwMDUuMDI1MSwgMTUzNDU4MDA2MTU4Ny45Mzk3LCAxNTM0NTgwMDY2MTcwLjg1NDIsIDE1MzQ1ODAwNzA3NTMuNzY4OCwgMTUzNDU4MDA3NTMzNi42ODMzLCAxNTM0NTgwMDc5OTE5LjU5OCwgMTUzNDU4MDA4NDUwMi41MTI1LCAxNTM0NTgwMDg5MDg1LjQyNzIsIDE1MzQ1ODAwOTM2NjguMzQxOCwgMTUzNDU4MDA5ODI1MS4yNTYzLCAxNTM0NTgwMTAyODM0LjE3MSwgMTUzNDU4MDEwNzQxNy4wODU0LCAxNTM0NTgwMTEyMDAwLjBdfSwgInR5cGUiOiAiRmVhdHVyZSJ9LCB7Imdlb21ldHJ5IjogeyJjb29yZGluYXRlcyI6IFtbMjUuNzYxMjczLCA1MS40OTIxOTkwMDAwMDAwMV0sIFsyNS43NjEyODg2ODQyODM2NywgNTEuNDkyMTY2ODI5MTI1MThdLCBbMjUuNzYxMzA0MzY4NTQ1MjA4LCA1MS40OTIxMzQ2NTgyNzMwNjZdLCBbMjUuNzYxMzIwMDUyNzg0NjA1LCA1MS40OTIxMDI0ODc0NDM2NV0sIFsyNS43NjEzMzU3MzcwMDE4NywgNTEuNDkyMDcwMzE2NjM2OTU1XSwgWzI1Ljc2MTM1MTQyMTE5NzAwMiwgNTEuNDkyMDM4MTQ1ODUyOTQ1XSwgWzI1Ljc2MTM2NzEwNTM2OTk4OCwgNTEuNDkyMDA1OTc1MDkxNjRdLCBbMjUuNzYxMzgyNzg5NTIwODQ4LCA1MS40OTE5NzM4MDQzNTMwNDRdLCBbMjUuNzYxMzk4NDczNjQ5NTY0LCA1MS40OTE5NDE2MzM2MzcxNV0sIFsyNS43NjE0MTQxNTc3NTYxNTMsIDUxLjQ5MTkwOTQ2Mjk0Mzk0NF0sIFsyNS43NjE0Mjk4NDE4NDA1OTUsIDUxLjQ5MTg3NzI5MjI3MzQ2XSwgWzI1Ljc2MTQ0NTUyNTkwMjkwNywgNTEuNDkxODQ1MTIxNjI1NjY2XSwgWzI1Ljc2MTQ2MTIwOTk0MzA5LCA1MS40OTE4MTI5NTEwMDA1N10sIFsyNS43NjE0NzY4OTM5NjExMjcsIDUxLjQ5MTc4MDc4MDM5ODE2Nl0sIFsyNS43NjE1MDEzNDM3NTE2ODIsIDUxLjQ5MTc1Mjc3NzI2ODYxNl0sIFsyNS43NjE1NDcwNTkxNTE1MSwgNTEuNDkxNzM0ODg0MzAxMTldLCBbMjUuNzYxNTkyNzc0NTE1NDU2LCA1MS40OTE3MTY5OTEzNDA3OTVdLCBbMjUuNzYxNjM4NDg5ODQzNTEzLCA1MS40OTE2OTkwOTgzODc0MV0sIFsyNS43NjE2ODQyMDUxMzU2ODMsIDUxLjQ5MTY4MTIwNTQ0MTA3XSwgWzI1Ljc2MTcyOTkyMDM5MTk3NSwgNTEuNDkxNjYzMzEyNTAxNzJdLCBbMjUuNzYxNzc1NjM1NjEyMzg0LCA1MS40OTE2NDU0MTk1Njk0Ml0sIFsyNS43NjE4MjEzNTA3OTY5MSwgNTEuNDkxNjI3NTI2NjQ0MTJdLCBbMjUuNzYxODY3MDY1OTQ1NTQ4LCA1MS40OTE2MDk2MzM3MjU4NjVdLCBbMjUuNzYxOTEyNzgxMDU4MzAzLCA1MS40OTE1OTE3NDA4MTQ2MV0sIFsyNS43NjE5NTg0OTYxMzUxOCwgNTEuNDkxNTczODQ3OTEwNF0sIFsyNS43NjIwMDQyMTExNzYxNjYsIDUxLjQ5MTU1NTk1NTAxMzIxXSwgWzI1Ljc2MjA0OTkyNjE4MTI3MywgNTEuNDkxNTM4MDYyMTIzMDVdLCBbMjUuNzYyMDk1NjQxMTUwNSwgNTEuNDkxNTIwMTY5MjM5ODldLCBbMjUuNzYyMTQxMzU2MDgzODMsIDUxLjQ5MTUwMjI3NjM2Mzc1NF0sIFsyNS43NjIxODcwNzA5ODEyODcsIDUxLjQ5MTQ4NDM4MzQ5NDY2XSwgWzI1Ljc2MjIzMjc4NTg0Mjg1NSwgNTEuNDkxNDY2NDkwNjMyNThdLCBbMjUuNzYyMjc4NTAwNjY4NTQzLCA1MS40OTE0NDg1OTc3Nzc1M10sIFsyNS43NjIzMjQyMTU0NTgzNDIsIDUxLjQ5MTQzMDcwNDkyOTQ4XSwgWzI1Ljc2MjM2OTkzMDIxMjI2MiwgNTEuNDkxNDEyODEyMDg4NDU2XSwgWzI1Ljc2MjQxNTY0NDkzMDI5MywgNTEuNDkxMzk0OTE5MjU0NDddLCBbMjUuNzYyNDYxMzU5NjEyNDUsIDUxLjQ5MTM3NzAyNjQyNzUxXSwgWzI1Ljc2MjUwNzA3NDI1ODcxNCwgNTEuNDkxMzU5MTMzNjA3NTddLCBbMjUuNzYyNTUyNzg4ODY5MDk3LCA1MS40OTEzNDEyNDA3OTQ2Ml0sIFsyNS43NjI1OTg1MDM0NDM1OTUsIDUxLjQ5MTMyMzM0Nzk4ODc0XSwgWzI1Ljc2MjY0NDIxNzk4MjIxLCA1MS40OTEzMDU0NTUxODk4Nl0sIFsyNS43NjI2ODk5MzI0ODQ5NDMsIDUxLjQ5MTI4NzU2MjM5Nzk4Nl0sIFsyNS43NjI3MzU2NDY5NTE3OTMsIDUxLjQ5MTI2OTY2OTYxMzE1XSwgWzI1Ljc2Mjc4MTM2MTM4Mjc1MywgNTEuNDkxMjUxNzc2ODM1MzU1XSwgWzI1Ljc2MjgyNzA3NTc3NzgzNSwgNTEuNDkxMjMzODg0MDY0NTZdLCBbMjUuNzYyODcyNzkwMTM3MDI4LCA1MS40OTEyMTU5OTEzMDA4XSwgWzI1Ljc2MjkxODUwNDQ2MDMzNywgNTEuNDkxMTk4MDk4NTQ0MDU0XSwgWzI1Ljc2Mjk2NDIxODc0Nzc2NSwgNTEuNDkxMTgwMjA1Nzk0MzM2XSwgWzI1Ljc2MzAwOTkzMjk5OTMxLCA1MS40OTExNjIzMTMwNTE2Ml0sIFsyNS43NjMwNTU2NDcyMTQ5NywgNTEuNDkxMTQ0NDIwMzE1OTRdLCBbMjUuNzYzMTAxMzYxMzk0NzQyLCA1MS40OTExMjY1Mjc1ODczMDVdLCBbMjUuNzYzMTQ3MDc1NTM4NjM3LCA1MS40OTExMDg2MzQ4NjU2Nl0sIFsyNS43NjMxOTI3ODk2NDY2NCwgNTEuNDkxMDkwNzQyMTUxMDY2XSwgWzI1Ljc2MzIzODUwMzcxODc2NCwgNTEuNDkxMDcyODQ5NDQzNDddLCBbMjUuNzYzMjg0MjE3NzU1LCA1MS40OTEwNTQ5NTY3NDI5Ml0sIFsyNS43NjMzMjk5MzE3NTUzNiwgNTEuNDkxMDM3MDY0MDQ5MzY1XSwgWzI1Ljc2MzM3NTY0NTcxOTgyNiwgNTEuNDkxMDE5MTcxMzYyODVdLCBbMjUuNzYzNDIxMzU5NjQ4NDA4LCA1MS40OTEwMDEyNzg2ODMzNV0sIFsyNS43NjM0NjcwNzM1NDExMTUsIDUxLjQ5MDk4MzM4NjAxMDg3XSwgWzI1Ljc2MzUxMjc4NzM5NzkzLCA1MS40OTA5NjU0OTMzNDU0MV0sIFsyNS43NjM1NTg1MDEyMTg4NjMsIDUxLjQ5MDk0NzYwMDY4Njk5XSwgWzI1Ljc2MzYwNDIxNTAwMzkxLCA1MS40OTA5Mjk3MDgwMzU1OV0sIFsyNS43NjM2NDk5Mjg3NTMwNzIsIDUxLjQ5MDkxMTgxNTM5MTE5XSwgWzI1Ljc2MzY5NTY0MjQ2NjM2LCA1MS40OTA4OTM5MjI3NTM4MzRdLCBbMjUuNzYzNjQ2OTY5MzM2MTUsIDUxLjQ5MDg5MDMyMTAxNDc3NF0sIFsyNS43NjM1OTMxNjM4MzY1MzIsIDUxLjQ5MDg4NzQ5NjM1NzI0Nl0sIFsyNS43NjM1MzkzNTgzNDM1ODYsIDUxLjQ5MDg4NDY3MTY5OTldLCBbMjUuNzYzNDg1NTUyODU3MjkzLCA1MS40OTA4ODE4NDcwNDI3NF0sIFsyNS43NjM0MzE3NDczNzc2NywgNTEuNDkwODc5MDIyMzg1NzNdLCBbMjUuNzYzMzc3OTQxOTA0NzA3LCA1MS40OTA4NzYxOTc3Mjg5MTZdLCBbMjUuNzYzMzI0MTM2NDM4NDEsIDUxLjQ5MDg3MzM3MzA3MjI3Nl0sIFsyNS43NjMyNzAzMzA5Nzg3NzcsIDUxLjQ5MDg3MDU0ODQxNTc5XSwgWzI1Ljc2MzIxNjUyNTUyNTgwNiwgNTEuNDkwODY3NzIzNzU5NTJdLCBbMjUuNzYzMTYyNzIwMDc5NSwgNTEuNDkwODY0ODk5MTAzMzldLCBbMjUuNzYzMTA4OTE0NjM5ODY1LCA1MS40OTA4NjIwNzQ0NDc0NV0sIFsyNS43NjMwNTUxMDkyMDY4ODUsIDUxLjQ5MDg1OTI0OTc5MTddLCBbMjUuNzYzMDAxMzAzNzgwNTc3LCA1MS40OTA4NTY0MjUxMzYwOV0sIFsyNS43NjI5NDc0OTgzNjA5MywgNTEuNDkwODUzNjAwNDgwNjc2XSwgWzI1Ljc2Mjg5MzY5Mjk0Nzk0OCwgNTEuNDkwODUwNzc1ODI1NDNdLCBbMjUuNzYyODM5ODg3NTQxNjI3LCA1MS40OTA4NDc5NTExNzAzNV0sIFsyNS43NjI3ODYwODIxNDE5OCwgNTEuNDkwODQ1MTI2NTE1NDddLCBbMjUuNzYyNzMyMjc2NzQ4OTg4LCA1MS40OTA4NDIzMDE4NjA3NF0sIFsyNS43NjI2Nzg0NzEzNjI2NzMsIDUxLjQ5MDgzOTQ3NzIwNjE5NF0sIFsyNS43NjI2MjQ2NjU5ODMwMSwgNTEuNDkwODM2NjUyNTUxODJdLCBbMjUuNzYyNTcwODYwNjEwMDIsIDUxLjQ5MDgzMzgyNzg5NzYzXSwgWzI1Ljc2MjUxNzA1NTI0MzcwMiwgNTEuNDkwODMxMDAzMjQzNjA2XSwgWzI1Ljc2MjQ2MzI0OTg4NDAzNiwgNTEuNDkwODI4MTc4NTg5NzY2XSwgWzI1Ljc2MjQwOTQ0NDUzMTA0NSwgNTEuNDkwODI1MzUzOTM2MTFdLCBbMjUuNzYyMzU1NjM5MTg0NzEsIDUxLjQ5MDgyMjUyOTI4MjYyNF0sIFsyNS43NjIzMDE4MzM4NDUwNTQsIDUxLjQ5MDgxOTcwNDYyOTI5XSwgWzI1Ljc2MjI0ODAyODUxMjA1OCwgNTEuNDkwODE2ODc5OTc2MTVdLCBbMjUuNzYyMTk0MjIzMTg1NzI3LCA1MS40OTA4MTQwNTUzMjMxOF0sIFsyNS43NjIxNDA0MTc4NjYwNjgsIDUxLjQ5MDgxMTIzMDY3MDM5XSwgWzI1Ljc2MjA4NjYxMjU1MzA2LCA1MS40OTA4MDg0MDYwMTc3Nl0sIFsyNS43NjIwMzI4MDcyNDY3MzMsIDUxLjQ5MDgwNTU4MTM2NTMyXSwgWzI1Ljc2MTk3OTAwMTk0NzA3MiwgNTEuNDkwODAyNzU2NzEzMDVdLCBbMjUuNzYxOTI1MTk2NjU0MDcsIDUxLjQ5MDc5OTkzMjA2MDk0NV0sIFsyNS43NjE4NzEzOTEzNjc3MzQsIDUxLjQ5MDc5NzEwNzQwOTA0XSwgWzI1Ljc2MTgxNzU4NjA4ODA3LCA1MS40OTA3OTQyODI3NTczXSwgWzI1Ljc2MTc2Mzc4MDgxNTA3LCA1MS40OTA3OTE0NTgxMDU3M10sIFsyNS43NjE3MDk5NzU1NDg3NCwgNTEuNDkwNzg4NjMzNDU0MzJdLCBbMjUuNzYxNjU2MTcwMjg5MDc2LCA1MS40OTA3ODU4MDg4MDMxMV0sIFsyNS43NjE2MDIzNjUwMzYwNzYsIDUxLjQ5MDc4Mjk4NDE1MjA1NV0sIFsyNS43NjE1NDg1NTk3ODk3NDUsIDUxLjQ5MDc4MDE1OTUwMTJdLCBbMjUuNzYxNDk0NzU0NTUwMDgyLCA1MS40OTA3NzczMzQ4NTA1Ml0sIFsyNS43NjE0NDA5NDkzMTcwODgsIDUxLjQ5MDc3NDUxMDE5OTk4NF0sIFsyNS43NjEzODcxNDQwOTA3NTgsIDUxLjQ5MDc3MTY4NTU0OTY1XSwgWzI1Ljc2MTMzMzMzODg3MTA5NywgNTEuNDkwNzY4ODYwODk5NDddLCBbMjUuNzYxMjc5NTMzNjU4MSwgNTEuNDkwNzY2MDM2MjQ5NDhdLCBbMjUuNzYxMjI1NzI4NDUxNzc3LCA1MS40OTA3NjMyMTE1OTk2NV0sIFsyNS43NjExNzE5MjMyNTIxMTcsIDUxLjQ5MDc2MDM4Njk1MDAxXSwgWzI1Ljc2MTExODExODA1OTEyNywgNTEuNDkwNzU3NTYyMzAwNTVdLCBbMjUuNzYxMDY0MzEyODcyODA4LCA1MS40OTA3NTQ3Mzc2NTEyNjVdLCBbMjUuNzYxMDEwNTA3NjkzMTQ3LCA1MS40OTA3NTE5MTMwMDIxNV0sIFsyNS43NjA5NTY3MDI1MjAxNjUsIDUxLjQ5MDc0OTA4ODM1MzE5XSwgWzI1Ljc2MDkwMjg5NzM1Mzg0NCwgNTEuNDkwNzQ2MjYzNzA0NDJdLCBbMjUuNzYwODQ5MDkyMTk0MTk2LCA1MS40OTA3NDM0MzkwNTU4Ml0sIFsyNS43NjA3OTUyODcwNDEyMTYsIDUxLjQ5MDc0MDYxNDQwNzQxXSwgWzI1Ljc2MDc0MTQ4MTg5NDksIDUxLjQ5MDczNzc4OTc1OTE3XSwgWzI1Ljc2MDY4NzY3Njc1NTI2LCA1MS40OTA3MzQ5NjUxMTExXSwgWzI1Ljc2MDYzMzg3MTYyMjI4MiwgNTEuNDkwNzMyMTQwNDYzMl0sIFsyNS43NjA1ODAwNjY0OTU5OCwgNTEuNDkwNzI5MzE1ODE1NDhdLCBbMjUuNzYwNTI2MjYxMzc2MzQsIDUxLjQ5MDcyNjQ5MTE2Nzk1XSwgWzI1Ljc2MDQ3MjQ1NjI2MzM3NiwgNTEuNDkwNzIzNjY2NTIwNTddLCBbMjUuNzYwNDE4NjUxMTU3MDc1LCA1MS40OTA3MjA4NDE4NzMzNzZdLCBbMjUuNzYwMzY0ODQ2MDU3NDUsIDUxLjQ5MDcxODAxNzIyNjM2XSwgWzI1Ljc2MDMxMTA0MDk2NDQ4NSwgNTEuNDkwNzE1MTkyNTc5NTJdLCBbMjUuNzYwMjU3MjM1ODc4MTk2LCA1MS40OTA3MTIzNjc5MzI4NDRdLCBbMjUuNzYwMjAzNDMwNzk4NTczLCA1MS40OTA3MDk1NDMyODYzNV0sIFsyNS43NjAxNDk2MjU3MjU2MiwgNTEuNDkwNzA2NzE4NjQwMDVdLCBbMjUuNzYwMDk1ODIwNjU5MzM4LCA1MS40OTA3MDM4OTM5OTM5XSwgWzI1Ljc2MDA0MjAxNTU5OTcyNiwgNTEuNDkwNzAxMDY5MzQ3OTJdLCBbMjUuNzU5OTg4MjEwNTQ2Nzg3LCA1MS40OTA2OTgyNDQ3MDIxM10sIFsyNS43NTk5MzQ0MDU1MDA1MDYsIDUxLjQ5MDY5NTQyMDA1NjUyNV0sIFsyNS43NTk4ODA2MDA0NjA5MDcsIDUxLjQ5MDY5MjU5NTQxMTA4XSwgWzI1Ljc1OTgyNjc5NTQyNzk4LCA1MS40OTA2ODk3NzA3NjU4XSwgWzI1Ljc1OTc3Mjk5MDQwMTcxNCwgNTEuNDkwNjg2OTQ2MTIwNzJdLCBbMjUuNzU5NzE5MTg1MzgyMTIsIDUxLjQ5MDY4NDEyMTQ3NTc5NV0sIFsyNS43NTk2NjUzODAzNjkyLCA1MS40OTA2ODEyOTY4MzEwNF0sIFsyNS43NTk2MTE1NzUzNjI5NSwgNTEuNDkwNjc4NDcyMTg2NDc0XSwgWzI1Ljc1OTU1Nzc3MDM2MzM2NSwgNTEuNDkwNjc1NjQ3NTQyMDldLCBbMjUuNzU5NTAzOTY1MzcwNDU2LCA1MS40OTA2NzI4MjI4OTc4OF0sIFsyNS43NTk0NTAxNjAzODQyMjMsIDUxLjQ5MDY2OTk5ODI1MzgyXSwgWzI1Ljc1OTM5NjM1NTQwNDY1LCA1MS40OTA2NjcxNzM2MDk5Nl0sIFsyNS43NTkzOTMyNzUxMjA5NTYsIDUxLjQ5MDY4MTU2MDQyNzddLCBbMjUuNzU5NDI2MjUxNjcyMDIsIDUxLjQ5MDcwODE4MTczOTNdLCBbMjUuNzU5NDU5MjI4MjYxNTksIDUxLjQ5MDczNDgwMzA2NjQ2Nl0sIFsyNS43NTk0OTIyMDQ4ODk2ODIsIDUxLjQ5MDc2MTQyNDQwOTE2NV0sIFsyNS43NTk1MjUxODE1NTYyOCwgNTEuNDkwNzg4MDQ1NzY3NF0sIFsyNS43NTk1NTgxNTgyNjEzOTUsIDUxLjQ5MDgxNDY2NzE0MTIxXSwgWzI1Ljc1OTU5MTEzNTAwNTAyNCwgNTEuNDkwODQxMjg4NTMwNTRdLCBbMjUuNzU5NjI0MTExNzg3MTY1LCA1MS40OTA4Njc5MDk5MzU0MV0sIFsyNS43NTk2NTcwODg2MDc4MjQsIDUxLjQ5MDg5NDUzMTM1NTgzNV0sIFsyNS43NTk2OTAwNjU0NjY5OSwgNTEuNDkwOTIxMTUyNzkxOF0sIFsyNS43NTk3MjMwNDIzNjQ2NywgNTEuNDkwOTQ3Nzc0MjQzMzI0XSwgWzI1Ljc1OTc1NjAxOTMwMDg3LCA1MS40OTA5NzQzOTU3MTAzNzRdLCBbMjUuNzU5Nzg4OTk2Mjc1NTgsIDUxLjQ5MTAwMTAxNzE5Mjk4XSwgWzI1Ljc1OTgyMTk3MzI4ODgxLCA1MS40OTEwMjc2Mzg2OTExMzZdLCBbMjUuNzU5ODU0OTUwMzQwNTQsIDUxLjQ5MTA1NDI2MDIwNDgxXSwgWzI1Ljc1OTg4NzkyNzQzMDc5MywgNTEuNDkxMDgwODgxNzM0MDY0XSwgWzI1Ljc1OTkyMDkwNDU1OTU1NywgNTEuNDkxMTA3NTAzMjc4ODVdLCBbMjUuNzU5OTUzODgxNzI2ODQsIDUxLjQ5MTEzNDEyNDgzOTJdLCBbMjUuNzU5OTg2ODU4OTMyNjMsIDUxLjQ5MTE2MDc0NjQxNTA3XSwgWzI1Ljc2MDAxOTgzNjE3NjkzNywgNTEuNDkxMTg3MzY4MDA2NDg2XSwgWzI1Ljc2MDA1MjgxMzQ1OTc2LCA1MS40OTEyMTM5ODk2MTM0NV0sIFsyNS43NjAwODU3OTA3ODEwOTQsIDUxLjQ5MTI0MDYxMTIzNTk2Nl0sIFsyNS43NjAxMTg3NjgxNDA5NCwgNTEuNDkxMjY3MjMyODc0MDJdLCBbMjUuNzYwMTUxNzQ1NTM5MzEsIDUxLjQ5MTI5Mzg1NDUyNzYyNl0sIFsyNS43NjAxODQ3MjI5NzYxOSwgNTEuNDkxMzIwNDc2MTk2NzldLCBbMjUuNzYwMjE3NzAwNDUxNTg0LCA1MS40OTEzNDcwOTc4ODE0OF0sIFsyNS43NjAyNTA2Nzc5NjU0ODcsIDUxLjQ5MTM3MzcxOTU4MTcxNl0sIFsyNS43NjAyODM2NTU1MTc5MSwgNTEuNDkxNDAwMzQxMjk3NTA2XSwgWzI1Ljc2MDMxNjYzMzEwODg1LCA1MS40OTE0MjY5NjMwMjg4M10sIFsyNS43NjAzNDk2MTA3MzgyOTUsIDUxLjQ5MTQ1MzU4NDc3NTcxXSwgWzI1Ljc2MDM4MjU4ODQwNjI2MiwgNTEuNDkxNDgwMjA2NTM4MTNdLCBbMjUuNzYwNDE1NTY2MTEyNzQsIDUxLjQ5MTUwNjgyODMxNjEwNV0sIFsyNS43NjA0NDg1NDM4NTc3MzQsIDUxLjQ5MTUzMzQ1MDEwOTYxNF0sIFsyNS43NjA0ODE1MjE2NDEyNTMsIDUxLjQ5MTU2MDA3MTkxODY4NF0sIFsyNS43NjA1MTQ0OTk0NjMyNywgNTEuNDkxNTg2NjkzNzQzMjhdLCBbMjUuNzYwNTQ3NDc3MzIzODA0LCA1MS40OTE2MTMzMTU1ODM0MzZdLCBbMjUuNzYwNTgwNDU1MjIyODYsIDUxLjQ5MTYzOTkzNzQzOTEzXSwgWzI1Ljc2MDYxMzQzMzE2MDQzMywgNTEuNDkxNjY2NTU5MzEwMzk2XSwgWzI1Ljc2MDY0NjQxMTEzNjUyLCA1MS40OTE2OTMxODExOTcxOF0sIFsyNS43NjA2NzkzODkxNTExMSwgNTEuNDkxNzE5ODAzMDk5NTE0XSwgWzI1Ljc2MDcxMjM2NzIwNDIyNCwgNTEuNDkxNzQ2NDI1MDE3Mzk2XSwgWzI1Ljc2MDc0NTM0NTI5NTg2LCA1MS40OTE3NzMwNDY5NTA4Ml0sIFsyNS43NjA3NzgzMjM0MjU5OTUsIDUxLjQ5MTc5OTY2ODg5OThdLCBbMjUuNzYwODExMzAxNTk0NjU0LCA1MS40OTE4MjYyOTA4NjQzM10sIFsyNS43NjA4NDQyNzk4MDE4MzQsIDUxLjQ5MTg1MjkxMjg0NDM5XSwgWzI1Ljc2MDg3NzI1ODA0NzUyNSwgNTEuNDkxODc5NTM0ODRdLCBbMjUuNzYwOTEwMjM2MzMxNzI1LCA1MS40OTE5MDYxNTY4NTExNl0sIFsyNS43NjA5NDMyMTQ2NTQ0NDMsIDUxLjQ5MTkzMjc3ODg3Nzg5XSwgWzI1Ljc2MDk3NjE5MzAxNTY4MywgNTEuNDkxOTU5NDAwOTIwMTRdLCBbMjUuNzYxMDA5MTcxNDE1NDM0LCA1MS40OTE5ODYwMjI5Nzc5M10sIFsyNS43NjEwNDIxNDk4NTM3LCA1MS40OTIwMTI2NDUwNTEyOF0sIFsyNS43NjEwNzUxMjgzMzA0OCwgNTEuNDkyMDM5MjY3MTQwMThdLCBbMjUuNzYxMTA4MTA2ODQ1NzgsIDUxLjQ5MjA2NTg4OTI0NDZdLCBbMjUuNzYxMTQxMDg1Mzk5NTksIDUxLjQ5MjA5MjUxMTM2NDU5Nl0sIFsyNS43NjExNzQwNjM5OTE5MiwgNTEuNDkyMTE5MTMzNTAwMTI1XSwgWzI1Ljc2MTIwNzA0MjYyMjc1OCwgNTEuNDkyMTQ1NzU1NjUxMl0sIFsyNS43NjEyNDAwMjEyOTIxMiwgNTEuNDkyMTcyMzc3ODE3ODRdLCBbMjUuNzYxMjczLCA1MS40OTIxOTldXSwgInR5cGUiOiAiTGluZVN0cmluZyJ9LCAicHJvcGVydGllcyI6IHsicG9wdXAiOiAiUG9ydGxhbmQsIE9SIiwgInRpbWVzIjogWzE1MzQ1NzkyMDAwMDAuMCwgMTUzNDU3OTIwNjY5OC40OTI0LCAxNTM0NTc5MjEzMzk2Ljk4NDksIDE1MzQ1NzkyMjAwOTUuNDc3MywgMTUzNDU3OTIyNjc5My45NywgMTUzNDU3OTIzMzQ5Mi40NjI0LCAxNTM0NTc5MjQwMTkwLjk1NDgsIDE1MzQ1NzkyNDY4ODkuNDQ3MywgMTUzNDU3OTI1MzU4Ny45Mzk3LCAxNTM0NTc5MjYwMjg2LjQzMjEsIDE1MzQ1NzkyNjY5ODQuOTI0NiwgMTUzNDU3OTI3MzY4My40MTcsIDE1MzQ1NzkyODAzODEuOTA5NywgMTUzNDU3OTI4NzA4MC40MDIsIDE1MzQ1NzkyOTM3NzguODk0NSwgMTUzNDU3OTMwMDQ3Ny4zODcsIDE1MzQ1NzkzMDcxNzUuODc5NCwgMTUzNDU3OTMxMzg3NC4zNzE4LCAxNTM0NTc5MzIwNTcyLjg2NDMsIDE1MzQ1NzkzMjcyNzEuMzU2NywgMTUzNDU3OTMzMzk2OS44NDk0LCAxNTM0NTc5MzQwNjY4LjM0MTgsIDE1MzQ1NzkzNDczNjYuODM0MiwgMTUzNDU3OTM1NDA2NS4zMjY3LCAxNTM0NTc5MzYwNzYzLjgxOSwgMTUzNDU3OTM2NzQ2Mi4zMTE1LCAxNTM0NTc5Mzc0MTYwLjgwNCwgMTUzNDU3OTM4MDg1OS4yOTY0LCAxNTM0NTc5Mzg3NTU3Ljc4OSwgMTUzNDU3OTM5NDI1Ni4yODE1LCAxNTM0NTc5NDAwOTU0Ljc3NCwgMTUzNDU3OTQwNzY1My4yNjY0LCAxNTM0NTc5NDE0MzUxLjc1ODgsIDE1MzQ1Nzk0MjEwNTAuMjUxMiwgMTUzNDU3OTQyNzc0OC43NDM3LCAxNTM0NTc5NDM0NDQ3LjIzNiwgMTUzNDU3OTQ0MTE0NS43Mjg4LCAxNTM0NTc5NDQ3ODQ0LjIyMTIsIDE1MzQ1Nzk0NTQ1NDIuNzEzNiwgMTUzNDU3OTQ2MTI0MS4yMDYsIDE1MzQ1Nzk0Njc5MzkuNjk4NSwgMTUzNDU3OTQ3NDYzOC4xOTEsIDE1MzQ1Nzk0ODEzMzYuNjgzMywgMTUzNDU3OTQ4ODAzNS4xNzU4LCAxNTM0NTc5NDk0NzMzLjY2ODUsIDE1MzQ1Nzk1MDE0MzIuMTYxLCAxNTM0NTc5NTA4MTMwLjY1MzMsIDE1MzQ1Nzk1MTQ4MjkuMTQ1OCwgMTUzNDU3OTUyMTUyNy42MzgyLCAxNTM0NTc5NTI4MjI2LjEzMDYsIDE1MzQ1Nzk1MzQ5MjQuNjIzLCAxNTM0NTc5NTQxNjIzLjExNTUsIDE1MzQ1Nzk1NDgzMjEuNjA4MiwgMTUzNDU3OTU1NTAyMC4xMDA2LCAxNTM0NTc5NTYxNzE4LjU5MywgMTUzNDU3OTU2ODQxNy4wODU0LCAxNTM0NTc5NTc1MTE1LjU3OCwgMTUzNDU3OTU4MTgxNC4wNzAzLCAxNTM0NTc5NTg4NTEyLjU2MjcsIDE1MzQ1Nzk1OTUyMTEuMDU1MiwgMTUzNDU3OTYwMTkwOS41NDc5LCAxNTM0NTc5NjA4NjA4LjA0MDMsIDE1MzQ1Nzk2MTUzMDYuNTMyNywgMTUzNDU3OTYyMjAwNS4wMjUxLCAxNTM0NTc5NjI4NzAzLjUxNzYsIDE1MzQ1Nzk2MzU0MDIuMDEsIDE1MzQ1Nzk2NDIxMDAuNTAyNCwgMTUzNDU3OTY0ODc5OC45OTQ5LCAxNTM0NTc5NjU1NDk3LjQ4NzUsIDE1MzQ1Nzk2NjIxOTUuOTgsIDE1MzQ1Nzk2Njg4OTQuNDcyNCwgMTUzNDU3OTY3NTU5Mi45NjQ4LCAxNTM0NTc5NjgyMjkxLjQ1NzMsIDE1MzQ1Nzk2ODg5ODkuOTQ5NywgMTUzNDU3OTY5NTY4OC40NDIxLCAxNTM0NTc5NzAyMzg2LjkzNDYsIDE1MzQ1Nzk3MDkwODUuNDI3MiwgMTUzNDU3OTcxNTc4My45MTk3LCAxNTM0NTc5NzIyNDgyLjQxMiwgMTUzNDU3OTcyOTE4MC45MDQ1LCAxNTM0NTc5NzM1ODc5LjM5NywgMTUzNDU3OTc0MjU3Ny44ODk0LCAxNTM0NTc5NzQ5Mjc2LjM4MTgsIDE1MzQ1Nzk3NTU5NzQuODc0MywgMTUzNDU3OTc2MjY3My4zNjcsIDE1MzQ1Nzk3NjkzNzEuODU5NCwgMTUzNDU3OTc3NjA3MC4zNTE4LCAxNTM0NTc5NzgyNzY4Ljg0NDIsIDE1MzQ1Nzk3ODk0NjcuMzM2NywgMTUzNDU3OTc5NjE2NS44MjksIDE1MzQ1Nzk4MDI4NjQuMzIxNSwgMTUzNDU3OTgwOTU2Mi44MTQsIDE1MzQ1Nzk4MTYyNjEuMzA2NiwgMTUzNDU3OTgyMjk1OS43OTksIDE1MzQ1Nzk4Mjk2NTguMjkxNSwgMTUzNDU3OTgzNjM1Ni43ODQsIDE1MzQ1Nzk4NDMwNTUuMjc2NCwgMTUzNDU3OTg0OTc1My43Njg4LCAxNTM0NTc5ODU2NDUyLjI2MTIsIDE1MzQ1Nzk4NjMxNTAuNzUzNywgMTUzNDU3OTg2OTg0OS4yNDYzLCAxNTM0NTc5ODc2NTQ3LjczODgsIDE1MzQ1Nzk4ODMyNDYuMjMxMiwgMTUzNDU3OTg4OTk0NC43MjM2LCAxNTM0NTc5ODk2NjQzLjIxNiwgMTUzNDU3OTkwMzM0MS43MDg1LCAxNTM0NTc5OTEwMDQwLjIwMSwgMTUzNDU3OTkxNjczOC42OTM0LCAxNTM0NTc5OTIzNDM3LjE4NiwgMTUzNDU3OTkzMDEzNS42Nzg1LCAxNTM0NTc5OTM2ODM0LjE3MSwgMTUzNDU3OTk0MzUzMi42NjMzLCAxNTM0NTc5OTUwMjMxLjE1NTgsIDE1MzQ1Nzk5NTY5MjkuNjQ4MiwgMTUzNDU3OTk2MzYyOC4xNDA2LCAxNTM0NTc5OTcwMzI2LjYzMywgMTUzNDU3OTk3NzAyNS4xMjU3LCAxNTM0NTc5OTgzNzIzLjYxODIsIDE1MzQ1Nzk5OTA0MjIuMTEwNiwgMTUzNDU3OTk5NzEyMC42MDMsIDE1MzQ1ODAwMDM4MTkuMDk1NSwgMTUzNDU4MDAxMDUxNy41ODgsIDE1MzQ1ODAwMTcyMTYuMDgwMywgMTUzNDU4MDAyMzkxNC41NzI4LCAxNTM0NTgwMDMwNjEzLjA2NTQsIDE1MzQ1ODAwMzczMTEuNTU3OSwgMTUzNDU4MDA0NDAxMC4wNTAzLCAxNTM0NTgwMDUwNzA4LjU0MjcsIDE1MzQ1ODAwNTc0MDcuMDM1MiwgMTUzNDU4MDA2NDEwNS41Mjc2LCAxNTM0NTgwMDcwODA0LjAyLCAxNTM0NTgwMDc3NTAyLjUxMjUsIDE1MzQ1ODAwODQyMDEuMDA1MSwgMTUzNDU4MDA5MDg5OS40OTc2LCAxNTM0NTgwMDk3NTk3Ljk5LCAxNTM0NTgwMTA0Mjk2LjQ4MjQsIDE1MzQ1ODAxMTA5OTQuOTc0OSwgMTUzNDU4MDExNzY5My40NjczLCAxNTM0NTgwMTI0MzkxLjk1OTcsIDE1MzQ1ODAxMzEwOTAuNDUyMSwgMTUzNDU4MDEzNzc4OC45NDQ4LCAxNTM0NTgwMTQ0NDg3LjQzNzMsIDE1MzQ1ODAxNTExODUuOTI5NywgMTUzNDU4MDE1Nzg4NC40MjIsIDE1MzQ1ODAxNjQ1ODIuOTE0NiwgMTUzNDU4MDE3MTI4MS40MDcsIDE1MzQ1ODAxNzc5NzkuODk5NCwgMTUzNDU4MDE4NDY3OC4zOTE4LCAxNTM0NTgwMTkxMzc2Ljg4NDUsIDE1MzQ1ODAxOTgwNzUuMzc3LCAxNTM0NTgwMjA0NzczLjg2OTQsIDE1MzQ1ODAyMTE0NzIuMzYxOCwgMTUzNDU4MDIxODE3MC44NTQyLCAxNTM0NTgwMjI0ODY5LjM0NjcsIDE1MzQ1ODAyMzE1NjcuODM5LCAxNTM0NTgwMjM4MjY2LjMzMTUsIDE1MzQ1ODAyNDQ5NjQuODI0MiwgMTUzNDU4MDI1MTY2My4zMTY3LCAxNTM0NTgwMjU4MzYxLjgwOSwgMTUzNDU4MDI2NTA2MC4zMDE1LCAxNTM0NTgwMjcxNzU4Ljc5NCwgMTUzNDU4MDI3ODQ1Ny4yODY0LCAxNTM0NTgwMjg1MTU1Ljc3ODgsIDE1MzQ1ODAyOTE4NTQuMjcxMiwgMTUzNDU4MDI5ODU1Mi43NjQsIDE1MzQ1ODAzMDUyNTEuMjU2MywgMTUzNDU4MDMxMTk0OS43NDg4LCAxNTM0NTgwMzE4NjQ4LjI0MTIsIDE1MzQ1ODAzMjUzNDYuNzMzNiwgMTUzNDU4MDMzMjA0NS4yMjYsIDE1MzQ1ODAzMzg3NDMuNzE4NSwgMTUzNDU4MDM0NTQ0Mi4yMTEsIDE1MzQ1ODAzNTIxNDAuNzAzNiwgMTUzNDU4MDM1ODgzOS4xOTYsIDE1MzQ1ODAzNjU1MzcuNjg4NSwgMTUzNDU4MDM3MjIzNi4xODEsIDE1MzQ1ODAzNzg5MzQuNjczMywgMTUzNDU4MDM4NTYzMy4xNjU4LCAxNTM0NTgwMzkyMzMxLjY1ODIsIDE1MzQ1ODAzOTkwMzAuMTUwNiwgMTUzNDU4MDQwNTcyOC42NDMzLCAxNTM0NTgwNDEyNDI3LjEzNTcsIDE1MzQ1ODA0MTkxMjUuNjI4MiwgMTUzNDU4MDQyNTgyNC4xMjA2LCAxNTM0NTgwNDMyNTIyLjYxMywgMTUzNDU4MDQzOTIyMS4xMDU1LCAxNTM0NTgwNDQ1OTE5LjU5OCwgMTUzNDU4MDQ1MjYxOC4wOTAzLCAxNTM0NTgwNDU5MzE2LjU4MywgMTUzNDU4MDQ2NjAxNS4wNzU0LCAxNTM0NTgwNDcyNzEzLjU2NzksIDE1MzQ1ODA0Nzk0MTIuMDYwMywgMTUzNDU4MDQ4NjExMC41NTI3LCAxNTM0NTgwNDkyODA5LjA0NTIsIDE1MzQ1ODA0OTk1MDcuNTM3NiwgMTUzNDU4MDUwNjIwNi4wMywgMTUzNDU4MDUxMjkwNC41MjI3LCAxNTM0NTgwNTE5NjAzLjAxNTEsIDE1MzQ1ODA1MjYzMDEuNTA3NiwgMTUzNDU4MDUzMzAwMC4wXX0sICJ0eXBlIjogIkZlYXR1cmUifV0sICJ0eXBlIjogIkZlYXR1cmVDb2xsZWN0aW9uIn0sIHsKICAgICAgICAgICAgICAgICAgICBwb2ludFRvTGF5ZXI6IGZ1bmN0aW9uIChmZWF0dXJlLCBsYXRMbmcpIHsKICAgICAgICAgICAgICAgICAgICAgICAgaWYgKGZlYXR1cmUucHJvcGVydGllcy5pY29uID09ICdtYXJrZXInKSB7CiAgICAgICAgICAgICAgICAgICAgICAgICAgICBpZihmZWF0dXJlLnByb3BlcnRpZXMuaWNvbnN0eWxlKXsKICAgICAgICAgICAgICAgICAgICAgICAgICAgICAgICByZXR1cm4gbmV3IEwuTWFya2VyKGxhdExuZywgewogICAgICAgICAgICAgICAgICAgICAgICAgICAgICAgICAgICBpY29uOiBMLmljb24oZmVhdHVyZS5wcm9wZXJ0aWVzLmljb25zdHlsZSl9KTsKICAgICAgICAgICAgICAgICAgICAgICAgICAgIH0KICAgICAgICAgICAgICAgICAgICAgICAgICAgIC8vZWxzZQogICAgICAgICAgICAgICAgICAgICAgICAgICAgcmV0dXJuIG5ldyBMLk1hcmtlcihsYXRMbmcpOwogICAgICAgICAgICAgICAgICAgICAgICB9CiAgICAgICAgICAgICAgICAgICAgICAgIGlmIChmZWF0dXJlLnByb3BlcnRpZXMuaWNvbiA9PSAnY2lyY2xlJykgewogICAgICAgICAgICAgICAgICAgICAgICAgICAgaWYgKGZlYXR1cmUucHJvcGVydGllcy5pY29uc3R5bGUpIHsKICAgICAgICAgICAgICAgICAgICAgICAgICAgICAgICByZXR1cm4gbmV3IEwuY2lyY2xlTWFya2VyKGxhdExuZywgZmVhdHVyZS5wcm9wZXJ0aWVzLmljb25zdHlsZSkKICAgICAgICAgICAgICAgICAgICAgICAgICAgICAgICB9OwogICAgICAgICAgICAgICAgICAgICAgICAgICAgLy9lbHNlCiAgICAgICAgICAgICAgICAgICAgICAgICAgICByZXR1cm4gbmV3IEwuY2lyY2xlTWFya2VyKGxhdExuZyk7CiAgICAgICAgICAgICAgICAgICAgICAgIH0KICAgICAgICAgICAgICAgICAgICAgICAgLy9lbHNlCgogICAgICAgICAgICAgICAgICAgICAgICByZXR1cm4gbmV3IEwuTWFya2VyKGxhdExuZyk7CiAgICAgICAgICAgICAgICAgICAgfSwKICAgICAgICAgICAgICAgICAgICBzdHlsZTogZnVuY3Rpb24gKGZlYXR1cmUpIHsKICAgICAgICAgICAgICAgICAgICAgICAgcmV0dXJuIGZlYXR1cmUucHJvcGVydGllcy5zdHlsZTsKICAgICAgICAgICAgICAgICAgICB9LAogICAgICAgICAgICAgICAgICAgIG9uRWFjaEZlYXR1cmU6IGZ1bmN0aW9uKGZlYXR1cmUsIGxheWVyKSB7CiAgICAgICAgICAgICAgICAgICAgICAgIGlmIChmZWF0dXJlLnByb3BlcnRpZXMucG9wdXApIHsKICAgICAgICAgICAgICAgICAgICAgICAgbGF5ZXIuYmluZFBvcHVwKGZlYXR1cmUucHJvcGVydGllcy5wb3B1cCk7CiAgICAgICAgICAgICAgICAgICAgICAgIH0KICAgICAgICAgICAgICAgICAgICB9CiAgICAgICAgICAgICAgICB9KQoKICAgICAgICAgICAgdmFyIHRpbWVzdGFtcGVkX2dlb19qc29uXzAzYjBjM2MwN2Y1ZTRiYmQ4ODViNTQ4YmUwOTg4YjNmID0gTC50aW1lRGltZW5zaW9uLmxheWVyLmdlb0pzb24oZ2VvSnNvbkxheWVyLAogICAgICAgICAgICAgICAge3VwZGF0ZVRpbWVEaW1lbnNpb246IHRydWUsCiAgICAgICAgICAgICAgICAgYWRkbGFzdFBvaW50OiB0cnVlLAogICAgICAgICAgICAgICAgIGR1cmF0aW9uOiB1bmRlZmluZWQsCiAgICAgICAgICAgICAgICB9KS5hZGRUbyhtYXBfYWFkMGQwZTk3ZmZjNDg0MjliOTllZGViYWE5MzAwZWQpOwogICAgICAgIAogICAgCiAgICAgICAgICAgIHZhciBjaXJjbGVfbWFya2VyX2FmMjkxODhjOTdjNDRhZWJiOGM3MGM4YzY0ZmM2MjRjID0gTC5jaXJjbGVNYXJrZXIoCiAgICAgICAgICAgICAgICBbNTEuNDkyMTk5LCAyNS43NjEyNzNdLAogICAgICAgICAgICAgICAgewogICJidWJibGluZ01vdXNlRXZlbnRzIjogdHJ1ZSwKICAiY29sb3IiOiAiI2ZmMDAwMCIsCiAgImRhc2hBcnJheSI6IG51bGwsCiAgImRhc2hPZmZzZXQiOiBudWxsLAogICJmaWxsIjogZmFsc2UsCiAgImZpbGxDb2xvciI6ICIjZmYwMDAwIiwKICAiZmlsbE9wYWNpdHkiOiAwLjIsCiAgImZpbGxSdWxlIjogImV2ZW5vZGQiLAogICJsaW5lQ2FwIjogInJvdW5kIiwKICAibGluZUpvaW4iOiAicm91bmQiLAogICJvcGFjaXR5IjogMS4wLAogICJyYWRpdXMiOiA4LAogICJzdHJva2UiOiB0cnVlLAogICJ3ZWlnaHQiOiAzCn0KICAgICAgICAgICAgICAgICkKICAgICAgICAgICAgICAgIC5hZGRUbyhtYXBfYWFkMGQwZTk3ZmZjNDg0MjliOTllZGViYWE5MzAwZWQpOwogICAgICAgICAgICAKICAgIAogICAgICAgICAgICB2YXIgY2lyY2xlX21hcmtlcl8zNzdhMmY0MWNkZTU0ZDg2ODIwMDY1MWUzMjMxNzYyZiA9IEwuY2lyY2xlTWFya2VyKAogICAgICAgICAgICAgICAgWzUxLjQ5MTc1OCwgMjUuNzYxNDg4XSwKICAgICAgICAgICAgICAgIHsKICAiYnViYmxpbmdNb3VzZUV2ZW50cyI6IHRydWUsCiAgImNvbG9yIjogIiNmZjAwMDAiLAogICJkYXNoQXJyYXkiOiBudWxsLAogICJkYXNoT2Zmc2V0IjogbnVsbCwKICAiZmlsbCI6IGZhbHNlLAogICJmaWxsQ29sb3IiOiAiI2ZmMDAwMCIsCiAgImZpbGxPcGFjaXR5IjogMC4yLAogICJmaWxsUnVsZSI6ICJldmVub2RkIiwKICAibGluZUNhcCI6ICJyb3VuZCIsCiAgImxpbmVKb2luIjogInJvdW5kIiwKICAib3BhY2l0eSI6IDEuMCwKICAicmFkaXVzIjogOCwKICAic3Ryb2tlIjogdHJ1ZSwKICAid2VpZ2h0IjogMwp9CiAgICAgICAgICAgICAgICApCiAgICAgICAgICAgICAgICAuYWRkVG8obWFwX2FhZDBkMGU5N2ZmYzQ4NDI5Yjk5ZWRlYmFhOTMwMGVkKTsKICAgICAgICAgICAgCiAgICAKICAgICAgICAgICAgdmFyIGNpcmNsZV9tYXJrZXJfNzY3NjE0MjQ2ZDRiNGE2ZGE1Yzc3MmZlMzVhZGZkMTAgPSBMLmNpcmNsZU1hcmtlcigKICAgICAgICAgICAgICAgIFs1MS40OTA4OTMsIDI1Ljc2MzY5OF0sCiAgICAgICAgICAgICAgICB7CiAgImJ1YmJsaW5nTW91c2VFdmVudHMiOiB0cnVlLAogICJjb2xvciI6ICIjZmYwMDAwIiwKICAiZGFzaEFycmF5IjogbnVsbCwKICAiZGFzaE9mZnNldCI6IG51bGwsCiAgImZpbGwiOiBmYWxzZSwKICAiZmlsbENvbG9yIjogIiNmZjAwMDAiLAogICJmaWxsT3BhY2l0eSI6IDAuMiwKICAiZmlsbFJ1bGUiOiAiZXZlbm9kZCIsCiAgImxpbmVDYXAiOiAicm91bmQiLAogICJsaW5lSm9pbiI6ICJyb3VuZCIsCiAgIm9wYWNpdHkiOiAxLjAsCiAgInJhZGl1cyI6IDgsCiAgInN0cm9rZSI6IHRydWUsCiAgIndlaWdodCI6IDMKfQogICAgICAgICAgICAgICAgKQogICAgICAgICAgICAgICAgLmFkZFRvKG1hcF9hYWQwZDBlOTdmZmM0ODQyOWI5OWVkZWJhYTkzMDBlZCk7CiAgICAgICAgICAgIAogICAgCiAgICAgICAgICAgIHZhciBjaXJjbGVfbWFya2VyX2ZjNTA1MmMxMjQ4NjRiYTQ5MTYxOTk0OTdkNzBmOTUwID0gTC5jaXJjbGVNYXJrZXIoCiAgICAgICAgICAgICAgICBbNTEuNDkwNjY2LCAyNS43NTkzNzRdLAogICAgICAgICAgICAgICAgewogICJidWJibGluZ01vdXNlRXZlbnRzIjogdHJ1ZSwKICAiY29sb3IiOiAiI2ZmMDAwMCIsCiAgImRhc2hBcnJheSI6IG51bGwsCiAgImRhc2hPZmZzZXQiOiBudWxsLAogICJmaWxsIjogZmFsc2UsCiAgImZpbGxDb2xvciI6ICIjZmYwMDAwIiwKICAiZmlsbE9wYWNpdHkiOiAwLjIsCiAgImZpbGxSdWxlIjogImV2ZW5vZGQiLAogICJsaW5lQ2FwIjogInJvdW5kIiwKICAibGluZUpvaW4iOiAicm91bmQiLAogICJvcGFjaXR5IjogMS4wLAogICJyYWRpdXMiOiA4LAogICJzdHJva2UiOiB0cnVlLAogICJ3ZWlnaHQiOiAzCn0KICAgICAgICAgICAgICAgICkKICAgICAgICAgICAgICAgIC5hZGRUbyhtYXBfYWFkMGQwZTk3ZmZjNDg0MjliOTllZGViYWE5MzAwZWQpOwogICAgICAgICAgICAKICAgIAogICAgICAgICAgICB2YXIgY2lyY2xlX21hcmtlcl9jOGNjMzczODBhOWM0MTAzYjY1YmRkZDliMmVkMjhmNyA9IEwuY2lyY2xlTWFya2VyKAogICAgICAgICAgICAgICAgWzUxLjQ5MjE5OSwgMjUuNzYxMjczXSwKICAgICAgICAgICAgICAgIHsKICAiYnViYmxpbmdNb3VzZUV2ZW50cyI6IHRydWUsCiAgImNvbG9yIjogIiNmZjAwMDAiLAogICJkYXNoQXJyYXkiOiBudWxsLAogICJkYXNoT2Zmc2V0IjogbnVsbCwKICAiZmlsbCI6IGZhbHNlLAogICJmaWxsQ29sb3IiOiAiI2ZmMDAwMCIsCiAgImZpbGxPcGFjaXR5IjogMC4yLAogICJmaWxsUnVsZSI6ICJldmVub2RkIiwKICAibGluZUNhcCI6ICJyb3VuZCIsCiAgImxpbmVKb2luIjogInJvdW5kIiwKICAib3BhY2l0eSI6IDEuMCwKICAicmFkaXVzIjogOCwKICAic3Ryb2tlIjogdHJ1ZSwKICAid2VpZ2h0IjogMwp9CiAgICAgICAgICAgICAgICApCiAgICAgICAgICAgICAgICAuYWRkVG8obWFwX2FhZDBkMGU5N2ZmYzQ4NDI5Yjk5ZWRlYmFhOTMwMGVkKTsKICAgICAgICAgICAgCjwvc2NyaXB0Pg==\" style=\"position:absolute;width:100%;height:100%;left:0;top:0;border:none !important;\" allowfullscreen webkitallowfullscreen mozallowfullscreen></iframe></div></div>"
      ],
      "text/plain": [
       "<folium.folium.Map at 0x7efbf4aee0f0>"
      ]
     },
     "execution_count": 149,
     "metadata": {},
     "output_type": "execute_result"
    }
   ],
   "source": [
    "folium_map = folium.Map(location=trace_script.BASE_POINT,\n",
    "                        zoom_start=14,\n",
    "                        tiles=\"openstreetmap\")\n",
    "\n",
    "data = {\n",
    "    'type': 'FeatureCollection',\n",
    "    'features': [\n",
    "      ]\n",
    "    }\n",
    "\n",
    "for i in range(5):\n",
    "    d = create_geo_json_dict(new_swim_trace, df['t_swim_sec'][i])\n",
    "    data['features'].append(d)\n",
    "    \n",
    "tgs = TimestampedGeoJson(data, period='PT1S')\n",
    "folium_map.add_child(tgs)\n",
    "folium_map = trace_script.map_add_circles(folium_map, trace_script.SWIM, radius=8, color='#ff0000')\n",
    "folium_map"
   ]
  },
  {
   "cell_type": "code",
   "execution_count": null,
   "metadata": {},
   "outputs": [],
   "source": []
  },
  {
   "cell_type": "code",
   "execution_count": null,
   "metadata": {},
   "outputs": [],
   "source": []
  },
  {
   "cell_type": "code",
   "execution_count": null,
   "metadata": {},
   "outputs": [],
   "source": []
  }
 ],
 "metadata": {
  "kernelspec": {
   "display_name": "Python 3",
   "language": "python",
   "name": "python3"
  },
  "language_info": {
   "codemirror_mode": {
    "name": "ipython",
    "version": 3
   },
   "file_extension": ".py",
   "mimetype": "text/x-python",
   "name": "python",
   "nbconvert_exporter": "python",
   "pygments_lexer": "ipython3",
   "version": "3.5.2"
  }
 },
 "nbformat": 4,
 "nbformat_minor": 2
}
